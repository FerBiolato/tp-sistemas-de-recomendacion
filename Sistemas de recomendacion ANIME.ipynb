{
 "cells": [
  {
   "cell_type": "markdown",
   "metadata": {},
   "source": [
    "PARA PONER EN PRACTICA EL SISTEMA DE RECOMENDACION UTILIZAREMOS EL DATASET MAS CONVENIENTE: RATING_COMPLETE.CSV"
   ]
  },
  {
   "cell_type": "markdown",
   "metadata": {},
   "source": [
    "Este dataset es un subconjunto de animelist.csv. El mismo, solo considera los animes que el usuario ha visto por completo (watchin_status = 2), y le ha otorgado una puntacion distinta de cero.  \n",
    "Contiene 57 millones de calificaciones aplicadas a 16.872 animes por 310.059 usuarios. "
   ]
  },
  {
   "cell_type": "code",
   "execution_count": 1,
   "metadata": {},
   "outputs": [],
   "source": [
    "#Importamos las librerias que utilizaremos\n",
    "import pandas as pd\n",
    "import numpy as np\n",
    "import matplotlib.pyplot as plt\n",
    "import seaborn as sns "
   ]
  },
  {
   "cell_type": "code",
   "execution_count": 2,
   "metadata": {},
   "outputs": [],
   "source": [
    "rating_complete = pd.read_csv(r\"C:\\Users\\ferbi\\OneDrive\\Desktop\\Fer\\DATASCIENCE\\Cuarto TP Sistemas de recomendacion\\archive (10)\\rating_complete.csv\")"
   ]
  },
  {
   "cell_type": "code",
   "execution_count": 3,
   "metadata": {},
   "outputs": [
    {
     "data": {
      "text/html": [
       "<div>\n",
       "<style scoped>\n",
       "    .dataframe tbody tr th:only-of-type {\n",
       "        vertical-align: middle;\n",
       "    }\n",
       "\n",
       "    .dataframe tbody tr th {\n",
       "        vertical-align: top;\n",
       "    }\n",
       "\n",
       "    .dataframe thead th {\n",
       "        text-align: right;\n",
       "    }\n",
       "</style>\n",
       "<table border=\"1\" class=\"dataframe\">\n",
       "  <thead>\n",
       "    <tr style=\"text-align: right;\">\n",
       "      <th></th>\n",
       "      <th>user_id</th>\n",
       "      <th>anime_id</th>\n",
       "      <th>rating</th>\n",
       "    </tr>\n",
       "  </thead>\n",
       "  <tbody>\n",
       "    <tr>\n",
       "      <th>0</th>\n",
       "      <td>0</td>\n",
       "      <td>430</td>\n",
       "      <td>9</td>\n",
       "    </tr>\n",
       "    <tr>\n",
       "      <th>1</th>\n",
       "      <td>0</td>\n",
       "      <td>1004</td>\n",
       "      <td>5</td>\n",
       "    </tr>\n",
       "    <tr>\n",
       "      <th>2</th>\n",
       "      <td>0</td>\n",
       "      <td>3010</td>\n",
       "      <td>7</td>\n",
       "    </tr>\n",
       "    <tr>\n",
       "      <th>3</th>\n",
       "      <td>0</td>\n",
       "      <td>570</td>\n",
       "      <td>7</td>\n",
       "    </tr>\n",
       "    <tr>\n",
       "      <th>4</th>\n",
       "      <td>0</td>\n",
       "      <td>2762</td>\n",
       "      <td>9</td>\n",
       "    </tr>\n",
       "  </tbody>\n",
       "</table>\n",
       "</div>"
      ],
      "text/plain": [
       "   user_id  anime_id  rating\n",
       "0        0       430       9\n",
       "1        0      1004       5\n",
       "2        0      3010       7\n",
       "3        0       570       7\n",
       "4        0      2762       9"
      ]
     },
     "execution_count": 3,
     "metadata": {},
     "output_type": "execute_result"
    }
   ],
   "source": [
    "rating_complete.head()"
   ]
  },
  {
   "cell_type": "code",
   "execution_count": 4,
   "metadata": {},
   "outputs": [
    {
     "data": {
      "text/plain": [
       "(57633278, 3)"
      ]
     },
     "execution_count": 4,
     "metadata": {},
     "output_type": "execute_result"
    }
   ],
   "source": [
    "rating_complete.shape"
   ]
  },
  {
   "cell_type": "markdown",
   "metadata": {},
   "source": [
    "Tenemos un dataset con 57.633.278 entradas"
   ]
  },
  {
   "cell_type": "code",
   "execution_count": 5,
   "metadata": {},
   "outputs": [
    {
     "data": {
      "text/plain": [
       "user_id     0\n",
       "anime_id    0\n",
       "rating      0\n",
       "dtype: int64"
      ]
     },
     "execution_count": 5,
     "metadata": {},
     "output_type": "execute_result"
    }
   ],
   "source": [
    "rating_complete.isna().sum() #No hay elementos nulos "
   ]
  },
  {
   "cell_type": "markdown",
   "metadata": {},
   "source": [
    "INFORMACION DE ATRIBUTOS\n",
    "1. user_id: ID de cada usuario.\n",
    "2. anime_id: ID de cada anime.\n",
    "3. rating: calificaciones asignadas por los usuarios."
   ]
  },
  {
   "cell_type": "code",
   "execution_count": 6,
   "metadata": {},
   "outputs": [
    {
     "data": {
      "text/plain": [
       "310059"
      ]
     },
     "execution_count": 6,
     "metadata": {},
     "output_type": "execute_result"
    }
   ],
   "source": [
    "#Exploramos rapidamente la columna user_id\n",
    "rating_complete.user_id.nunique()"
   ]
  },
  {
   "cell_type": "markdown",
   "metadata": {},
   "source": [
    "Tenemos 310.059 usuarios diferentes"
   ]
  },
  {
   "cell_type": "code",
   "execution_count": 7,
   "metadata": {},
   "outputs": [
    {
     "data": {
      "text/plain": [
       "16872"
      ]
     },
     "execution_count": 7,
     "metadata": {},
     "output_type": "execute_result"
    }
   ],
   "source": [
    "#Exploramos rapidamente la columna anime_id\n",
    "rating_complete.anime_id.nunique()"
   ]
  },
  {
   "cell_type": "markdown",
   "metadata": {},
   "source": [
    "Tenemos 16.872 animes diferentes"
   ]
  },
  {
   "cell_type": "code",
   "execution_count": 8,
   "metadata": {},
   "outputs": [
    {
     "data": {
      "text/plain": [
       "10"
      ]
     },
     "execution_count": 8,
     "metadata": {},
     "output_type": "execute_result"
    }
   ],
   "source": [
    "#Exploramos rapidamente la columna rating\n",
    "rating_complete.rating.nunique()"
   ]
  },
  {
   "cell_type": "code",
   "execution_count": 9,
   "metadata": {},
   "outputs": [
    {
     "data": {
      "text/plain": [
       "array([ 9,  5,  7,  8, 10,  6,  4,  3,  2,  1], dtype=int64)"
      ]
     },
     "execution_count": 9,
     "metadata": {},
     "output_type": "execute_result"
    }
   ],
   "source": [
    "rating_complete.rating.unique()"
   ]
  },
  {
   "cell_type": "markdown",
   "metadata": {},
   "source": [
    "Tenemos 10 puntuaciones diferentes"
   ]
  },
  {
   "cell_type": "markdown",
   "metadata": {},
   "source": [
    "Verificamos cuantos usuarios vieron unicamente un solo anime:"
   ]
  },
  {
   "cell_type": "code",
   "execution_count": 11,
   "metadata": {},
   "outputs": [
    {
     "name": "stdout",
     "output_type": "stream",
     "text": [
      "Usuarios con un único anime visto:\n",
      "user_id\n",
      "31        1\n",
      "71        1\n",
      "92        1\n",
      "105       1\n",
      "199       1\n",
      "         ..\n",
      "352939    1\n",
      "353035    1\n",
      "353306    1\n",
      "353307    1\n",
      "353347    1\n",
      "Name: anime_id, Length: 5952, dtype: int64\n"
     ]
    }
   ],
   "source": [
    "# Contamos la cantidad de animes vistos por cada usuario\n",
    "anime_count = rating_complete.groupby('user_id')['anime_id'].nunique()\n",
    "\n",
    "# Filtramos usuarios que han visto exactamente un anime\n",
    "users_with_one_anime = anime_count[anime_count == 1]\n",
    "\n",
    "# Mostramos el resultado\n",
    "print(\"Usuarios con un único anime visto:\")\n",
    "print(users_with_one_anime)"
   ]
  },
  {
   "cell_type": "markdown",
   "metadata": {},
   "source": [
    "Que porcentaje del total de usuarios vio unicamente un solo anime?"
   ]
  },
  {
   "cell_type": "code",
   "execution_count": 12,
   "metadata": {},
   "outputs": [
    {
     "name": "stdout",
     "output_type": "stream",
     "text": [
      "Porcentaje de usuarios que vieron un único anime: 1.92%\n"
     ]
    }
   ],
   "source": [
    "# Calculamos el porcentaje\n",
    "percentage_users_with_one_anime = len(users_with_one_anime) / len(anime_count) * 100\n",
    "\n",
    "# Mostramos el resultado\n",
    "print(f\"Porcentaje de usuarios que vieron un único anime: {percentage_users_with_one_anime:.2f}%\")"
   ]
  },
  {
   "cell_type": "markdown",
   "metadata": {},
   "source": [
    "Veamos que porcentaje de usuarios vieron menos de 5 animes: "
   ]
  },
  {
   "cell_type": "code",
   "execution_count": 13,
   "metadata": {},
   "outputs": [
    {
     "name": "stdout",
     "output_type": "stream",
     "text": [
      "Porcentaje de usuarios que vieron menos de 5 animes: 5.23%\n"
     ]
    }
   ],
   "source": [
    "# Filtrar usuarios que han visto menos de 5 animes\n",
    "users_with_few_animes = anime_count[anime_count < 5]\n",
    "\n",
    "# Calcular el porcentaje\n",
    "percentage_users_with_few_animes = len(users_with_few_animes) / len(anime_count) * 100\n",
    "\n",
    "# Mostrar el resultado\n",
    "print(f\"Porcentaje de usuarios que vieron menos de 5 animes: {percentage_users_with_few_animes:.2f}%\")"
   ]
  },
  {
   "cell_type": "markdown",
   "metadata": {},
   "source": [
    "Divdimos el dataset en conjuntos de train y test. En nuestro caso, no tenemos fechas a partir de las cuales podemos dividir los conjuntos, por lo cual lo haremos de manera aleatoria. "
   ]
  },
  {
   "cell_type": "code",
   "execution_count": 14,
   "metadata": {},
   "outputs": [],
   "source": [
    "from sklearn.model_selection import train_test_split"
   ]
  },
  {
   "cell_type": "code",
   "execution_count": 11,
   "metadata": {},
   "outputs": [],
   "source": [
    "df_train, df_test = train_test_split(rating_complete, test_size=0.2, random_state=42)"
   ]
  },
  {
   "cell_type": "code",
   "execution_count": 12,
   "metadata": {},
   "outputs": [
    {
     "data": {
      "text/html": [
       "<div>\n",
       "<style scoped>\n",
       "    .dataframe tbody tr th:only-of-type {\n",
       "        vertical-align: middle;\n",
       "    }\n",
       "\n",
       "    .dataframe tbody tr th {\n",
       "        vertical-align: top;\n",
       "    }\n",
       "\n",
       "    .dataframe thead th {\n",
       "        text-align: right;\n",
       "    }\n",
       "</style>\n",
       "<table border=\"1\" class=\"dataframe\">\n",
       "  <thead>\n",
       "    <tr style=\"text-align: right;\">\n",
       "      <th></th>\n",
       "      <th>user_id</th>\n",
       "      <th>anime_id</th>\n",
       "      <th>rating</th>\n",
       "    </tr>\n",
       "  </thead>\n",
       "  <tbody>\n",
       "    <tr>\n",
       "      <th>48863900</th>\n",
       "      <td>299494</td>\n",
       "      <td>2994</td>\n",
       "      <td>8</td>\n",
       "    </tr>\n",
       "    <tr>\n",
       "      <th>33147285</th>\n",
       "      <td>203557</td>\n",
       "      <td>32282</td>\n",
       "      <td>8</td>\n",
       "    </tr>\n",
       "    <tr>\n",
       "      <th>8872094</th>\n",
       "      <td>54320</td>\n",
       "      <td>7598</td>\n",
       "      <td>10</td>\n",
       "    </tr>\n",
       "    <tr>\n",
       "      <th>33765475</th>\n",
       "      <td>207357</td>\n",
       "      <td>16498</td>\n",
       "      <td>9</td>\n",
       "    </tr>\n",
       "    <tr>\n",
       "      <th>49256811</th>\n",
       "      <td>301948</td>\n",
       "      <td>16067</td>\n",
       "      <td>9</td>\n",
       "    </tr>\n",
       "  </tbody>\n",
       "</table>\n",
       "</div>"
      ],
      "text/plain": [
       "          user_id  anime_id  rating\n",
       "48863900   299494      2994       8\n",
       "33147285   203557     32282       8\n",
       "8872094     54320      7598      10\n",
       "33765475   207357     16498       9\n",
       "49256811   301948     16067       9"
      ]
     },
     "execution_count": 12,
     "metadata": {},
     "output_type": "execute_result"
    }
   ],
   "source": [
    "df_train.head()"
   ]
  },
  {
   "cell_type": "code",
   "execution_count": 13,
   "metadata": {},
   "outputs": [
    {
     "data": {
      "text/plain": [
       "(46106622, 3)"
      ]
     },
     "execution_count": 13,
     "metadata": {},
     "output_type": "execute_result"
    }
   ],
   "source": [
    "df_train.shape #Tenemos un conjunto de entrenamiento con 46.106.622 entradas"
   ]
  },
  {
   "cell_type": "code",
   "execution_count": 14,
   "metadata": {},
   "outputs": [
    {
     "data": {
      "text/plain": [
       "308673"
      ]
     },
     "execution_count": 14,
     "metadata": {},
     "output_type": "execute_result"
    }
   ],
   "source": [
    "df_train.user_id.nunique() #En el set de train tenemos 308.673 usuarios diferentes"
   ]
  },
  {
   "cell_type": "code",
   "execution_count": 15,
   "metadata": {},
   "outputs": [
    {
     "data": {
      "text/html": [
       "<div>\n",
       "<style scoped>\n",
       "    .dataframe tbody tr th:only-of-type {\n",
       "        vertical-align: middle;\n",
       "    }\n",
       "\n",
       "    .dataframe tbody tr th {\n",
       "        vertical-align: top;\n",
       "    }\n",
       "\n",
       "    .dataframe thead th {\n",
       "        text-align: right;\n",
       "    }\n",
       "</style>\n",
       "<table border=\"1\" class=\"dataframe\">\n",
       "  <thead>\n",
       "    <tr style=\"text-align: right;\">\n",
       "      <th></th>\n",
       "      <th>user_id</th>\n",
       "      <th>anime_id</th>\n",
       "      <th>rating</th>\n",
       "    </tr>\n",
       "  </thead>\n",
       "  <tbody>\n",
       "    <tr>\n",
       "      <th>41605545</th>\n",
       "      <td>255419</td>\n",
       "      <td>4059</td>\n",
       "      <td>7</td>\n",
       "    </tr>\n",
       "    <tr>\n",
       "      <th>33600014</th>\n",
       "      <td>206382</td>\n",
       "      <td>10793</td>\n",
       "      <td>7</td>\n",
       "    </tr>\n",
       "    <tr>\n",
       "      <th>39884414</th>\n",
       "      <td>245012</td>\n",
       "      <td>34246</td>\n",
       "      <td>4</td>\n",
       "    </tr>\n",
       "    <tr>\n",
       "      <th>45251042</th>\n",
       "      <td>277697</td>\n",
       "      <td>5030</td>\n",
       "      <td>7</td>\n",
       "    </tr>\n",
       "    <tr>\n",
       "      <th>53777062</th>\n",
       "      <td>329602</td>\n",
       "      <td>227</td>\n",
       "      <td>7</td>\n",
       "    </tr>\n",
       "  </tbody>\n",
       "</table>\n",
       "</div>"
      ],
      "text/plain": [
       "          user_id  anime_id  rating\n",
       "41605545   255419      4059       7\n",
       "33600014   206382     10793       7\n",
       "39884414   245012     34246       4\n",
       "45251042   277697      5030       7\n",
       "53777062   329602       227       7"
      ]
     },
     "execution_count": 15,
     "metadata": {},
     "output_type": "execute_result"
    }
   ],
   "source": [
    "df_test.head()"
   ]
  },
  {
   "cell_type": "code",
   "execution_count": 16,
   "metadata": {},
   "outputs": [
    {
     "data": {
      "text/plain": [
       "(11526656, 3)"
      ]
     },
     "execution_count": 16,
     "metadata": {},
     "output_type": "execute_result"
    }
   ],
   "source": [
    "df_test.shape #Tenemos un conjunto de testeo con 11.526.656 entradas"
   ]
  },
  {
   "cell_type": "code",
   "execution_count": 17,
   "metadata": {},
   "outputs": [
    {
     "data": {
      "text/plain": [
       "296392"
      ]
     },
     "execution_count": 17,
     "metadata": {},
     "output_type": "execute_result"
    }
   ],
   "source": [
    "df_test.user_id.nunique() #En el set de test tenemos 296.392 usuarios diferentes "
   ]
  },
  {
   "cell_type": "markdown",
   "metadata": {},
   "source": [
    "Busquemos si existen usuarios que aparecen en el set de test pero no en el set de train. A estos usuarios debemos recomendarle luego, utilizando COLD STAR"
   ]
  },
  {
   "cell_type": "code",
   "execution_count": 18,
   "metadata": {},
   "outputs": [
    {
     "data": {
      "text/plain": [
       "1386"
      ]
     },
     "execution_count": 18,
     "metadata": {},
     "output_type": "execute_result"
    }
   ],
   "source": [
    "df_test[~df_test.user_id.isin(df_train.user_id.unique())].user_id.nunique()"
   ]
  },
  {
   "cell_type": "markdown",
   "metadata": {},
   "source": [
    "Tenemos 1.386 usuarios que aparecen en el set de test pero no en el de train"
   ]
  },
  {
   "cell_type": "markdown",
   "metadata": {},
   "source": [
    "Armamos la matriz de interacciones: "
   ]
  },
  {
   "cell_type": "code",
   "execution_count": 19,
   "metadata": {},
   "outputs": [
    {
     "data": {
      "text/html": [
       "<div>\n",
       "<style scoped>\n",
       "    .dataframe tbody tr th:only-of-type {\n",
       "        vertical-align: middle;\n",
       "    }\n",
       "\n",
       "    .dataframe tbody tr th {\n",
       "        vertical-align: top;\n",
       "    }\n",
       "\n",
       "    .dataframe thead th {\n",
       "        text-align: right;\n",
       "    }\n",
       "</style>\n",
       "<table border=\"1\" class=\"dataframe\">\n",
       "  <thead>\n",
       "    <tr style=\"text-align: right;\">\n",
       "      <th></th>\n",
       "      <th>user_id</th>\n",
       "      <th>anime_id</th>\n",
       "      <th>rating</th>\n",
       "    </tr>\n",
       "  </thead>\n",
       "  <tbody>\n",
       "    <tr>\n",
       "      <th>0</th>\n",
       "      <td>0</td>\n",
       "      <td>430</td>\n",
       "      <td>9</td>\n",
       "    </tr>\n",
       "  </tbody>\n",
       "</table>\n",
       "</div>"
      ],
      "text/plain": [
       "   user_id  anime_id  rating\n",
       "0        0       430       9"
      ]
     },
     "execution_count": 19,
     "metadata": {},
     "output_type": "execute_result"
    }
   ],
   "source": [
    "rating_complete.head(1)"
   ]
  },
  {
   "cell_type": "code",
   "execution_count": 20,
   "metadata": {},
   "outputs": [],
   "source": [
    "matrix_columns = ['user_id', 'anime_id', 'rating']"
   ]
  },
  {
   "cell_type": "code",
   "execution_count": 21,
   "metadata": {},
   "outputs": [
    {
     "data": {
      "text/html": [
       "<div>\n",
       "<style scoped>\n",
       "    .dataframe tbody tr th:only-of-type {\n",
       "        vertical-align: middle;\n",
       "    }\n",
       "\n",
       "    .dataframe tbody tr th {\n",
       "        vertical-align: top;\n",
       "    }\n",
       "\n",
       "    .dataframe thead th {\n",
       "        text-align: right;\n",
       "    }\n",
       "</style>\n",
       "<table border=\"1\" class=\"dataframe\">\n",
       "  <thead>\n",
       "    <tr style=\"text-align: right;\">\n",
       "      <th></th>\n",
       "      <th>user_id</th>\n",
       "      <th>anime_id</th>\n",
       "      <th>rating</th>\n",
       "    </tr>\n",
       "  </thead>\n",
       "  <tbody>\n",
       "    <tr>\n",
       "      <th>48863900</th>\n",
       "      <td>299494</td>\n",
       "      <td>2994</td>\n",
       "      <td>8</td>\n",
       "    </tr>\n",
       "    <tr>\n",
       "      <th>33147285</th>\n",
       "      <td>203557</td>\n",
       "      <td>32282</td>\n",
       "      <td>8</td>\n",
       "    </tr>\n",
       "    <tr>\n",
       "      <th>8872094</th>\n",
       "      <td>54320</td>\n",
       "      <td>7598</td>\n",
       "      <td>10</td>\n",
       "    </tr>\n",
       "    <tr>\n",
       "      <th>33765475</th>\n",
       "      <td>207357</td>\n",
       "      <td>16498</td>\n",
       "      <td>9</td>\n",
       "    </tr>\n",
       "    <tr>\n",
       "      <th>49256811</th>\n",
       "      <td>301948</td>\n",
       "      <td>16067</td>\n",
       "      <td>9</td>\n",
       "    </tr>\n",
       "  </tbody>\n",
       "</table>\n",
       "</div>"
      ],
      "text/plain": [
       "          user_id  anime_id  rating\n",
       "48863900   299494      2994       8\n",
       "33147285   203557     32282       8\n",
       "8872094     54320      7598      10\n",
       "33765475   207357     16498       9\n",
       "49256811   301948     16067       9"
      ]
     },
     "execution_count": 21,
     "metadata": {},
     "output_type": "execute_result"
    }
   ],
   "source": [
    "interactions = df_train[matrix_columns]\n",
    "interactions.head()"
   ]
  },
  {
   "cell_type": "code",
   "execution_count": 22,
   "metadata": {},
   "outputs": [
    {
     "data": {
      "text/plain": [
       "(46106622, 3)"
      ]
     },
     "execution_count": 22,
     "metadata": {},
     "output_type": "execute_result"
    }
   ],
   "source": [
    "interactions.shape"
   ]
  },
  {
   "cell_type": "markdown",
   "metadata": {},
   "source": [
    "Luego de reiterados intentos de obtener la matriz de interacciones con el total de los datos y sin lograrlo, decidimos reducir el dataset.\n",
    "El valor maximo para el cual nuestras computadoras logran obtener la matriz de interacciones es igual al total de datos del dataset original / 200"
   ]
  },
  {
   "cell_type": "code",
   "execution_count": 15,
   "metadata": {},
   "outputs": [],
   "source": [
    "# Establecemos una semilla para reproducibilidad\n",
    "semilla = 42"
   ]
  },
  {
   "cell_type": "code",
   "execution_count": 16,
   "metadata": {},
   "outputs": [],
   "source": [
    "# Seleccionamos de forma aleatoria el 1/200 de los datos\n",
    "np.random.seed(semilla)\n",
    "rating_reducido = rating_complete.sample(frac=1/200, random_state=semilla)"
   ]
  },
  {
   "cell_type": "code",
   "execution_count": 17,
   "metadata": {},
   "outputs": [
    {
     "name": "stdout",
     "output_type": "stream",
     "text": [
      "Tamaño del conjunto de datos reducido: (288166, 3)\n"
     ]
    }
   ],
   "source": [
    "# Verificar el tamaño del nuevo conjunto de datos reducido\n",
    "print(\"Tamaño del conjunto de datos reducido:\", rating_reducido.shape)\n"
   ]
  },
  {
   "cell_type": "code",
   "execution_count": 18,
   "metadata": {},
   "outputs": [
    {
     "data": {
      "text/html": [
       "<div>\n",
       "<style scoped>\n",
       "    .dataframe tbody tr th:only-of-type {\n",
       "        vertical-align: middle;\n",
       "    }\n",
       "\n",
       "    .dataframe tbody tr th {\n",
       "        vertical-align: top;\n",
       "    }\n",
       "\n",
       "    .dataframe thead th {\n",
       "        text-align: right;\n",
       "    }\n",
       "</style>\n",
       "<table border=\"1\" class=\"dataframe\">\n",
       "  <thead>\n",
       "    <tr style=\"text-align: right;\">\n",
       "      <th></th>\n",
       "      <th>user_id</th>\n",
       "      <th>anime_id</th>\n",
       "      <th>rating</th>\n",
       "    </tr>\n",
       "  </thead>\n",
       "  <tbody>\n",
       "    <tr>\n",
       "      <th>41605545</th>\n",
       "      <td>255419</td>\n",
       "      <td>4059</td>\n",
       "      <td>7</td>\n",
       "    </tr>\n",
       "    <tr>\n",
       "      <th>33600014</th>\n",
       "      <td>206382</td>\n",
       "      <td>10793</td>\n",
       "      <td>7</td>\n",
       "    </tr>\n",
       "    <tr>\n",
       "      <th>39884414</th>\n",
       "      <td>245012</td>\n",
       "      <td>34246</td>\n",
       "      <td>4</td>\n",
       "    </tr>\n",
       "    <tr>\n",
       "      <th>45251042</th>\n",
       "      <td>277697</td>\n",
       "      <td>5030</td>\n",
       "      <td>7</td>\n",
       "    </tr>\n",
       "    <tr>\n",
       "      <th>53777062</th>\n",
       "      <td>329602</td>\n",
       "      <td>227</td>\n",
       "      <td>7</td>\n",
       "    </tr>\n",
       "  </tbody>\n",
       "</table>\n",
       "</div>"
      ],
      "text/plain": [
       "          user_id  anime_id  rating\n",
       "41605545   255419      4059       7\n",
       "33600014   206382     10793       7\n",
       "39884414   245012     34246       4\n",
       "45251042   277697      5030       7\n",
       "53777062   329602       227       7"
      ]
     },
     "execution_count": 18,
     "metadata": {},
     "output_type": "execute_result"
    }
   ],
   "source": [
    "rating_reducido.head()"
   ]
  },
  {
   "cell_type": "code",
   "execution_count": 19,
   "metadata": {},
   "outputs": [
    {
     "data": {
      "text/plain": [
       "139983"
      ]
     },
     "execution_count": 19,
     "metadata": {},
     "output_type": "execute_result"
    }
   ],
   "source": [
    "rating_reducido.user_id.nunique() #El dataset reducido contiene 139.983 usuarios diferentes"
   ]
  },
  {
   "cell_type": "code",
   "execution_count": 20,
   "metadata": {},
   "outputs": [
    {
     "data": {
      "text/plain": [
       "10162"
      ]
     },
     "execution_count": 20,
     "metadata": {},
     "output_type": "execute_result"
    }
   ],
   "source": [
    "rating_reducido.anime_id.nunique() #El dataset reducido contiene 10.162 animes diferentes"
   ]
  },
  {
   "cell_type": "markdown",
   "metadata": {},
   "source": [
    "Veamos en este set de datos, que porcentaje de usuarios vieron unicamente un anime: "
   ]
  },
  {
   "cell_type": "code",
   "execution_count": 28,
   "metadata": {},
   "outputs": [
    {
     "name": "stdout",
     "output_type": "stream",
     "text": [
      "Porcentaje de usuarios que vieron un único anime: 51.74%\n"
     ]
    }
   ],
   "source": [
    "# Contamos la cantidad de animes vistos por cada usuario\n",
    "anime_count = rating_reducido.groupby('user_id')['anime_id'].nunique()\n",
    "\n",
    "# Filtramos usuarios que han visto exactamente un anime\n",
    "users_with_one_anime = anime_count[anime_count == 1]\n",
    "\n",
    "# Calculamos el porcentaje\n",
    "percentage_users_with_one_anime = len(users_with_one_anime) / len(anime_count) * 100\n",
    "\n",
    "# Mostramos el resultado\n",
    "print(f\"Porcentaje de usuarios que vieron un único anime: {percentage_users_with_one_anime:.2f}%\")"
   ]
  },
  {
   "cell_type": "code",
   "execution_count": 21,
   "metadata": {},
   "outputs": [],
   "source": [
    "df_train, df_test = train_test_split(rating_reducido, test_size=0.2, random_state=42)"
   ]
  },
  {
   "cell_type": "code",
   "execution_count": 22,
   "metadata": {},
   "outputs": [
    {
     "data": {
      "text/plain": [
       "(230532, 3)"
      ]
     },
     "execution_count": 22,
     "metadata": {},
     "output_type": "execute_result"
    }
   ],
   "source": [
    "df_train.shape"
   ]
  },
  {
   "cell_type": "code",
   "execution_count": 23,
   "metadata": {},
   "outputs": [
    {
     "data": {
      "text/plain": [
       "124061"
      ]
     },
     "execution_count": 23,
     "metadata": {},
     "output_type": "execute_result"
    }
   ],
   "source": [
    "df_train.user_id.nunique() #El set de train contiene 124.061 usuarios diferentes"
   ]
  },
  {
   "cell_type": "code",
   "execution_count": 24,
   "metadata": {},
   "outputs": [
    {
     "data": {
      "text/plain": [
       "(57634, 3)"
      ]
     },
     "execution_count": 24,
     "metadata": {},
     "output_type": "execute_result"
    }
   ],
   "source": [
    "df_test.shape"
   ]
  },
  {
   "cell_type": "code",
   "execution_count": 25,
   "metadata": {},
   "outputs": [
    {
     "data": {
      "text/plain": [
       "46625"
      ]
     },
     "execution_count": 25,
     "metadata": {},
     "output_type": "execute_result"
    }
   ],
   "source": [
    "df_test.user_id.nunique() #El set de test contiene 46.625 usuarios diferentes"
   ]
  },
  {
   "cell_type": "code",
   "execution_count": 26,
   "metadata": {},
   "outputs": [
    {
     "data": {
      "text/plain": [
       "15922"
      ]
     },
     "execution_count": 26,
     "metadata": {},
     "output_type": "execute_result"
    }
   ],
   "source": [
    "usuarios_cold_start = df_test[~df_test.user_id.isin(df_train.user_id.unique())].user_id.nunique()\n",
    "usuarios_cold_start"
   ]
  },
  {
   "cell_type": "markdown",
   "metadata": {},
   "source": [
    "Tenemos 15.922 usuarios que aparecen en el set de test pero no en el de train "
   ]
  },
  {
   "cell_type": "code",
   "execution_count": 27,
   "metadata": {},
   "outputs": [
    {
     "data": {
      "text/plain": [
       "5.525287507894755"
      ]
     },
     "execution_count": 27,
     "metadata": {},
     "output_type": "execute_result"
    }
   ],
   "source": [
    "#Veamos a que porcentaje del total de usuarios corresponde este valor:\n",
    "porcentaje_cold_start = usuarios_cold_start*100/rating_reducido.shape[0]\n",
    "porcentaje_cold_start"
   ]
  },
  {
   "cell_type": "markdown",
   "metadata": {},
   "source": [
    "El 5.53% del total de usuarios seran usuarios COLD START"
   ]
  },
  {
   "cell_type": "markdown",
   "metadata": {},
   "source": [
    " Armamos la matriz de interacciones"
   ]
  },
  {
   "cell_type": "code",
   "execution_count": 36,
   "metadata": {},
   "outputs": [],
   "source": [
    "matrix_columns = ['user_id', 'anime_id', 'rating']"
   ]
  },
  {
   "cell_type": "code",
   "execution_count": 37,
   "metadata": {},
   "outputs": [
    {
     "data": {
      "text/html": [
       "<div>\n",
       "<style scoped>\n",
       "    .dataframe tbody tr th:only-of-type {\n",
       "        vertical-align: middle;\n",
       "    }\n",
       "\n",
       "    .dataframe tbody tr th {\n",
       "        vertical-align: top;\n",
       "    }\n",
       "\n",
       "    .dataframe thead th {\n",
       "        text-align: right;\n",
       "    }\n",
       "</style>\n",
       "<table border=\"1\" class=\"dataframe\">\n",
       "  <thead>\n",
       "    <tr style=\"text-align: right;\">\n",
       "      <th></th>\n",
       "      <th>user_id</th>\n",
       "      <th>anime_id</th>\n",
       "      <th>rating</th>\n",
       "    </tr>\n",
       "  </thead>\n",
       "  <tbody>\n",
       "    <tr>\n",
       "      <th>16577859</th>\n",
       "      <td>101789</td>\n",
       "      <td>22319</td>\n",
       "      <td>8</td>\n",
       "    </tr>\n",
       "    <tr>\n",
       "      <th>21228456</th>\n",
       "      <td>130497</td>\n",
       "      <td>3686</td>\n",
       "      <td>5</td>\n",
       "    </tr>\n",
       "    <tr>\n",
       "      <th>20438581</th>\n",
       "      <td>125686</td>\n",
       "      <td>12413</td>\n",
       "      <td>7</td>\n",
       "    </tr>\n",
       "    <tr>\n",
       "      <th>50775800</th>\n",
       "      <td>311313</td>\n",
       "      <td>12365</td>\n",
       "      <td>8</td>\n",
       "    </tr>\n",
       "    <tr>\n",
       "      <th>30994970</th>\n",
       "      <td>190382</td>\n",
       "      <td>513</td>\n",
       "      <td>7</td>\n",
       "    </tr>\n",
       "  </tbody>\n",
       "</table>\n",
       "</div>"
      ],
      "text/plain": [
       "          user_id  anime_id  rating\n",
       "16577859   101789     22319       8\n",
       "21228456   130497      3686       5\n",
       "20438581   125686     12413       7\n",
       "50775800   311313     12365       8\n",
       "30994970   190382       513       7"
      ]
     },
     "execution_count": 37,
     "metadata": {},
     "output_type": "execute_result"
    }
   ],
   "source": [
    "interactions = df_train[matrix_columns]\n",
    "interactions.head()"
   ]
  },
  {
   "cell_type": "code",
   "execution_count": 38,
   "metadata": {},
   "outputs": [],
   "source": [
    "#Reseteamos los indices\n",
    "interactions = interactions.reset_index(drop=True)"
   ]
  },
  {
   "cell_type": "code",
   "execution_count": 39,
   "metadata": {},
   "outputs": [
    {
     "data": {
      "text/html": [
       "<div>\n",
       "<style scoped>\n",
       "    .dataframe tbody tr th:only-of-type {\n",
       "        vertical-align: middle;\n",
       "    }\n",
       "\n",
       "    .dataframe tbody tr th {\n",
       "        vertical-align: top;\n",
       "    }\n",
       "\n",
       "    .dataframe thead th {\n",
       "        text-align: right;\n",
       "    }\n",
       "</style>\n",
       "<table border=\"1\" class=\"dataframe\">\n",
       "  <thead>\n",
       "    <tr style=\"text-align: right;\">\n",
       "      <th></th>\n",
       "      <th>user_id</th>\n",
       "      <th>anime_id</th>\n",
       "      <th>rating</th>\n",
       "    </tr>\n",
       "  </thead>\n",
       "  <tbody>\n",
       "    <tr>\n",
       "      <th>0</th>\n",
       "      <td>101789</td>\n",
       "      <td>22319</td>\n",
       "      <td>8</td>\n",
       "    </tr>\n",
       "    <tr>\n",
       "      <th>1</th>\n",
       "      <td>130497</td>\n",
       "      <td>3686</td>\n",
       "      <td>5</td>\n",
       "    </tr>\n",
       "    <tr>\n",
       "      <th>2</th>\n",
       "      <td>125686</td>\n",
       "      <td>12413</td>\n",
       "      <td>7</td>\n",
       "    </tr>\n",
       "    <tr>\n",
       "      <th>3</th>\n",
       "      <td>311313</td>\n",
       "      <td>12365</td>\n",
       "      <td>8</td>\n",
       "    </tr>\n",
       "    <tr>\n",
       "      <th>4</th>\n",
       "      <td>190382</td>\n",
       "      <td>513</td>\n",
       "      <td>7</td>\n",
       "    </tr>\n",
       "  </tbody>\n",
       "</table>\n",
       "</div>"
      ],
      "text/plain": [
       "   user_id  anime_id  rating\n",
       "0   101789     22319       8\n",
       "1   130497      3686       5\n",
       "2   125686     12413       7\n",
       "3   311313     12365       8\n",
       "4   190382       513       7"
      ]
     },
     "execution_count": 39,
     "metadata": {},
     "output_type": "execute_result"
    }
   ],
   "source": [
    "interactions.head()"
   ]
  },
  {
   "cell_type": "code",
   "execution_count": 40,
   "metadata": {},
   "outputs": [
    {
     "name": "stdout",
     "output_type": "stream",
     "text": [
      "Empty DataFrame\n",
      "Columns: [user_id, anime_id, rating]\n",
      "Index: []\n"
     ]
    }
   ],
   "source": [
    "#Verificamos si existen filas duplicadas\n",
    "duplicate_rows = interactions[interactions.duplicated(subset=['user_id', 'anime_id'], keep=False)]\n",
    "print(duplicate_rows)"
   ]
  },
  {
   "cell_type": "markdown",
   "metadata": {},
   "source": [
    "No existen filas duplicadas "
   ]
  },
  {
   "cell_type": "code",
   "execution_count": 41,
   "metadata": {},
   "outputs": [],
   "source": [
    "interactions_matrix = interactions.pivot(index='user_id', columns='anime_id', values='rating')"
   ]
  },
  {
   "cell_type": "code",
   "execution_count": 42,
   "metadata": {},
   "outputs": [
    {
     "data": {
      "text/html": [
       "<div>\n",
       "<style scoped>\n",
       "    .dataframe tbody tr th:only-of-type {\n",
       "        vertical-align: middle;\n",
       "    }\n",
       "\n",
       "    .dataframe tbody tr th {\n",
       "        vertical-align: top;\n",
       "    }\n",
       "\n",
       "    .dataframe thead th {\n",
       "        text-align: right;\n",
       "    }\n",
       "</style>\n",
       "<table border=\"1\" class=\"dataframe\">\n",
       "  <thead>\n",
       "    <tr style=\"text-align: right;\">\n",
       "      <th>anime_id</th>\n",
       "      <th>1</th>\n",
       "      <th>5</th>\n",
       "      <th>6</th>\n",
       "      <th>7</th>\n",
       "      <th>8</th>\n",
       "      <th>15</th>\n",
       "      <th>16</th>\n",
       "      <th>17</th>\n",
       "      <th>18</th>\n",
       "      <th>19</th>\n",
       "      <th>...</th>\n",
       "      <th>45567</th>\n",
       "      <th>45574</th>\n",
       "      <th>45598</th>\n",
       "      <th>45615</th>\n",
       "      <th>45753</th>\n",
       "      <th>46491</th>\n",
       "      <th>47307</th>\n",
       "      <th>47398</th>\n",
       "      <th>47402</th>\n",
       "      <th>47616</th>\n",
       "    </tr>\n",
       "    <tr>\n",
       "      <th>user_id</th>\n",
       "      <th></th>\n",
       "      <th></th>\n",
       "      <th></th>\n",
       "      <th></th>\n",
       "      <th></th>\n",
       "      <th></th>\n",
       "      <th></th>\n",
       "      <th></th>\n",
       "      <th></th>\n",
       "      <th></th>\n",
       "      <th></th>\n",
       "      <th></th>\n",
       "      <th></th>\n",
       "      <th></th>\n",
       "      <th></th>\n",
       "      <th></th>\n",
       "      <th></th>\n",
       "      <th></th>\n",
       "      <th></th>\n",
       "      <th></th>\n",
       "      <th></th>\n",
       "    </tr>\n",
       "  </thead>\n",
       "  <tbody>\n",
       "    <tr>\n",
       "      <th>0</th>\n",
       "      <td>NaN</td>\n",
       "      <td>NaN</td>\n",
       "      <td>NaN</td>\n",
       "      <td>NaN</td>\n",
       "      <td>NaN</td>\n",
       "      <td>NaN</td>\n",
       "      <td>NaN</td>\n",
       "      <td>NaN</td>\n",
       "      <td>NaN</td>\n",
       "      <td>NaN</td>\n",
       "      <td>...</td>\n",
       "      <td>NaN</td>\n",
       "      <td>NaN</td>\n",
       "      <td>NaN</td>\n",
       "      <td>NaN</td>\n",
       "      <td>NaN</td>\n",
       "      <td>NaN</td>\n",
       "      <td>NaN</td>\n",
       "      <td>NaN</td>\n",
       "      <td>NaN</td>\n",
       "      <td>NaN</td>\n",
       "    </tr>\n",
       "    <tr>\n",
       "      <th>6</th>\n",
       "      <td>NaN</td>\n",
       "      <td>NaN</td>\n",
       "      <td>NaN</td>\n",
       "      <td>NaN</td>\n",
       "      <td>NaN</td>\n",
       "      <td>NaN</td>\n",
       "      <td>NaN</td>\n",
       "      <td>NaN</td>\n",
       "      <td>NaN</td>\n",
       "      <td>NaN</td>\n",
       "      <td>...</td>\n",
       "      <td>NaN</td>\n",
       "      <td>NaN</td>\n",
       "      <td>NaN</td>\n",
       "      <td>NaN</td>\n",
       "      <td>NaN</td>\n",
       "      <td>NaN</td>\n",
       "      <td>NaN</td>\n",
       "      <td>NaN</td>\n",
       "      <td>NaN</td>\n",
       "      <td>NaN</td>\n",
       "    </tr>\n",
       "    <tr>\n",
       "      <th>7</th>\n",
       "      <td>NaN</td>\n",
       "      <td>NaN</td>\n",
       "      <td>NaN</td>\n",
       "      <td>NaN</td>\n",
       "      <td>NaN</td>\n",
       "      <td>NaN</td>\n",
       "      <td>NaN</td>\n",
       "      <td>NaN</td>\n",
       "      <td>NaN</td>\n",
       "      <td>NaN</td>\n",
       "      <td>...</td>\n",
       "      <td>NaN</td>\n",
       "      <td>NaN</td>\n",
       "      <td>NaN</td>\n",
       "      <td>NaN</td>\n",
       "      <td>NaN</td>\n",
       "      <td>NaN</td>\n",
       "      <td>NaN</td>\n",
       "      <td>NaN</td>\n",
       "      <td>NaN</td>\n",
       "      <td>NaN</td>\n",
       "    </tr>\n",
       "    <tr>\n",
       "      <th>19</th>\n",
       "      <td>NaN</td>\n",
       "      <td>NaN</td>\n",
       "      <td>NaN</td>\n",
       "      <td>NaN</td>\n",
       "      <td>NaN</td>\n",
       "      <td>NaN</td>\n",
       "      <td>NaN</td>\n",
       "      <td>NaN</td>\n",
       "      <td>NaN</td>\n",
       "      <td>NaN</td>\n",
       "      <td>...</td>\n",
       "      <td>NaN</td>\n",
       "      <td>NaN</td>\n",
       "      <td>NaN</td>\n",
       "      <td>NaN</td>\n",
       "      <td>NaN</td>\n",
       "      <td>NaN</td>\n",
       "      <td>NaN</td>\n",
       "      <td>NaN</td>\n",
       "      <td>NaN</td>\n",
       "      <td>NaN</td>\n",
       "    </tr>\n",
       "    <tr>\n",
       "      <th>21</th>\n",
       "      <td>NaN</td>\n",
       "      <td>NaN</td>\n",
       "      <td>NaN</td>\n",
       "      <td>NaN</td>\n",
       "      <td>NaN</td>\n",
       "      <td>NaN</td>\n",
       "      <td>NaN</td>\n",
       "      <td>NaN</td>\n",
       "      <td>NaN</td>\n",
       "      <td>NaN</td>\n",
       "      <td>...</td>\n",
       "      <td>NaN</td>\n",
       "      <td>NaN</td>\n",
       "      <td>NaN</td>\n",
       "      <td>NaN</td>\n",
       "      <td>NaN</td>\n",
       "      <td>NaN</td>\n",
       "      <td>NaN</td>\n",
       "      <td>NaN</td>\n",
       "      <td>NaN</td>\n",
       "      <td>NaN</td>\n",
       "    </tr>\n",
       "  </tbody>\n",
       "</table>\n",
       "<p>5 rows × 9654 columns</p>\n",
       "</div>"
      ],
      "text/plain": [
       "anime_id  1      5      6      7      8      15     16     17     18     \\\n",
       "user_id                                                                   \n",
       "0           NaN    NaN    NaN    NaN    NaN    NaN    NaN    NaN    NaN   \n",
       "6           NaN    NaN    NaN    NaN    NaN    NaN    NaN    NaN    NaN   \n",
       "7           NaN    NaN    NaN    NaN    NaN    NaN    NaN    NaN    NaN   \n",
       "19          NaN    NaN    NaN    NaN    NaN    NaN    NaN    NaN    NaN   \n",
       "21          NaN    NaN    NaN    NaN    NaN    NaN    NaN    NaN    NaN   \n",
       "\n",
       "anime_id  19     ...  45567  45574  45598  45615  45753  46491  47307  47398  \\\n",
       "user_id          ...                                                           \n",
       "0           NaN  ...    NaN    NaN    NaN    NaN    NaN    NaN    NaN    NaN   \n",
       "6           NaN  ...    NaN    NaN    NaN    NaN    NaN    NaN    NaN    NaN   \n",
       "7           NaN  ...    NaN    NaN    NaN    NaN    NaN    NaN    NaN    NaN   \n",
       "19          NaN  ...    NaN    NaN    NaN    NaN    NaN    NaN    NaN    NaN   \n",
       "21          NaN  ...    NaN    NaN    NaN    NaN    NaN    NaN    NaN    NaN   \n",
       "\n",
       "anime_id  47402  47616  \n",
       "user_id                 \n",
       "0           NaN    NaN  \n",
       "6           NaN    NaN  \n",
       "7           NaN    NaN  \n",
       "19          NaN    NaN  \n",
       "21          NaN    NaN  \n",
       "\n",
       "[5 rows x 9654 columns]"
      ]
     },
     "execution_count": 42,
     "metadata": {},
     "output_type": "execute_result"
    }
   ],
   "source": [
    "interactions_matrix.head()"
   ]
  },
  {
   "cell_type": "code",
   "execution_count": 43,
   "metadata": {},
   "outputs": [
    {
     "data": {
      "text/html": [
       "<div>\n",
       "<style scoped>\n",
       "    .dataframe tbody tr th:only-of-type {\n",
       "        vertical-align: middle;\n",
       "    }\n",
       "\n",
       "    .dataframe tbody tr th {\n",
       "        vertical-align: top;\n",
       "    }\n",
       "\n",
       "    .dataframe thead th {\n",
       "        text-align: right;\n",
       "    }\n",
       "</style>\n",
       "<table border=\"1\" class=\"dataframe\">\n",
       "  <thead>\n",
       "    <tr style=\"text-align: right;\">\n",
       "      <th>anime_id</th>\n",
       "      <th>1</th>\n",
       "      <th>5</th>\n",
       "      <th>6</th>\n",
       "      <th>7</th>\n",
       "      <th>8</th>\n",
       "      <th>15</th>\n",
       "      <th>16</th>\n",
       "      <th>17</th>\n",
       "      <th>18</th>\n",
       "      <th>19</th>\n",
       "      <th>...</th>\n",
       "      <th>45567</th>\n",
       "      <th>45574</th>\n",
       "      <th>45598</th>\n",
       "      <th>45615</th>\n",
       "      <th>45753</th>\n",
       "      <th>46491</th>\n",
       "      <th>47307</th>\n",
       "      <th>47398</th>\n",
       "      <th>47402</th>\n",
       "      <th>47616</th>\n",
       "    </tr>\n",
       "    <tr>\n",
       "      <th>user_id</th>\n",
       "      <th></th>\n",
       "      <th></th>\n",
       "      <th></th>\n",
       "      <th></th>\n",
       "      <th></th>\n",
       "      <th></th>\n",
       "      <th></th>\n",
       "      <th></th>\n",
       "      <th></th>\n",
       "      <th></th>\n",
       "      <th></th>\n",
       "      <th></th>\n",
       "      <th></th>\n",
       "      <th></th>\n",
       "      <th></th>\n",
       "      <th></th>\n",
       "      <th></th>\n",
       "      <th></th>\n",
       "      <th></th>\n",
       "      <th></th>\n",
       "      <th></th>\n",
       "    </tr>\n",
       "  </thead>\n",
       "  <tbody>\n",
       "    <tr>\n",
       "      <th>0</th>\n",
       "      <td>0.0</td>\n",
       "      <td>0.0</td>\n",
       "      <td>0.0</td>\n",
       "      <td>0.0</td>\n",
       "      <td>0.0</td>\n",
       "      <td>0.0</td>\n",
       "      <td>0.0</td>\n",
       "      <td>0.0</td>\n",
       "      <td>0.0</td>\n",
       "      <td>0.0</td>\n",
       "      <td>...</td>\n",
       "      <td>0.0</td>\n",
       "      <td>0.0</td>\n",
       "      <td>0.0</td>\n",
       "      <td>0.0</td>\n",
       "      <td>0.0</td>\n",
       "      <td>0.0</td>\n",
       "      <td>0.0</td>\n",
       "      <td>0.0</td>\n",
       "      <td>0.0</td>\n",
       "      <td>0.0</td>\n",
       "    </tr>\n",
       "    <tr>\n",
       "      <th>6</th>\n",
       "      <td>0.0</td>\n",
       "      <td>0.0</td>\n",
       "      <td>0.0</td>\n",
       "      <td>0.0</td>\n",
       "      <td>0.0</td>\n",
       "      <td>0.0</td>\n",
       "      <td>0.0</td>\n",
       "      <td>0.0</td>\n",
       "      <td>0.0</td>\n",
       "      <td>0.0</td>\n",
       "      <td>...</td>\n",
       "      <td>0.0</td>\n",
       "      <td>0.0</td>\n",
       "      <td>0.0</td>\n",
       "      <td>0.0</td>\n",
       "      <td>0.0</td>\n",
       "      <td>0.0</td>\n",
       "      <td>0.0</td>\n",
       "      <td>0.0</td>\n",
       "      <td>0.0</td>\n",
       "      <td>0.0</td>\n",
       "    </tr>\n",
       "    <tr>\n",
       "      <th>7</th>\n",
       "      <td>0.0</td>\n",
       "      <td>0.0</td>\n",
       "      <td>0.0</td>\n",
       "      <td>0.0</td>\n",
       "      <td>0.0</td>\n",
       "      <td>0.0</td>\n",
       "      <td>0.0</td>\n",
       "      <td>0.0</td>\n",
       "      <td>0.0</td>\n",
       "      <td>0.0</td>\n",
       "      <td>...</td>\n",
       "      <td>0.0</td>\n",
       "      <td>0.0</td>\n",
       "      <td>0.0</td>\n",
       "      <td>0.0</td>\n",
       "      <td>0.0</td>\n",
       "      <td>0.0</td>\n",
       "      <td>0.0</td>\n",
       "      <td>0.0</td>\n",
       "      <td>0.0</td>\n",
       "      <td>0.0</td>\n",
       "    </tr>\n",
       "    <tr>\n",
       "      <th>19</th>\n",
       "      <td>0.0</td>\n",
       "      <td>0.0</td>\n",
       "      <td>0.0</td>\n",
       "      <td>0.0</td>\n",
       "      <td>0.0</td>\n",
       "      <td>0.0</td>\n",
       "      <td>0.0</td>\n",
       "      <td>0.0</td>\n",
       "      <td>0.0</td>\n",
       "      <td>0.0</td>\n",
       "      <td>...</td>\n",
       "      <td>0.0</td>\n",
       "      <td>0.0</td>\n",
       "      <td>0.0</td>\n",
       "      <td>0.0</td>\n",
       "      <td>0.0</td>\n",
       "      <td>0.0</td>\n",
       "      <td>0.0</td>\n",
       "      <td>0.0</td>\n",
       "      <td>0.0</td>\n",
       "      <td>0.0</td>\n",
       "    </tr>\n",
       "    <tr>\n",
       "      <th>21</th>\n",
       "      <td>0.0</td>\n",
       "      <td>0.0</td>\n",
       "      <td>0.0</td>\n",
       "      <td>0.0</td>\n",
       "      <td>0.0</td>\n",
       "      <td>0.0</td>\n",
       "      <td>0.0</td>\n",
       "      <td>0.0</td>\n",
       "      <td>0.0</td>\n",
       "      <td>0.0</td>\n",
       "      <td>...</td>\n",
       "      <td>0.0</td>\n",
       "      <td>0.0</td>\n",
       "      <td>0.0</td>\n",
       "      <td>0.0</td>\n",
       "      <td>0.0</td>\n",
       "      <td>0.0</td>\n",
       "      <td>0.0</td>\n",
       "      <td>0.0</td>\n",
       "      <td>0.0</td>\n",
       "      <td>0.0</td>\n",
       "    </tr>\n",
       "  </tbody>\n",
       "</table>\n",
       "<p>5 rows × 9654 columns</p>\n",
       "</div>"
      ],
      "text/plain": [
       "anime_id  1      5      6      7      8      15     16     17     18     \\\n",
       "user_id                                                                   \n",
       "0           0.0    0.0    0.0    0.0    0.0    0.0    0.0    0.0    0.0   \n",
       "6           0.0    0.0    0.0    0.0    0.0    0.0    0.0    0.0    0.0   \n",
       "7           0.0    0.0    0.0    0.0    0.0    0.0    0.0    0.0    0.0   \n",
       "19          0.0    0.0    0.0    0.0    0.0    0.0    0.0    0.0    0.0   \n",
       "21          0.0    0.0    0.0    0.0    0.0    0.0    0.0    0.0    0.0   \n",
       "\n",
       "anime_id  19     ...  45567  45574  45598  45615  45753  46491  47307  47398  \\\n",
       "user_id          ...                                                           \n",
       "0           0.0  ...    0.0    0.0    0.0    0.0    0.0    0.0    0.0    0.0   \n",
       "6           0.0  ...    0.0    0.0    0.0    0.0    0.0    0.0    0.0    0.0   \n",
       "7           0.0  ...    0.0    0.0    0.0    0.0    0.0    0.0    0.0    0.0   \n",
       "19          0.0  ...    0.0    0.0    0.0    0.0    0.0    0.0    0.0    0.0   \n",
       "21          0.0  ...    0.0    0.0    0.0    0.0    0.0    0.0    0.0    0.0   \n",
       "\n",
       "anime_id  47402  47616  \n",
       "user_id                 \n",
       "0           0.0    0.0  \n",
       "6           0.0    0.0  \n",
       "7           0.0    0.0  \n",
       "19          0.0    0.0  \n",
       "21          0.0    0.0  \n",
       "\n",
       "[5 rows x 9654 columns]"
      ]
     },
     "execution_count": 43,
     "metadata": {},
     "output_type": "execute_result"
    }
   ],
   "source": [
    "#Completamos los NaN con 0s\n",
    "interactions_matrix = interactions_matrix.fillna(0)\n",
    "interactions_matrix.head()"
   ]
  },
  {
   "cell_type": "code",
   "execution_count": 44,
   "metadata": {},
   "outputs": [
    {
     "data": {
      "text/plain": [
       "(124061, 9654)"
      ]
     },
     "execution_count": 44,
     "metadata": {},
     "output_type": "execute_result"
    }
   ],
   "source": [
    "interactions_matrix.shape #Tiene 124.061 filas (usuarios) y 9654 columnas (animes)"
   ]
  },
  {
   "cell_type": "markdown",
   "metadata": {},
   "source": [
    "Vamos a transformar esta matriz sparsa a una matriz csr matrix (compressed sparse row)"
   ]
  },
  {
   "cell_type": "code",
   "execution_count": 45,
   "metadata": {},
   "outputs": [],
   "source": [
    "from scipy.sparse import csr_matrix"
   ]
  },
  {
   "cell_type": "code",
   "execution_count": 46,
   "metadata": {},
   "outputs": [],
   "source": [
    "interactions_matrix_csr = csr_matrix(interactions_matrix.values)"
   ]
  },
  {
   "cell_type": "code",
   "execution_count": 47,
   "metadata": {},
   "outputs": [
    {
     "data": {
      "text/plain": [
       "<124061x9654 sparse matrix of type '<class 'numpy.float64'>'\n",
       "\twith 230532 stored elements in Compressed Sparse Row format>"
      ]
     },
     "execution_count": 47,
     "metadata": {},
     "output_type": "execute_result"
    }
   ],
   "source": [
    "interactions_matrix_csr"
   ]
  },
  {
   "cell_type": "markdown",
   "metadata": {},
   "source": [
    "La siguiente celda generara un diccionario que nos servira mas adelante como indice. Tiene como keys el id de cada usuario y como valor el indice (numero de fila de la matriz)"
   ]
  },
  {
   "cell_type": "code",
   "execution_count": 48,
   "metadata": {},
   "outputs": [
    {
     "data": {
      "text/plain": [
       "Index([     0,      6,      7,     19,     21,     22,     28,     33,     37,\n",
       "           38,\n",
       "       ...\n",
       "       353378, 353381, 353383, 353384, 353385, 353386, 353387, 353388, 353395,\n",
       "       353398],\n",
       "      dtype='int64', name='user_id', length=124061)"
      ]
     },
     "execution_count": 48,
     "metadata": {},
     "output_type": "execute_result"
    }
   ],
   "source": [
    "interactions_matrix.index"
   ]
  },
  {
   "cell_type": "code",
   "execution_count": 49,
   "metadata": {},
   "outputs": [],
   "source": [
    "user_ids = list(interactions_matrix.index)\n",
    "user_dict = {}\n",
    "counter = 0 \n",
    "for i in user_ids:\n",
    "    user_dict[i] = counter\n",
    "    counter += 1"
   ]
  },
  {
   "cell_type": "code",
   "execution_count": 50,
   "metadata": {},
   "outputs": [
    {
     "data": {
      "text/plain": [
       "{0: 0,\n",
       " 6: 1,\n",
       " 7: 2,\n",
       " 19: 3,\n",
       " 21: 4,\n",
       " 22: 5,\n",
       " 28: 6,\n",
       " 33: 7,\n",
       " 37: 8,\n",
       " 38: 9,\n",
       " 40: 10,\n",
       " 41: 11,\n",
       " 42: 12,\n",
       " 44: 13,\n",
       " 47: 14,\n",
       " 49: 15,\n",
       " 54: 16,\n",
       " 55: 17,\n",
       " 73: 18,\n",
       " 85: 19,\n",
       " 90: 20,\n",
       " 91: 21,\n",
       " 94: 22,\n",
       " 101: 23,\n",
       " 103: 24,\n",
       " 107: 25,\n",
       " 108: 26,\n",
       " 111: 27,\n",
       " 112: 28,\n",
       " 117: 29,\n",
       " 119: 30,\n",
       " 120: 31,\n",
       " 121: 32,\n",
       " 122: 33,\n",
       " 123: 34,\n",
       " 124: 35,\n",
       " 127: 36,\n",
       " 128: 37,\n",
       " 129: 38,\n",
       " 131: 39,\n",
       " 133: 40,\n",
       " 135: 41,\n",
       " 136: 42,\n",
       " 137: 43,\n",
       " 146: 44,\n",
       " 147: 45,\n",
       " 154: 46,\n",
       " 156: 47,\n",
       " 158: 48,\n",
       " 162: 49,\n",
       " 163: 50,\n",
       " 172: 51,\n",
       " 173: 52,\n",
       " 174: 53,\n",
       " 177: 54,\n",
       " 179: 55,\n",
       " 184: 56,\n",
       " 185: 57,\n",
       " 193: 58,\n",
       " 194: 59,\n",
       " 196: 60,\n",
       " 198: 61,\n",
       " 207: 62,\n",
       " 209: 63,\n",
       " 211: 64,\n",
       " 214: 65,\n",
       " 216: 66,\n",
       " 219: 67,\n",
       " 221: 68,\n",
       " 222: 69,\n",
       " 227: 70,\n",
       " 228: 71,\n",
       " 229: 72,\n",
       " 231: 73,\n",
       " 238: 74,\n",
       " 240: 75,\n",
       " 243: 76,\n",
       " 244: 77,\n",
       " 246: 78,\n",
       " 247: 79,\n",
       " 251: 80,\n",
       " 258: 81,\n",
       " 259: 82,\n",
       " 260: 83,\n",
       " 262: 84,\n",
       " 264: 85,\n",
       " 267: 86,\n",
       " 269: 87,\n",
       " 272: 88,\n",
       " 277: 89,\n",
       " 278: 90,\n",
       " 281: 91,\n",
       " 286: 92,\n",
       " 288: 93,\n",
       " 290: 94,\n",
       " 293: 95,\n",
       " 296: 96,\n",
       " 297: 97,\n",
       " 304: 98,\n",
       " 306: 99,\n",
       " 311: 100,\n",
       " 313: 101,\n",
       " 320: 102,\n",
       " 321: 103,\n",
       " 322: 104,\n",
       " 323: 105,\n",
       " 324: 106,\n",
       " 325: 107,\n",
       " 326: 108,\n",
       " 327: 109,\n",
       " 328: 110,\n",
       " 330: 111,\n",
       " 334: 112,\n",
       " 336: 113,\n",
       " 340: 114,\n",
       " 344: 115,\n",
       " 345: 116,\n",
       " 346: 117,\n",
       " 349: 118,\n",
       " 350: 119,\n",
       " 357: 120,\n",
       " 359: 121,\n",
       " 363: 122,\n",
       " 365: 123,\n",
       " 366: 124,\n",
       " 368: 125,\n",
       " 371: 126,\n",
       " 372: 127,\n",
       " 373: 128,\n",
       " 377: 129,\n",
       " 386: 130,\n",
       " 389: 131,\n",
       " 394: 132,\n",
       " 398: 133,\n",
       " 399: 134,\n",
       " 404: 135,\n",
       " 406: 136,\n",
       " 413: 137,\n",
       " 417: 138,\n",
       " 418: 139,\n",
       " 423: 140,\n",
       " 427: 141,\n",
       " 428: 142,\n",
       " 429: 143,\n",
       " 431: 144,\n",
       " 432: 145,\n",
       " 433: 146,\n",
       " 436: 147,\n",
       " 437: 148,\n",
       " 440: 149,\n",
       " 442: 150,\n",
       " 446: 151,\n",
       " 450: 152,\n",
       " 457: 153,\n",
       " 458: 154,\n",
       " 459: 155,\n",
       " 461: 156,\n",
       " 464: 157,\n",
       " 468: 158,\n",
       " 469: 159,\n",
       " 478: 160,\n",
       " 479: 161,\n",
       " 480: 162,\n",
       " 481: 163,\n",
       " 483: 164,\n",
       " 484: 165,\n",
       " 491: 166,\n",
       " 493: 167,\n",
       " 498: 168,\n",
       " 502: 169,\n",
       " 510: 170,\n",
       " 516: 171,\n",
       " 518: 172,\n",
       " 522: 173,\n",
       " 524: 174,\n",
       " 526: 175,\n",
       " 529: 176,\n",
       " 531: 177,\n",
       " 535: 178,\n",
       " 541: 179,\n",
       " 542: 180,\n",
       " 545: 181,\n",
       " 548: 182,\n",
       " 549: 183,\n",
       " 551: 184,\n",
       " 554: 185,\n",
       " 558: 186,\n",
       " 563: 187,\n",
       " 564: 188,\n",
       " 567: 189,\n",
       " 571: 190,\n",
       " 572: 191,\n",
       " 575: 192,\n",
       " 576: 193,\n",
       " 577: 194,\n",
       " 581: 195,\n",
       " 590: 196,\n",
       " 592: 197,\n",
       " 596: 198,\n",
       " 601: 199,\n",
       " 603: 200,\n",
       " 604: 201,\n",
       " 611: 202,\n",
       " 613: 203,\n",
       " 619: 204,\n",
       " 620: 205,\n",
       " 631: 206,\n",
       " 632: 207,\n",
       " 633: 208,\n",
       " 639: 209,\n",
       " 642: 210,\n",
       " 643: 211,\n",
       " 644: 212,\n",
       " 648: 213,\n",
       " 652: 214,\n",
       " 656: 215,\n",
       " 660: 216,\n",
       " 662: 217,\n",
       " 664: 218,\n",
       " 668: 219,\n",
       " 672: 220,\n",
       " 673: 221,\n",
       " 674: 222,\n",
       " 679: 223,\n",
       " 681: 224,\n",
       " 688: 225,\n",
       " 689: 226,\n",
       " 690: 227,\n",
       " 693: 228,\n",
       " 694: 229,\n",
       " 695: 230,\n",
       " 696: 231,\n",
       " 699: 232,\n",
       " 701: 233,\n",
       " 705: 234,\n",
       " 713: 235,\n",
       " 714: 236,\n",
       " 715: 237,\n",
       " 716: 238,\n",
       " 719: 239,\n",
       " 720: 240,\n",
       " 724: 241,\n",
       " 725: 242,\n",
       " 728: 243,\n",
       " 730: 244,\n",
       " 732: 245,\n",
       " 734: 246,\n",
       " 736: 247,\n",
       " 737: 248,\n",
       " 741: 249,\n",
       " 742: 250,\n",
       " 743: 251,\n",
       " 744: 252,\n",
       " 745: 253,\n",
       " 751: 254,\n",
       " 753: 255,\n",
       " 759: 256,\n",
       " 760: 257,\n",
       " 764: 258,\n",
       " 770: 259,\n",
       " 771: 260,\n",
       " 774: 261,\n",
       " 779: 262,\n",
       " 780: 263,\n",
       " 781: 264,\n",
       " 783: 265,\n",
       " 785: 266,\n",
       " 789: 267,\n",
       " 791: 268,\n",
       " 792: 269,\n",
       " 793: 270,\n",
       " 794: 271,\n",
       " 798: 272,\n",
       " 802: 273,\n",
       " 808: 274,\n",
       " 809: 275,\n",
       " 811: 276,\n",
       " 815: 277,\n",
       " 819: 278,\n",
       " 820: 279,\n",
       " 823: 280,\n",
       " 828: 281,\n",
       " 831: 282,\n",
       " 841: 283,\n",
       " 842: 284,\n",
       " 844: 285,\n",
       " 847: 286,\n",
       " 848: 287,\n",
       " 849: 288,\n",
       " 850: 289,\n",
       " 853: 290,\n",
       " 854: 291,\n",
       " 856: 292,\n",
       " 857: 293,\n",
       " 858: 294,\n",
       " 860: 295,\n",
       " 864: 296,\n",
       " 866: 297,\n",
       " 871: 298,\n",
       " 876: 299,\n",
       " 877: 300,\n",
       " 879: 301,\n",
       " 880: 302,\n",
       " 883: 303,\n",
       " 887: 304,\n",
       " 888: 305,\n",
       " 889: 306,\n",
       " 890: 307,\n",
       " 892: 308,\n",
       " 896: 309,\n",
       " 899: 310,\n",
       " 901: 311,\n",
       " 903: 312,\n",
       " 906: 313,\n",
       " 911: 314,\n",
       " 912: 315,\n",
       " 916: 316,\n",
       " 921: 317,\n",
       " 923: 318,\n",
       " 924: 319,\n",
       " 925: 320,\n",
       " 927: 321,\n",
       " 932: 322,\n",
       " 934: 323,\n",
       " 935: 324,\n",
       " 936: 325,\n",
       " 937: 326,\n",
       " 941: 327,\n",
       " 943: 328,\n",
       " 944: 329,\n",
       " 946: 330,\n",
       " 948: 331,\n",
       " 950: 332,\n",
       " 953: 333,\n",
       " 955: 334,\n",
       " 965: 335,\n",
       " 969: 336,\n",
       " 970: 337,\n",
       " 971: 338,\n",
       " 972: 339,\n",
       " 974: 340,\n",
       " 976: 341,\n",
       " 985: 342,\n",
       " 986: 343,\n",
       " 988: 344,\n",
       " 992: 345,\n",
       " 994: 346,\n",
       " 995: 347,\n",
       " 1000: 348,\n",
       " 1002: 349,\n",
       " 1004: 350,\n",
       " 1005: 351,\n",
       " 1008: 352,\n",
       " 1016: 353,\n",
       " 1021: 354,\n",
       " 1027: 355,\n",
       " 1029: 356,\n",
       " 1031: 357,\n",
       " 1032: 358,\n",
       " 1036: 359,\n",
       " 1043: 360,\n",
       " 1044: 361,\n",
       " 1045: 362,\n",
       " 1046: 363,\n",
       " 1047: 364,\n",
       " 1048: 365,\n",
       " 1049: 366,\n",
       " 1055: 367,\n",
       " 1060: 368,\n",
       " 1063: 369,\n",
       " 1065: 370,\n",
       " 1066: 371,\n",
       " 1069: 372,\n",
       " 1073: 373,\n",
       " 1078: 374,\n",
       " 1079: 375,\n",
       " 1081: 376,\n",
       " 1082: 377,\n",
       " 1089: 378,\n",
       " 1091: 379,\n",
       " 1096: 380,\n",
       " 1097: 381,\n",
       " 1099: 382,\n",
       " 1105: 383,\n",
       " 1107: 384,\n",
       " 1111: 385,\n",
       " 1113: 386,\n",
       " 1115: 387,\n",
       " 1119: 388,\n",
       " 1121: 389,\n",
       " 1125: 390,\n",
       " 1127: 391,\n",
       " 1133: 392,\n",
       " 1139: 393,\n",
       " 1142: 394,\n",
       " 1145: 395,\n",
       " 1147: 396,\n",
       " 1149: 397,\n",
       " 1150: 398,\n",
       " 1152: 399,\n",
       " 1156: 400,\n",
       " 1159: 401,\n",
       " 1162: 402,\n",
       " 1164: 403,\n",
       " 1170: 404,\n",
       " 1173: 405,\n",
       " 1177: 406,\n",
       " 1178: 407,\n",
       " 1184: 408,\n",
       " 1186: 409,\n",
       " 1187: 410,\n",
       " 1189: 411,\n",
       " 1192: 412,\n",
       " 1205: 413,\n",
       " 1209: 414,\n",
       " 1219: 415,\n",
       " 1220: 416,\n",
       " 1227: 417,\n",
       " 1231: 418,\n",
       " 1233: 419,\n",
       " 1234: 420,\n",
       " 1236: 421,\n",
       " 1239: 422,\n",
       " 1240: 423,\n",
       " 1242: 424,\n",
       " 1243: 425,\n",
       " 1244: 426,\n",
       " 1246: 427,\n",
       " 1249: 428,\n",
       " 1250: 429,\n",
       " 1251: 430,\n",
       " 1252: 431,\n",
       " 1257: 432,\n",
       " 1262: 433,\n",
       " 1263: 434,\n",
       " 1264: 435,\n",
       " 1266: 436,\n",
       " 1273: 437,\n",
       " 1275: 438,\n",
       " 1282: 439,\n",
       " 1286: 440,\n",
       " 1289: 441,\n",
       " 1293: 442,\n",
       " 1295: 443,\n",
       " 1296: 444,\n",
       " 1297: 445,\n",
       " 1301: 446,\n",
       " 1303: 447,\n",
       " 1309: 448,\n",
       " 1310: 449,\n",
       " 1316: 450,\n",
       " 1318: 451,\n",
       " 1323: 452,\n",
       " 1327: 453,\n",
       " 1331: 454,\n",
       " 1334: 455,\n",
       " 1335: 456,\n",
       " 1346: 457,\n",
       " 1347: 458,\n",
       " 1348: 459,\n",
       " 1351: 460,\n",
       " 1353: 461,\n",
       " 1356: 462,\n",
       " 1357: 463,\n",
       " 1358: 464,\n",
       " 1361: 465,\n",
       " 1365: 466,\n",
       " 1371: 467,\n",
       " 1373: 468,\n",
       " 1374: 469,\n",
       " 1377: 470,\n",
       " 1378: 471,\n",
       " 1382: 472,\n",
       " 1384: 473,\n",
       " 1392: 474,\n",
       " 1393: 475,\n",
       " 1396: 476,\n",
       " 1397: 477,\n",
       " 1398: 478,\n",
       " 1400: 479,\n",
       " 1402: 480,\n",
       " 1404: 481,\n",
       " 1405: 482,\n",
       " 1407: 483,\n",
       " 1412: 484,\n",
       " 1414: 485,\n",
       " 1417: 486,\n",
       " 1419: 487,\n",
       " 1420: 488,\n",
       " 1421: 489,\n",
       " 1429: 490,\n",
       " 1436: 491,\n",
       " 1437: 492,\n",
       " 1438: 493,\n",
       " 1439: 494,\n",
       " 1443: 495,\n",
       " 1453: 496,\n",
       " 1456: 497,\n",
       " 1463: 498,\n",
       " 1464: 499,\n",
       " 1468: 500,\n",
       " 1469: 501,\n",
       " 1470: 502,\n",
       " 1472: 503,\n",
       " 1473: 504,\n",
       " 1475: 505,\n",
       " 1483: 506,\n",
       " 1487: 507,\n",
       " 1488: 508,\n",
       " 1492: 509,\n",
       " 1494: 510,\n",
       " 1495: 511,\n",
       " 1496: 512,\n",
       " 1498: 513,\n",
       " 1501: 514,\n",
       " 1502: 515,\n",
       " 1504: 516,\n",
       " 1506: 517,\n",
       " 1518: 518,\n",
       " 1523: 519,\n",
       " 1529: 520,\n",
       " 1530: 521,\n",
       " 1534: 522,\n",
       " 1537: 523,\n",
       " 1543: 524,\n",
       " 1549: 525,\n",
       " 1554: 526,\n",
       " 1555: 527,\n",
       " 1557: 528,\n",
       " 1560: 529,\n",
       " 1561: 530,\n",
       " 1562: 531,\n",
       " 1563: 532,\n",
       " 1564: 533,\n",
       " 1565: 534,\n",
       " 1567: 535,\n",
       " 1568: 536,\n",
       " 1571: 537,\n",
       " 1575: 538,\n",
       " 1578: 539,\n",
       " 1582: 540,\n",
       " 1583: 541,\n",
       " 1584: 542,\n",
       " 1587: 543,\n",
       " 1588: 544,\n",
       " 1590: 545,\n",
       " 1593: 546,\n",
       " 1595: 547,\n",
       " 1596: 548,\n",
       " 1599: 549,\n",
       " 1601: 550,\n",
       " 1602: 551,\n",
       " 1603: 552,\n",
       " 1606: 553,\n",
       " 1609: 554,\n",
       " 1611: 555,\n",
       " 1612: 556,\n",
       " 1616: 557,\n",
       " 1619: 558,\n",
       " 1620: 559,\n",
       " 1626: 560,\n",
       " 1627: 561,\n",
       " 1628: 562,\n",
       " 1629: 563,\n",
       " 1630: 564,\n",
       " 1631: 565,\n",
       " 1642: 566,\n",
       " 1649: 567,\n",
       " 1650: 568,\n",
       " 1654: 569,\n",
       " 1656: 570,\n",
       " 1663: 571,\n",
       " 1664: 572,\n",
       " 1665: 573,\n",
       " 1667: 574,\n",
       " 1668: 575,\n",
       " 1670: 576,\n",
       " 1672: 577,\n",
       " 1674: 578,\n",
       " 1679: 579,\n",
       " 1681: 580,\n",
       " 1683: 581,\n",
       " 1687: 582,\n",
       " 1694: 583,\n",
       " 1695: 584,\n",
       " 1696: 585,\n",
       " 1697: 586,\n",
       " 1698: 587,\n",
       " 1703: 588,\n",
       " 1710: 589,\n",
       " 1717: 590,\n",
       " 1721: 591,\n",
       " 1723: 592,\n",
       " 1727: 593,\n",
       " 1730: 594,\n",
       " 1731: 595,\n",
       " 1733: 596,\n",
       " 1734: 597,\n",
       " 1739: 598,\n",
       " 1746: 599,\n",
       " 1747: 600,\n",
       " 1749: 601,\n",
       " 1752: 602,\n",
       " 1754: 603,\n",
       " 1756: 604,\n",
       " 1757: 605,\n",
       " 1760: 606,\n",
       " 1766: 607,\n",
       " 1771: 608,\n",
       " 1775: 609,\n",
       " 1778: 610,\n",
       " 1782: 611,\n",
       " 1783: 612,\n",
       " 1797: 613,\n",
       " 1800: 614,\n",
       " 1801: 615,\n",
       " 1802: 616,\n",
       " 1803: 617,\n",
       " 1817: 618,\n",
       " 1818: 619,\n",
       " 1820: 620,\n",
       " 1822: 621,\n",
       " 1831: 622,\n",
       " 1832: 623,\n",
       " 1833: 624,\n",
       " 1841: 625,\n",
       " 1847: 626,\n",
       " 1850: 627,\n",
       " 1852: 628,\n",
       " 1858: 629,\n",
       " 1859: 630,\n",
       " 1862: 631,\n",
       " 1869: 632,\n",
       " 1870: 633,\n",
       " 1872: 634,\n",
       " 1875: 635,\n",
       " 1879: 636,\n",
       " 1883: 637,\n",
       " 1886: 638,\n",
       " 1887: 639,\n",
       " 1888: 640,\n",
       " 1889: 641,\n",
       " 1891: 642,\n",
       " 1892: 643,\n",
       " 1893: 644,\n",
       " 1894: 645,\n",
       " 1895: 646,\n",
       " 1902: 647,\n",
       " 1911: 648,\n",
       " 1916: 649,\n",
       " 1918: 650,\n",
       " 1920: 651,\n",
       " 1924: 652,\n",
       " 1926: 653,\n",
       " 1928: 654,\n",
       " 1930: 655,\n",
       " 1934: 656,\n",
       " 1936: 657,\n",
       " 1938: 658,\n",
       " 1940: 659,\n",
       " 1941: 660,\n",
       " 1945: 661,\n",
       " 1946: 662,\n",
       " 1947: 663,\n",
       " 1948: 664,\n",
       " 1950: 665,\n",
       " 1955: 666,\n",
       " 1956: 667,\n",
       " 1957: 668,\n",
       " 1958: 669,\n",
       " 1959: 670,\n",
       " 1960: 671,\n",
       " 1961: 672,\n",
       " 1962: 673,\n",
       " 1963: 674,\n",
       " 1964: 675,\n",
       " 1965: 676,\n",
       " 1967: 677,\n",
       " 1979: 678,\n",
       " 1988: 679,\n",
       " 1989: 680,\n",
       " 1993: 681,\n",
       " 1996: 682,\n",
       " 2003: 683,\n",
       " 2007: 684,\n",
       " 2008: 685,\n",
       " 2015: 686,\n",
       " 2018: 687,\n",
       " 2020: 688,\n",
       " 2021: 689,\n",
       " 2023: 690,\n",
       " 2026: 691,\n",
       " 2030: 692,\n",
       " 2032: 693,\n",
       " 2033: 694,\n",
       " 2037: 695,\n",
       " 2038: 696,\n",
       " 2040: 697,\n",
       " 2058: 698,\n",
       " 2059: 699,\n",
       " 2060: 700,\n",
       " 2062: 701,\n",
       " 2066: 702,\n",
       " 2069: 703,\n",
       " 2079: 704,\n",
       " 2080: 705,\n",
       " 2081: 706,\n",
       " 2088: 707,\n",
       " 2098: 708,\n",
       " 2101: 709,\n",
       " 2109: 710,\n",
       " 2111: 711,\n",
       " 2112: 712,\n",
       " 2113: 713,\n",
       " 2118: 714,\n",
       " 2120: 715,\n",
       " 2122: 716,\n",
       " 2123: 717,\n",
       " 2125: 718,\n",
       " 2127: 719,\n",
       " 2129: 720,\n",
       " 2135: 721,\n",
       " 2136: 722,\n",
       " 2140: 723,\n",
       " 2142: 724,\n",
       " 2145: 725,\n",
       " 2149: 726,\n",
       " 2150: 727,\n",
       " 2152: 728,\n",
       " 2153: 729,\n",
       " 2159: 730,\n",
       " 2161: 731,\n",
       " 2162: 732,\n",
       " 2168: 733,\n",
       " 2169: 734,\n",
       " 2173: 735,\n",
       " 2174: 736,\n",
       " 2175: 737,\n",
       " 2177: 738,\n",
       " 2179: 739,\n",
       " 2181: 740,\n",
       " 2182: 741,\n",
       " 2185: 742,\n",
       " 2186: 743,\n",
       " 2188: 744,\n",
       " 2189: 745,\n",
       " 2191: 746,\n",
       " 2192: 747,\n",
       " 2193: 748,\n",
       " 2195: 749,\n",
       " 2197: 750,\n",
       " 2202: 751,\n",
       " 2203: 752,\n",
       " 2209: 753,\n",
       " 2213: 754,\n",
       " 2219: 755,\n",
       " 2225: 756,\n",
       " 2226: 757,\n",
       " 2227: 758,\n",
       " 2230: 759,\n",
       " 2235: 760,\n",
       " 2236: 761,\n",
       " 2239: 762,\n",
       " 2246: 763,\n",
       " 2248: 764,\n",
       " 2253: 765,\n",
       " 2262: 766,\n",
       " 2263: 767,\n",
       " 2264: 768,\n",
       " 2270: 769,\n",
       " 2271: 770,\n",
       " 2274: 771,\n",
       " 2276: 772,\n",
       " 2279: 773,\n",
       " 2280: 774,\n",
       " 2281: 775,\n",
       " 2283: 776,\n",
       " 2286: 777,\n",
       " 2290: 778,\n",
       " 2291: 779,\n",
       " 2292: 780,\n",
       " 2295: 781,\n",
       " 2298: 782,\n",
       " 2299: 783,\n",
       " 2300: 784,\n",
       " 2303: 785,\n",
       " 2304: 786,\n",
       " 2306: 787,\n",
       " 2310: 788,\n",
       " 2314: 789,\n",
       " 2316: 790,\n",
       " 2317: 791,\n",
       " 2319: 792,\n",
       " 2320: 793,\n",
       " 2325: 794,\n",
       " 2327: 795,\n",
       " 2334: 796,\n",
       " 2336: 797,\n",
       " 2337: 798,\n",
       " 2342: 799,\n",
       " 2346: 800,\n",
       " 2349: 801,\n",
       " 2350: 802,\n",
       " 2355: 803,\n",
       " 2358: 804,\n",
       " 2359: 805,\n",
       " 2360: 806,\n",
       " 2361: 807,\n",
       " 2362: 808,\n",
       " 2365: 809,\n",
       " 2367: 810,\n",
       " 2370: 811,\n",
       " 2371: 812,\n",
       " 2372: 813,\n",
       " 2376: 814,\n",
       " 2381: 815,\n",
       " 2382: 816,\n",
       " 2386: 817,\n",
       " 2388: 818,\n",
       " 2390: 819,\n",
       " 2392: 820,\n",
       " 2400: 821,\n",
       " 2410: 822,\n",
       " 2414: 823,\n",
       " 2422: 824,\n",
       " 2423: 825,\n",
       " 2424: 826,\n",
       " 2425: 827,\n",
       " 2427: 828,\n",
       " 2428: 829,\n",
       " 2434: 830,\n",
       " 2435: 831,\n",
       " 2436: 832,\n",
       " 2439: 833,\n",
       " 2440: 834,\n",
       " 2441: 835,\n",
       " 2442: 836,\n",
       " 2447: 837,\n",
       " 2448: 838,\n",
       " 2449: 839,\n",
       " 2450: 840,\n",
       " 2454: 841,\n",
       " 2464: 842,\n",
       " 2465: 843,\n",
       " 2469: 844,\n",
       " 2471: 845,\n",
       " 2476: 846,\n",
       " 2480: 847,\n",
       " 2483: 848,\n",
       " 2485: 849,\n",
       " 2489: 850,\n",
       " 2493: 851,\n",
       " 2502: 852,\n",
       " 2506: 853,\n",
       " 2507: 854,\n",
       " 2508: 855,\n",
       " 2509: 856,\n",
       " 2512: 857,\n",
       " 2517: 858,\n",
       " 2518: 859,\n",
       " 2520: 860,\n",
       " 2522: 861,\n",
       " 2523: 862,\n",
       " 2531: 863,\n",
       " 2540: 864,\n",
       " 2544: 865,\n",
       " 2545: 866,\n",
       " 2546: 867,\n",
       " 2547: 868,\n",
       " 2552: 869,\n",
       " 2556: 870,\n",
       " 2557: 871,\n",
       " 2559: 872,\n",
       " 2560: 873,\n",
       " 2562: 874,\n",
       " 2563: 875,\n",
       " 2565: 876,\n",
       " 2569: 877,\n",
       " 2571: 878,\n",
       " 2576: 879,\n",
       " 2577: 880,\n",
       " 2582: 881,\n",
       " 2586: 882,\n",
       " 2587: 883,\n",
       " 2588: 884,\n",
       " 2596: 885,\n",
       " 2597: 886,\n",
       " 2599: 887,\n",
       " 2601: 888,\n",
       " 2603: 889,\n",
       " 2605: 890,\n",
       " 2607: 891,\n",
       " 2608: 892,\n",
       " 2609: 893,\n",
       " 2610: 894,\n",
       " 2613: 895,\n",
       " 2616: 896,\n",
       " 2618: 897,\n",
       " 2622: 898,\n",
       " 2624: 899,\n",
       " 2632: 900,\n",
       " 2634: 901,\n",
       " 2635: 902,\n",
       " 2638: 903,\n",
       " 2641: 904,\n",
       " 2643: 905,\n",
       " 2644: 906,\n",
       " 2649: 907,\n",
       " 2650: 908,\n",
       " 2651: 909,\n",
       " 2654: 910,\n",
       " 2656: 911,\n",
       " 2658: 912,\n",
       " 2659: 913,\n",
       " 2662: 914,\n",
       " 2664: 915,\n",
       " 2666: 916,\n",
       " 2669: 917,\n",
       " 2672: 918,\n",
       " 2674: 919,\n",
       " 2675: 920,\n",
       " 2677: 921,\n",
       " 2682: 922,\n",
       " 2690: 923,\n",
       " 2691: 924,\n",
       " 2692: 925,\n",
       " 2697: 926,\n",
       " 2698: 927,\n",
       " 2702: 928,\n",
       " 2703: 929,\n",
       " 2706: 930,\n",
       " 2713: 931,\n",
       " 2715: 932,\n",
       " 2716: 933,\n",
       " 2720: 934,\n",
       " 2721: 935,\n",
       " 2722: 936,\n",
       " 2728: 937,\n",
       " 2734: 938,\n",
       " 2735: 939,\n",
       " 2738: 940,\n",
       " 2741: 941,\n",
       " 2745: 942,\n",
       " 2754: 943,\n",
       " 2760: 944,\n",
       " 2764: 945,\n",
       " 2766: 946,\n",
       " 2768: 947,\n",
       " 2771: 948,\n",
       " 2772: 949,\n",
       " 2774: 950,\n",
       " 2778: 951,\n",
       " 2779: 952,\n",
       " 2782: 953,\n",
       " 2787: 954,\n",
       " 2789: 955,\n",
       " 2790: 956,\n",
       " 2791: 957,\n",
       " 2796: 958,\n",
       " 2809: 959,\n",
       " 2811: 960,\n",
       " 2812: 961,\n",
       " 2814: 962,\n",
       " 2815: 963,\n",
       " 2816: 964,\n",
       " 2819: 965,\n",
       " 2820: 966,\n",
       " 2824: 967,\n",
       " 2828: 968,\n",
       " 2830: 969,\n",
       " 2832: 970,\n",
       " 2836: 971,\n",
       " 2839: 972,\n",
       " 2840: 973,\n",
       " 2844: 974,\n",
       " 2852: 975,\n",
       " 2856: 976,\n",
       " 2860: 977,\n",
       " 2863: 978,\n",
       " 2864: 979,\n",
       " 2866: 980,\n",
       " 2868: 981,\n",
       " 2871: 982,\n",
       " 2873: 983,\n",
       " 2874: 984,\n",
       " 2875: 985,\n",
       " 2880: 986,\n",
       " 2881: 987,\n",
       " 2882: 988,\n",
       " 2885: 989,\n",
       " 2891: 990,\n",
       " 2892: 991,\n",
       " 2897: 992,\n",
       " 2908: 993,\n",
       " 2918: 994,\n",
       " 2919: 995,\n",
       " 2921: 996,\n",
       " 2924: 997,\n",
       " 2925: 998,\n",
       " 2928: 999,\n",
       " ...}"
      ]
     },
     "execution_count": 50,
     "metadata": {},
     "output_type": "execute_result"
    }
   ],
   "source": [
    "user_dict"
   ]
  },
  {
   "cell_type": "markdown",
   "metadata": {},
   "source": [
    "Modelado: ya tenemos la matriz lista para entrenar el modelo. Utilizaremos la libreria LFM (light fm)"
   ]
  },
  {
   "cell_type": "code",
   "execution_count": 51,
   "metadata": {},
   "outputs": [
    {
     "name": "stdout",
     "output_type": "stream",
     "text": [
      "Requirement already satisfied: lightfm in c:\\users\\ferbi\\appdata\\local\\programs\\python\\python311\\lib\\site-packages (1.17)Note: you may need to restart the kernel to use updated packages.\n",
      "\n",
      "Requirement already satisfied: numpy in c:\\users\\ferbi\\appdata\\local\\programs\\python\\python311\\lib\\site-packages (from lightfm) (1.25.0)\n",
      "Requirement already satisfied: scipy>=0.17.0 in c:\\users\\ferbi\\appdata\\local\\programs\\python\\python311\\lib\\site-packages (from lightfm) (1.11.1)\n",
      "Requirement already satisfied: requests in c:\\users\\ferbi\\appdata\\local\\programs\\python\\python311\\lib\\site-packages (from lightfm) (2.31.0)\n",
      "Requirement already satisfied: scikit-learn in c:\\users\\ferbi\\appdata\\local\\programs\\python\\python311\\lib\\site-packages (from lightfm) (1.3.0)\n",
      "Requirement already satisfied: charset-normalizer<4,>=2 in c:\\users\\ferbi\\appdata\\local\\programs\\python\\python311\\lib\\site-packages (from requests->lightfm) (3.2.0)\n",
      "Requirement already satisfied: idna<4,>=2.5 in c:\\users\\ferbi\\appdata\\local\\programs\\python\\python311\\lib\\site-packages (from requests->lightfm) (3.4)\n",
      "Requirement already satisfied: urllib3<3,>=1.21.1 in c:\\users\\ferbi\\appdata\\local\\programs\\python\\python311\\lib\\site-packages (from requests->lightfm) (2.0.5)\n",
      "Requirement already satisfied: certifi>=2017.4.17 in c:\\users\\ferbi\\appdata\\local\\programs\\python\\python311\\lib\\site-packages (from requests->lightfm) (2023.7.22)\n",
      "Requirement already satisfied: joblib>=1.1.1 in c:\\users\\ferbi\\appdata\\local\\programs\\python\\python311\\lib\\site-packages (from scikit-learn->lightfm) (1.3.1)\n",
      "Requirement already satisfied: threadpoolctl>=2.0.0 in c:\\users\\ferbi\\appdata\\local\\programs\\python\\python311\\lib\\site-packages (from scikit-learn->lightfm) (3.1.0)\n"
     ]
    }
   ],
   "source": [
    "pip install lightfm "
   ]
  },
  {
   "cell_type": "code",
   "execution_count": 52,
   "metadata": {},
   "outputs": [
    {
     "name": "stderr",
     "output_type": "stream",
     "text": [
      "c:\\Users\\ferbi\\AppData\\Local\\Programs\\Python\\Python311\\Lib\\site-packages\\lightfm\\_lightfm_fast.py:9: UserWarning: LightFM was compiled without OpenMP support. Only a single thread will be used.\n",
      "  warnings.warn(\n"
     ]
    }
   ],
   "source": [
    "from lightfm import LightFM"
   ]
  },
  {
   "cell_type": "markdown",
   "metadata": {},
   "source": [
    "Utilizamos para entrenar el primer modelo y como prueba los siguientes parametros: \n",
    "- no_components: 3 (caracteristicas latentes)\n",
    "- random_state: 100 (semilla)\n",
    "- learning_rate: 0.03 (controla cuanto se ajustan los parametros del modelo en cada paso del entrenamiento)"
   ]
  },
  {
   "cell_type": "code",
   "execution_count": 53,
   "metadata": {},
   "outputs": [],
   "source": [
    "model = LightFM(no_components=3, random_state=100, learning_rate=0.03)"
   ]
  },
  {
   "cell_type": "markdown",
   "metadata": {},
   "source": [
    "Entrenamos el modelo con la matriz comprimida por 10 epochs:    "
   ]
  },
  {
   "cell_type": "code",
   "execution_count": 54,
   "metadata": {},
   "outputs": [
    {
     "name": "stdout",
     "output_type": "stream",
     "text": [
      "CPU times: total: 1.05 s\n",
      "Wall time: 2.13 s\n"
     ]
    }
   ],
   "source": [
    "%%time \n",
    "#Devuelve el tiempo que le lleva a mi maquina el entrenamiento\n",
    "model = model.fit(interactions_matrix_csr, epochs = 10)"
   ]
  },
  {
   "cell_type": "markdown",
   "metadata": {},
   "source": [
    "Generamos una prediccion \"manual\" para el usuario numero 6:"
   ]
  },
  {
   "cell_type": "code",
   "execution_count": 55,
   "metadata": {},
   "outputs": [
    {
     "name": "stdout",
     "output_type": "stream",
     "text": [
      "1\n",
      "124061 9654\n"
     ]
    },
    {
     "data": {
      "text/plain": [
       "array([   0,    1,    2, ..., 9651, 9652, 9653])"
      ]
     },
     "execution_count": 55,
     "metadata": {},
     "output_type": "execute_result"
    }
   ],
   "source": [
    "user_x = user_dict[6]\n",
    "print(user_x)\n",
    "n_users, n_items = interactions_matrix.shape\n",
    "print(n_users, n_items)\n",
    "items_ids = np.arange(n_items)\n",
    "items_ids "
   ]
  },
  {
   "cell_type": "code",
   "execution_count": 56,
   "metadata": {},
   "outputs": [
    {
     "data": {
      "text/plain": [
       "array([2.4598477 , 1.7341185 , 2.0304065 , ..., 0.39393908, 0.4271939 ,\n",
       "       0.516116  ], dtype=float32)"
      ]
     },
     "execution_count": 56,
     "metadata": {},
     "output_type": "execute_result"
    }
   ],
   "source": [
    "#Generamos las predicciones\n",
    "preds = model.predict(user_ids= user_x, item_ids = items_ids)\n",
    "preds"
   ]
  },
  {
   "cell_type": "markdown",
   "metadata": {},
   "source": [
    "Este array que obtenemos son los scores que le da el modelo a cada item para el usuario 6. Podemos ordenarlo y obtener las mejores recomendaciones"
   ]
  },
  {
   "cell_type": "code",
   "execution_count": 57,
   "metadata": {},
   "outputs": [],
   "source": [
    "scores  = pd.Series(preds)\n",
    "scores.index = interactions_matrix.columns\n",
    "recomms_6 = list(pd.Series(scores.sort_values(ascending=False).index))[:20] #Obtenemos las primeras 20"
   ]
  },
  {
   "cell_type": "code",
   "execution_count": 58,
   "metadata": {},
   "outputs": [
    {
     "data": {
      "text/plain": [
       "Index([    1,     5,     6,     7,     8,    15,    16,    17,    18,    19,\n",
       "       ...\n",
       "       45567, 45574, 45598, 45615, 45753, 46491, 47307, 47398, 47402, 47616],\n",
       "      dtype='int64', name='anime_id', length=9654)"
      ]
     },
     "execution_count": 58,
     "metadata": {},
     "output_type": "execute_result"
    }
   ],
   "source": [
    "scores.index"
   ]
  },
  {
   "cell_type": "code",
   "execution_count": 59,
   "metadata": {},
   "outputs": [
    {
     "data": {
      "text/plain": [
       "[1535,\n",
       " 11757,\n",
       " 16498,\n",
       " 4224,\n",
       " 6547,\n",
       " 22319,\n",
       " 199,\n",
       " 1575,\n",
       " 30276,\n",
       " 20,\n",
       " 10620,\n",
       " 19815,\n",
       " 20507,\n",
       " 9253,\n",
       " 5114,\n",
       " 2904,\n",
       " 32281,\n",
       " 31964,\n",
       " 31043,\n",
       " 11111]"
      ]
     },
     "execution_count": 59,
     "metadata": {},
     "output_type": "execute_result"
    }
   ],
   "source": [
    "recomms_6"
   ]
  },
  {
   "cell_type": "markdown",
   "metadata": {},
   "source": [
    "Ahora chequeemos, que habia visto el usuario 6 en el set de train?"
   ]
  },
  {
   "cell_type": "code",
   "execution_count": 60,
   "metadata": {},
   "outputs": [
    {
     "data": {
      "text/plain": [
       "array([1121,  276], dtype=int64)"
      ]
     },
     "execution_count": 60,
     "metadata": {},
     "output_type": "execute_result"
    }
   ],
   "source": [
    "mask = df_train.user_id == 6\n",
    "df_train[mask].anime_id.unique()"
   ]
  },
  {
   "cell_type": "markdown",
   "metadata": {},
   "source": [
    "Verifiquemos si ya habia visto algunos de los contenidos que le estamos recomendando."
   ]
  },
  {
   "cell_type": "code",
   "execution_count": 61,
   "metadata": {},
   "outputs": [
    {
     "data": {
      "text/plain": [
       "array([], dtype=int64)"
      ]
     },
     "execution_count": 61,
     "metadata": {},
     "output_type": "execute_result"
    }
   ],
   "source": [
    "df_train[(df_train.user_id == 6) & (df_train.anime_id.isin(recomms_6))].anime_id.unique()"
   ]
  },
  {
   "cell_type": "markdown",
   "metadata": {},
   "source": [
    "En este caso, no estamos recomendando al usuario 6 contenido que ya vio...\n",
    "Pero, en un sistema de filtro colaborativo siempre puede pasar que el modelo nos recomiende algún item que el usuario ya vió. También puede pasar que nos recomiende algún item que no queremos recomendar por alguna razon. Puede ser alguna restricción del negocio, un contenido que no estará disponible más adelante, etc.\n",
    "\n",
    "Por todo esto, es importante siempre pedirle al modelo que nos genere más recomendaciones de las que queremos mostrarle al usuario. Por ejemplo, si a nuestros usuarios queremos mostrarles 10 recomendaciones, al sistema le podríamos pedir que nos recomiende 50. Luego, sobre estas 50 recomms aplicamos filtros (contenidos ya vistos, contenidos que no queremos recomendar, etc) y podrían quedarnos por ejemplo unas 30 recomendaciones. De estas 30 tomamos las mejores 10 y nos aseguramos de que siempre le vamos a estar recomendando 10 items al usuario.\n",
    "\n",
    "Si nosotros le pedimos al modelo únicamente 10 recomendaciones, luego de aplicar los filtros nos pueden quedar pocas (o ninguna) recomm.\n"
   ]
  },
  {
   "cell_type": "markdown",
   "metadata": {},
   "source": [
    "COLD START: \n",
    "Que pasa con los usuarios que no tenemos en el set de train?\n",
    "Podemos recomendarle, por ejemplo, los contenidos mas populares... \n",
    "Para esto, basandonos en el set de train vamos a generar un dataset ordenado por popularidad."
   ]
  },
  {
   "cell_type": "code",
   "execution_count": 62,
   "metadata": {},
   "outputs": [
    {
     "data": {
      "text/html": [
       "<div>\n",
       "<style scoped>\n",
       "    .dataframe tbody tr th:only-of-type {\n",
       "        vertical-align: middle;\n",
       "    }\n",
       "\n",
       "    .dataframe tbody tr th {\n",
       "        vertical-align: top;\n",
       "    }\n",
       "\n",
       "    .dataframe thead th {\n",
       "        text-align: right;\n",
       "    }\n",
       "</style>\n",
       "<table border=\"1\" class=\"dataframe\">\n",
       "  <thead>\n",
       "    <tr style=\"text-align: right;\">\n",
       "      <th></th>\n",
       "      <th>user_id</th>\n",
       "      <th>anime_id</th>\n",
       "      <th>rating</th>\n",
       "    </tr>\n",
       "  </thead>\n",
       "  <tbody>\n",
       "    <tr>\n",
       "      <th>16577859</th>\n",
       "      <td>101789</td>\n",
       "      <td>22319</td>\n",
       "      <td>8</td>\n",
       "    </tr>\n",
       "    <tr>\n",
       "      <th>21228456</th>\n",
       "      <td>130497</td>\n",
       "      <td>3686</td>\n",
       "      <td>5</td>\n",
       "    </tr>\n",
       "    <tr>\n",
       "      <th>20438581</th>\n",
       "      <td>125686</td>\n",
       "      <td>12413</td>\n",
       "      <td>7</td>\n",
       "    </tr>\n",
       "    <tr>\n",
       "      <th>50775800</th>\n",
       "      <td>311313</td>\n",
       "      <td>12365</td>\n",
       "      <td>8</td>\n",
       "    </tr>\n",
       "    <tr>\n",
       "      <th>30994970</th>\n",
       "      <td>190382</td>\n",
       "      <td>513</td>\n",
       "      <td>7</td>\n",
       "    </tr>\n",
       "  </tbody>\n",
       "</table>\n",
       "</div>"
      ],
      "text/plain": [
       "          user_id  anime_id  rating\n",
       "16577859   101789     22319       8\n",
       "21228456   130497      3686       5\n",
       "20438581   125686     12413       7\n",
       "50775800   311313     12365       8\n",
       "30994970   190382       513       7"
      ]
     },
     "execution_count": 62,
     "metadata": {},
     "output_type": "execute_result"
    }
   ],
   "source": [
    "df_train.head()"
   ]
  },
  {
   "cell_type": "code",
   "execution_count": 63,
   "metadata": {},
   "outputs": [
    {
     "data": {
      "text/html": [
       "<div>\n",
       "<style scoped>\n",
       "    .dataframe tbody tr th:only-of-type {\n",
       "        vertical-align: middle;\n",
       "    }\n",
       "\n",
       "    .dataframe tbody tr th {\n",
       "        vertical-align: top;\n",
       "    }\n",
       "\n",
       "    .dataframe thead th {\n",
       "        text-align: right;\n",
       "    }\n",
       "</style>\n",
       "<table border=\"1\" class=\"dataframe\">\n",
       "  <thead>\n",
       "    <tr style=\"text-align: right;\">\n",
       "      <th></th>\n",
       "      <th>anime_id</th>\n",
       "      <th>user_id</th>\n",
       "    </tr>\n",
       "  </thead>\n",
       "  <tbody>\n",
       "    <tr>\n",
       "      <th>0</th>\n",
       "      <td>1</td>\n",
       "      <td>332</td>\n",
       "    </tr>\n",
       "    <tr>\n",
       "      <th>1</th>\n",
       "      <td>5</td>\n",
       "      <td>132</td>\n",
       "    </tr>\n",
       "    <tr>\n",
       "      <th>2</th>\n",
       "      <td>6</td>\n",
       "      <td>201</td>\n",
       "    </tr>\n",
       "    <tr>\n",
       "      <th>3</th>\n",
       "      <td>7</td>\n",
       "      <td>41</td>\n",
       "    </tr>\n",
       "    <tr>\n",
       "      <th>4</th>\n",
       "      <td>8</td>\n",
       "      <td>10</td>\n",
       "    </tr>\n",
       "    <tr>\n",
       "      <th>...</th>\n",
       "      <td>...</td>\n",
       "      <td>...</td>\n",
       "    </tr>\n",
       "    <tr>\n",
       "      <th>9649</th>\n",
       "      <td>46491</td>\n",
       "      <td>1</td>\n",
       "    </tr>\n",
       "    <tr>\n",
       "      <th>9650</th>\n",
       "      <td>47307</td>\n",
       "      <td>1</td>\n",
       "    </tr>\n",
       "    <tr>\n",
       "      <th>9651</th>\n",
       "      <td>47398</td>\n",
       "      <td>4</td>\n",
       "    </tr>\n",
       "    <tr>\n",
       "      <th>9652</th>\n",
       "      <td>47402</td>\n",
       "      <td>4</td>\n",
       "    </tr>\n",
       "    <tr>\n",
       "      <th>9653</th>\n",
       "      <td>47616</td>\n",
       "      <td>7</td>\n",
       "    </tr>\n",
       "  </tbody>\n",
       "</table>\n",
       "<p>9654 rows × 2 columns</p>\n",
       "</div>"
      ],
      "text/plain": [
       "      anime_id  user_id\n",
       "0            1      332\n",
       "1            5      132\n",
       "2            6      201\n",
       "3            7       41\n",
       "4            8       10\n",
       "...        ...      ...\n",
       "9649     46491        1\n",
       "9650     47307        1\n",
       "9651     47398        4\n",
       "9652     47402        4\n",
       "9653     47616        7\n",
       "\n",
       "[9654 rows x 2 columns]"
      ]
     },
     "execution_count": 63,
     "metadata": {},
     "output_type": "execute_result"
    }
   ],
   "source": [
    "df_train.groupby(\"anime_id\", as_index=False).agg({'user_id':'nunique'})"
   ]
  },
  {
   "cell_type": "code",
   "execution_count": 64,
   "metadata": {},
   "outputs": [
    {
     "data": {
      "text/html": [
       "<div>\n",
       "<style scoped>\n",
       "    .dataframe tbody tr th:only-of-type {\n",
       "        vertical-align: middle;\n",
       "    }\n",
       "\n",
       "    .dataframe tbody tr th {\n",
       "        vertical-align: top;\n",
       "    }\n",
       "\n",
       "    .dataframe thead th {\n",
       "        text-align: right;\n",
       "    }\n",
       "</style>\n",
       "<table border=\"1\" class=\"dataframe\">\n",
       "  <thead>\n",
       "    <tr style=\"text-align: right;\">\n",
       "      <th></th>\n",
       "      <th>anime_id</th>\n",
       "      <th>popularity</th>\n",
       "    </tr>\n",
       "  </thead>\n",
       "  <tbody>\n",
       "    <tr>\n",
       "      <th>1327</th>\n",
       "      <td>1535</td>\n",
       "      <td>734</td>\n",
       "    </tr>\n",
       "    <tr>\n",
       "      <th>5494</th>\n",
       "      <td>16498</td>\n",
       "      <td>711</td>\n",
       "    </tr>\n",
       "    <tr>\n",
       "      <th>4914</th>\n",
       "      <td>11757</td>\n",
       "      <td>696</td>\n",
       "    </tr>\n",
       "    <tr>\n",
       "      <th>2985</th>\n",
       "      <td>4224</td>\n",
       "      <td>605</td>\n",
       "    </tr>\n",
       "    <tr>\n",
       "      <th>3674</th>\n",
       "      <td>6547</td>\n",
       "      <td>581</td>\n",
       "    </tr>\n",
       "    <tr>\n",
       "      <th>1362</th>\n",
       "      <td>1575</td>\n",
       "      <td>548</td>\n",
       "    </tr>\n",
       "    <tr>\n",
       "      <th>6126</th>\n",
       "      <td>22319</td>\n",
       "      <td>538</td>\n",
       "    </tr>\n",
       "    <tr>\n",
       "      <th>6864</th>\n",
       "      <td>30276</td>\n",
       "      <td>538</td>\n",
       "    </tr>\n",
       "    <tr>\n",
       "      <th>176</th>\n",
       "      <td>199</td>\n",
       "      <td>524</td>\n",
       "    </tr>\n",
       "    <tr>\n",
       "      <th>10</th>\n",
       "      <td>20</td>\n",
       "      <td>516</td>\n",
       "    </tr>\n",
       "  </tbody>\n",
       "</table>\n",
       "</div>"
      ],
      "text/plain": [
       "      anime_id  popularity\n",
       "1327      1535         734\n",
       "5494     16498         711\n",
       "4914     11757         696\n",
       "2985      4224         605\n",
       "3674      6547         581\n",
       "1362      1575         548\n",
       "6126     22319         538\n",
       "6864     30276         538\n",
       "176        199         524\n",
       "10          20         516"
      ]
     },
     "execution_count": 64,
     "metadata": {},
     "output_type": "execute_result"
    }
   ],
   "source": [
    "#Obtenemos una lista con los 10 contenidos mas populares:\n",
    "popularity_df = df_train.groupby(\"anime_id\", as_index=False).agg({'user_id':'nunique'}).sort_values(by='user_id', ascending=False)\n",
    "popularity_df.columns = ['anime_id', 'popularity']\n",
    "popularity_df.head(10)"
   ]
  },
  {
   "cell_type": "code",
   "execution_count": 65,
   "metadata": {},
   "outputs": [],
   "source": [
    "popularity_df = popularity_df.head(10)"
   ]
  },
  {
   "cell_type": "markdown",
   "metadata": {},
   "source": [
    "Veamos cuales son esos 10 contenidos mas populares. Para esto, necesitaremos cargar el dataset que contiene los nombres de los animes."
   ]
  },
  {
   "cell_type": "code",
   "execution_count": 66,
   "metadata": {},
   "outputs": [
    {
     "data": {
      "text/plain": [
       "array([ 1535, 16498, 11757,  4224,  6547,  1575, 22319, 30276,   199,\n",
       "          20], dtype=int64)"
      ]
     },
     "execution_count": 66,
     "metadata": {},
     "output_type": "execute_result"
    }
   ],
   "source": [
    "#Obtenemos una lista con los 10 contenidos mas populares:\n",
    "popular_content = popularity_df.anime_id.values[:10]\n",
    "popular_content"
   ]
  },
  {
   "cell_type": "code",
   "execution_count": 67,
   "metadata": {},
   "outputs": [],
   "source": [
    "anime = pd.read_csv(r\"C:\\Users\\ferbi\\OneDrive\\Desktop\\Fer\\DATASCIENCE\\Cuarto TP Sistemas de recomendacion\\archive (10)\\anime.csv\")"
   ]
  },
  {
   "cell_type": "code",
   "execution_count": 68,
   "metadata": {},
   "outputs": [
    {
     "data": {
      "text/html": [
       "<div>\n",
       "<style scoped>\n",
       "    .dataframe tbody tr th:only-of-type {\n",
       "        vertical-align: middle;\n",
       "    }\n",
       "\n",
       "    .dataframe tbody tr th {\n",
       "        vertical-align: top;\n",
       "    }\n",
       "\n",
       "    .dataframe thead th {\n",
       "        text-align: right;\n",
       "    }\n",
       "</style>\n",
       "<table border=\"1\" class=\"dataframe\">\n",
       "  <thead>\n",
       "    <tr style=\"text-align: right;\">\n",
       "      <th></th>\n",
       "      <th>MAL_ID</th>\n",
       "      <th>Name</th>\n",
       "      <th>Score</th>\n",
       "      <th>Genres</th>\n",
       "      <th>English name</th>\n",
       "      <th>Japanese name</th>\n",
       "      <th>Type</th>\n",
       "      <th>Episodes</th>\n",
       "      <th>Aired</th>\n",
       "      <th>Premiered</th>\n",
       "      <th>...</th>\n",
       "      <th>Score-10</th>\n",
       "      <th>Score-9</th>\n",
       "      <th>Score-8</th>\n",
       "      <th>Score-7</th>\n",
       "      <th>Score-6</th>\n",
       "      <th>Score-5</th>\n",
       "      <th>Score-4</th>\n",
       "      <th>Score-3</th>\n",
       "      <th>Score-2</th>\n",
       "      <th>Score-1</th>\n",
       "    </tr>\n",
       "  </thead>\n",
       "  <tbody>\n",
       "    <tr>\n",
       "      <th>0</th>\n",
       "      <td>1</td>\n",
       "      <td>Cowboy Bebop</td>\n",
       "      <td>8.78</td>\n",
       "      <td>Action, Adventure, Comedy, Drama, Sci-Fi, Space</td>\n",
       "      <td>Cowboy Bebop</td>\n",
       "      <td>カウボーイビバップ</td>\n",
       "      <td>TV</td>\n",
       "      <td>26</td>\n",
       "      <td>Apr 3, 1998 to Apr 24, 1999</td>\n",
       "      <td>Spring 1998</td>\n",
       "      <td>...</td>\n",
       "      <td>229170.0</td>\n",
       "      <td>182126.0</td>\n",
       "      <td>131625.0</td>\n",
       "      <td>62330.0</td>\n",
       "      <td>20688.0</td>\n",
       "      <td>8904.0</td>\n",
       "      <td>3184.0</td>\n",
       "      <td>1357.0</td>\n",
       "      <td>741.0</td>\n",
       "      <td>1580.0</td>\n",
       "    </tr>\n",
       "    <tr>\n",
       "      <th>1</th>\n",
       "      <td>5</td>\n",
       "      <td>Cowboy Bebop: Tengoku no Tobira</td>\n",
       "      <td>8.39</td>\n",
       "      <td>Action, Drama, Mystery, Sci-Fi, Space</td>\n",
       "      <td>Cowboy Bebop:The Movie</td>\n",
       "      <td>カウボーイビバップ 天国の扉</td>\n",
       "      <td>Movie</td>\n",
       "      <td>1</td>\n",
       "      <td>Sep 1, 2001</td>\n",
       "      <td>Unknown</td>\n",
       "      <td>...</td>\n",
       "      <td>30043.0</td>\n",
       "      <td>49201.0</td>\n",
       "      <td>49505.0</td>\n",
       "      <td>22632.0</td>\n",
       "      <td>5805.0</td>\n",
       "      <td>1877.0</td>\n",
       "      <td>577.0</td>\n",
       "      <td>221.0</td>\n",
       "      <td>109.0</td>\n",
       "      <td>379.0</td>\n",
       "    </tr>\n",
       "    <tr>\n",
       "      <th>2</th>\n",
       "      <td>6</td>\n",
       "      <td>Trigun</td>\n",
       "      <td>8.24</td>\n",
       "      <td>Action, Sci-Fi, Adventure, Comedy, Drama, Shounen</td>\n",
       "      <td>Trigun</td>\n",
       "      <td>トライガン</td>\n",
       "      <td>TV</td>\n",
       "      <td>26</td>\n",
       "      <td>Apr 1, 1998 to Sep 30, 1998</td>\n",
       "      <td>Spring 1998</td>\n",
       "      <td>...</td>\n",
       "      <td>50229.0</td>\n",
       "      <td>75651.0</td>\n",
       "      <td>86142.0</td>\n",
       "      <td>49432.0</td>\n",
       "      <td>15376.0</td>\n",
       "      <td>5838.0</td>\n",
       "      <td>1965.0</td>\n",
       "      <td>664.0</td>\n",
       "      <td>316.0</td>\n",
       "      <td>533.0</td>\n",
       "    </tr>\n",
       "    <tr>\n",
       "      <th>3</th>\n",
       "      <td>7</td>\n",
       "      <td>Witch Hunter Robin</td>\n",
       "      <td>7.27</td>\n",
       "      <td>Action, Mystery, Police, Supernatural, Drama, ...</td>\n",
       "      <td>Witch Hunter Robin</td>\n",
       "      <td>Witch Hunter ROBIN (ウイッチハンターロビン)</td>\n",
       "      <td>TV</td>\n",
       "      <td>26</td>\n",
       "      <td>Jul 2, 2002 to Dec 24, 2002</td>\n",
       "      <td>Summer 2002</td>\n",
       "      <td>...</td>\n",
       "      <td>2182.0</td>\n",
       "      <td>4806.0</td>\n",
       "      <td>10128.0</td>\n",
       "      <td>11618.0</td>\n",
       "      <td>5709.0</td>\n",
       "      <td>2920.0</td>\n",
       "      <td>1083.0</td>\n",
       "      <td>353.0</td>\n",
       "      <td>164.0</td>\n",
       "      <td>131.0</td>\n",
       "    </tr>\n",
       "    <tr>\n",
       "      <th>4</th>\n",
       "      <td>8</td>\n",
       "      <td>Bouken Ou Beet</td>\n",
       "      <td>6.98</td>\n",
       "      <td>Adventure, Fantasy, Shounen, Supernatural</td>\n",
       "      <td>Beet the Vandel Buster</td>\n",
       "      <td>冒険王ビィト</td>\n",
       "      <td>TV</td>\n",
       "      <td>52</td>\n",
       "      <td>Sep 30, 2004 to Sep 29, 2005</td>\n",
       "      <td>Fall 2004</td>\n",
       "      <td>...</td>\n",
       "      <td>312.0</td>\n",
       "      <td>529.0</td>\n",
       "      <td>1242.0</td>\n",
       "      <td>1713.0</td>\n",
       "      <td>1068.0</td>\n",
       "      <td>634.0</td>\n",
       "      <td>265.0</td>\n",
       "      <td>83.0</td>\n",
       "      <td>50.0</td>\n",
       "      <td>27.0</td>\n",
       "    </tr>\n",
       "  </tbody>\n",
       "</table>\n",
       "<p>5 rows × 35 columns</p>\n",
       "</div>"
      ],
      "text/plain": [
       "   MAL_ID                             Name Score  \\\n",
       "0       1                     Cowboy Bebop  8.78   \n",
       "1       5  Cowboy Bebop: Tengoku no Tobira  8.39   \n",
       "2       6                           Trigun  8.24   \n",
       "3       7               Witch Hunter Robin  7.27   \n",
       "4       8                   Bouken Ou Beet  6.98   \n",
       "\n",
       "                                              Genres            English name  \\\n",
       "0    Action, Adventure, Comedy, Drama, Sci-Fi, Space            Cowboy Bebop   \n",
       "1              Action, Drama, Mystery, Sci-Fi, Space  Cowboy Bebop:The Movie   \n",
       "2  Action, Sci-Fi, Adventure, Comedy, Drama, Shounen                  Trigun   \n",
       "3  Action, Mystery, Police, Supernatural, Drama, ...      Witch Hunter Robin   \n",
       "4          Adventure, Fantasy, Shounen, Supernatural  Beet the Vandel Buster   \n",
       "\n",
       "                      Japanese name   Type Episodes  \\\n",
       "0                         カウボーイビバップ     TV       26   \n",
       "1                    カウボーイビバップ 天国の扉  Movie        1   \n",
       "2                             トライガン     TV       26   \n",
       "3  Witch Hunter ROBIN (ウイッチハンターロビン)     TV       26   \n",
       "4                            冒険王ビィト     TV       52   \n",
       "\n",
       "                          Aired    Premiered  ...  Score-10   Score-9  \\\n",
       "0   Apr 3, 1998 to Apr 24, 1999  Spring 1998  ...  229170.0  182126.0   \n",
       "1                   Sep 1, 2001      Unknown  ...   30043.0   49201.0   \n",
       "2   Apr 1, 1998 to Sep 30, 1998  Spring 1998  ...   50229.0   75651.0   \n",
       "3   Jul 2, 2002 to Dec 24, 2002  Summer 2002  ...    2182.0    4806.0   \n",
       "4  Sep 30, 2004 to Sep 29, 2005    Fall 2004  ...     312.0     529.0   \n",
       "\n",
       "    Score-8  Score-7  Score-6 Score-5 Score-4  Score-3  Score-2  Score-1  \n",
       "0  131625.0  62330.0  20688.0  8904.0  3184.0   1357.0    741.0   1580.0  \n",
       "1   49505.0  22632.0   5805.0  1877.0   577.0    221.0    109.0    379.0  \n",
       "2   86142.0  49432.0  15376.0  5838.0  1965.0    664.0    316.0    533.0  \n",
       "3   10128.0  11618.0   5709.0  2920.0  1083.0    353.0    164.0    131.0  \n",
       "4    1242.0   1713.0   1068.0   634.0   265.0     83.0     50.0     27.0  \n",
       "\n",
       "[5 rows x 35 columns]"
      ]
     },
     "execution_count": 68,
     "metadata": {},
     "output_type": "execute_result"
    }
   ],
   "source": [
    "anime.head()"
   ]
  },
  {
   "cell_type": "code",
   "execution_count": 69,
   "metadata": {},
   "outputs": [
    {
     "data": {
      "text/plain": [
       "Index(['MAL_ID', 'Name', 'Score', 'Genres', 'English name', 'Japanese name',\n",
       "       'Type', 'Episodes', 'Aired', 'Premiered', 'Producers', 'Licensors',\n",
       "       'Studios', 'Source', 'Duration', 'Rating', 'Ranked', 'Popularity',\n",
       "       'Members', 'Favorites', 'Watching', 'Completed', 'On-Hold', 'Dropped',\n",
       "       'Plan to Watch', 'Score-10', 'Score-9', 'Score-8', 'Score-7', 'Score-6',\n",
       "       'Score-5', 'Score-4', 'Score-3', 'Score-2', 'Score-1'],\n",
       "      dtype='object')"
      ]
     },
     "execution_count": 69,
     "metadata": {},
     "output_type": "execute_result"
    }
   ],
   "source": [
    "anime.columns"
   ]
  },
  {
   "cell_type": "code",
   "execution_count": 70,
   "metadata": {},
   "outputs": [],
   "source": [
    "#Nos quedamos con las columnas que nos interesan: \n",
    "anime = anime.drop(['Japanese name',\n",
    "       'Type', 'Episodes', 'Aired', 'Premiered', 'Producers', 'Licensors',\n",
    "       'Studios', 'Source', 'Duration', 'Rating', 'Ranked', 'Popularity',\n",
    "       'Members', 'Favorites', 'Watching', 'Completed', 'On-Hold', 'Dropped',\n",
    "       'Plan to Watch', 'Score-10', 'Score-9', 'Score-8', 'Score-7', 'Score-6',\n",
    "       'Score-5', 'Score-4', 'Score-3', 'Score-2', 'Score-1'], axis=1)"
   ]
  },
  {
   "cell_type": "code",
   "execution_count": 71,
   "metadata": {},
   "outputs": [
    {
     "data": {
      "text/plain": [
       "Index(['MAL_ID', 'Name', 'Score', 'Genres', 'English name'], dtype='object')"
      ]
     },
     "execution_count": 71,
     "metadata": {},
     "output_type": "execute_result"
    }
   ],
   "source": [
    "anime.columns"
   ]
  },
  {
   "cell_type": "code",
   "execution_count": 72,
   "metadata": {},
   "outputs": [
    {
     "data": {
      "text/html": [
       "<div>\n",
       "<style scoped>\n",
       "    .dataframe tbody tr th:only-of-type {\n",
       "        vertical-align: middle;\n",
       "    }\n",
       "\n",
       "    .dataframe tbody tr th {\n",
       "        vertical-align: top;\n",
       "    }\n",
       "\n",
       "    .dataframe thead th {\n",
       "        text-align: right;\n",
       "    }\n",
       "</style>\n",
       "<table border=\"1\" class=\"dataframe\">\n",
       "  <thead>\n",
       "    <tr style=\"text-align: right;\">\n",
       "      <th></th>\n",
       "      <th>MAL_ID</th>\n",
       "      <th>Name</th>\n",
       "      <th>Score</th>\n",
       "      <th>Genres</th>\n",
       "      <th>English name</th>\n",
       "    </tr>\n",
       "  </thead>\n",
       "  <tbody>\n",
       "    <tr>\n",
       "      <th>0</th>\n",
       "      <td>1</td>\n",
       "      <td>Cowboy Bebop</td>\n",
       "      <td>8.78</td>\n",
       "      <td>Action, Adventure, Comedy, Drama, Sci-Fi, Space</td>\n",
       "      <td>Cowboy Bebop</td>\n",
       "    </tr>\n",
       "    <tr>\n",
       "      <th>1</th>\n",
       "      <td>5</td>\n",
       "      <td>Cowboy Bebop: Tengoku no Tobira</td>\n",
       "      <td>8.39</td>\n",
       "      <td>Action, Drama, Mystery, Sci-Fi, Space</td>\n",
       "      <td>Cowboy Bebop:The Movie</td>\n",
       "    </tr>\n",
       "    <tr>\n",
       "      <th>2</th>\n",
       "      <td>6</td>\n",
       "      <td>Trigun</td>\n",
       "      <td>8.24</td>\n",
       "      <td>Action, Sci-Fi, Adventure, Comedy, Drama, Shounen</td>\n",
       "      <td>Trigun</td>\n",
       "    </tr>\n",
       "    <tr>\n",
       "      <th>3</th>\n",
       "      <td>7</td>\n",
       "      <td>Witch Hunter Robin</td>\n",
       "      <td>7.27</td>\n",
       "      <td>Action, Mystery, Police, Supernatural, Drama, ...</td>\n",
       "      <td>Witch Hunter Robin</td>\n",
       "    </tr>\n",
       "    <tr>\n",
       "      <th>4</th>\n",
       "      <td>8</td>\n",
       "      <td>Bouken Ou Beet</td>\n",
       "      <td>6.98</td>\n",
       "      <td>Adventure, Fantasy, Shounen, Supernatural</td>\n",
       "      <td>Beet the Vandel Buster</td>\n",
       "    </tr>\n",
       "  </tbody>\n",
       "</table>\n",
       "</div>"
      ],
      "text/plain": [
       "   MAL_ID                             Name Score  \\\n",
       "0       1                     Cowboy Bebop  8.78   \n",
       "1       5  Cowboy Bebop: Tengoku no Tobira  8.39   \n",
       "2       6                           Trigun  8.24   \n",
       "3       7               Witch Hunter Robin  7.27   \n",
       "4       8                   Bouken Ou Beet  6.98   \n",
       "\n",
       "                                              Genres            English name  \n",
       "0    Action, Adventure, Comedy, Drama, Sci-Fi, Space            Cowboy Bebop  \n",
       "1              Action, Drama, Mystery, Sci-Fi, Space  Cowboy Bebop:The Movie  \n",
       "2  Action, Sci-Fi, Adventure, Comedy, Drama, Shounen                  Trigun  \n",
       "3  Action, Mystery, Police, Supernatural, Drama, ...      Witch Hunter Robin  \n",
       "4          Adventure, Fantasy, Shounen, Supernatural  Beet the Vandel Buster  "
      ]
     },
     "execution_count": 72,
     "metadata": {},
     "output_type": "execute_result"
    }
   ],
   "source": [
    "anime.head()"
   ]
  },
  {
   "cell_type": "code",
   "execution_count": 73,
   "metadata": {},
   "outputs": [
    {
     "data": {
      "text/html": [
       "<div>\n",
       "<style scoped>\n",
       "    .dataframe tbody tr th:only-of-type {\n",
       "        vertical-align: middle;\n",
       "    }\n",
       "\n",
       "    .dataframe tbody tr th {\n",
       "        vertical-align: top;\n",
       "    }\n",
       "\n",
       "    .dataframe thead th {\n",
       "        text-align: right;\n",
       "    }\n",
       "</style>\n",
       "<table border=\"1\" class=\"dataframe\">\n",
       "  <thead>\n",
       "    <tr style=\"text-align: right;\">\n",
       "      <th></th>\n",
       "      <th>anime_id</th>\n",
       "      <th>popularity</th>\n",
       "      <th>MAL_ID</th>\n",
       "      <th>Name</th>\n",
       "      <th>Score</th>\n",
       "      <th>Genres</th>\n",
       "      <th>English name</th>\n",
       "    </tr>\n",
       "  </thead>\n",
       "  <tbody>\n",
       "    <tr>\n",
       "      <th>0</th>\n",
       "      <td>1535</td>\n",
       "      <td>734</td>\n",
       "      <td>1535</td>\n",
       "      <td>Death Note</td>\n",
       "      <td>8.63</td>\n",
       "      <td>Mystery, Police, Psychological, Supernatural, ...</td>\n",
       "      <td>Death Note</td>\n",
       "    </tr>\n",
       "    <tr>\n",
       "      <th>1</th>\n",
       "      <td>16498</td>\n",
       "      <td>711</td>\n",
       "      <td>16498</td>\n",
       "      <td>Shingeki no Kyojin</td>\n",
       "      <td>8.48</td>\n",
       "      <td>Action, Military, Mystery, Super Power, Drama,...</td>\n",
       "      <td>Attack on Titan</td>\n",
       "    </tr>\n",
       "    <tr>\n",
       "      <th>2</th>\n",
       "      <td>11757</td>\n",
       "      <td>696</td>\n",
       "      <td>11757</td>\n",
       "      <td>Sword Art Online</td>\n",
       "      <td>7.25</td>\n",
       "      <td>Action, Game, Adventure, Romance, Fantasy</td>\n",
       "      <td>Sword Art Online</td>\n",
       "    </tr>\n",
       "    <tr>\n",
       "      <th>3</th>\n",
       "      <td>4224</td>\n",
       "      <td>605</td>\n",
       "      <td>4224</td>\n",
       "      <td>Toradora!</td>\n",
       "      <td>8.24</td>\n",
       "      <td>Slice of Life, Comedy, Romance, School</td>\n",
       "      <td>Toradora!</td>\n",
       "    </tr>\n",
       "    <tr>\n",
       "      <th>4</th>\n",
       "      <td>6547</td>\n",
       "      <td>581</td>\n",
       "      <td>6547</td>\n",
       "      <td>Angel Beats!</td>\n",
       "      <td>8.15</td>\n",
       "      <td>Action, Comedy, Drama, School, Supernatural</td>\n",
       "      <td>Angel Beats!</td>\n",
       "    </tr>\n",
       "    <tr>\n",
       "      <th>5</th>\n",
       "      <td>1575</td>\n",
       "      <td>548</td>\n",
       "      <td>1575</td>\n",
       "      <td>Code Geass: Hangyaku no Lelouch</td>\n",
       "      <td>8.72</td>\n",
       "      <td>Action, Military, Sci-Fi, Super Power, Drama, ...</td>\n",
       "      <td>Code Geass:Lelouch of the Rebellion</td>\n",
       "    </tr>\n",
       "    <tr>\n",
       "      <th>6</th>\n",
       "      <td>22319</td>\n",
       "      <td>538</td>\n",
       "      <td>22319</td>\n",
       "      <td>Tokyo Ghoul</td>\n",
       "      <td>7.81</td>\n",
       "      <td>Action, Mystery, Horror, Psychological, Supern...</td>\n",
       "      <td>Tokyo Ghoul</td>\n",
       "    </tr>\n",
       "    <tr>\n",
       "      <th>7</th>\n",
       "      <td>30276</td>\n",
       "      <td>538</td>\n",
       "      <td>30276</td>\n",
       "      <td>One Punch Man</td>\n",
       "      <td>8.57</td>\n",
       "      <td>Action, Sci-Fi, Comedy, Parody, Super Power, S...</td>\n",
       "      <td>One Punch Man</td>\n",
       "    </tr>\n",
       "    <tr>\n",
       "      <th>8</th>\n",
       "      <td>199</td>\n",
       "      <td>524</td>\n",
       "      <td>199</td>\n",
       "      <td>Sen to Chihiro no Kamikakushi</td>\n",
       "      <td>8.83</td>\n",
       "      <td>Adventure, Supernatural, Drama</td>\n",
       "      <td>Spirited Away</td>\n",
       "    </tr>\n",
       "    <tr>\n",
       "      <th>9</th>\n",
       "      <td>20</td>\n",
       "      <td>516</td>\n",
       "      <td>20</td>\n",
       "      <td>Naruto</td>\n",
       "      <td>7.91</td>\n",
       "      <td>Action, Adventure, Comedy, Super Power, Martia...</td>\n",
       "      <td>Naruto</td>\n",
       "    </tr>\n",
       "  </tbody>\n",
       "</table>\n",
       "</div>"
      ],
      "text/plain": [
       "   anime_id  popularity  MAL_ID                             Name Score  \\\n",
       "0      1535         734    1535                       Death Note  8.63   \n",
       "1     16498         711   16498               Shingeki no Kyojin  8.48   \n",
       "2     11757         696   11757                 Sword Art Online  7.25   \n",
       "3      4224         605    4224                        Toradora!  8.24   \n",
       "4      6547         581    6547                     Angel Beats!  8.15   \n",
       "5      1575         548    1575  Code Geass: Hangyaku no Lelouch  8.72   \n",
       "6     22319         538   22319                      Tokyo Ghoul  7.81   \n",
       "7     30276         538   30276                    One Punch Man  8.57   \n",
       "8       199         524     199    Sen to Chihiro no Kamikakushi  8.83   \n",
       "9        20         516      20                           Naruto  7.91   \n",
       "\n",
       "                                              Genres  \\\n",
       "0  Mystery, Police, Psychological, Supernatural, ...   \n",
       "1  Action, Military, Mystery, Super Power, Drama,...   \n",
       "2          Action, Game, Adventure, Romance, Fantasy   \n",
       "3             Slice of Life, Comedy, Romance, School   \n",
       "4        Action, Comedy, Drama, School, Supernatural   \n",
       "5  Action, Military, Sci-Fi, Super Power, Drama, ...   \n",
       "6  Action, Mystery, Horror, Psychological, Supern...   \n",
       "7  Action, Sci-Fi, Comedy, Parody, Super Power, S...   \n",
       "8                     Adventure, Supernatural, Drama   \n",
       "9  Action, Adventure, Comedy, Super Power, Martia...   \n",
       "\n",
       "                          English name  \n",
       "0                           Death Note  \n",
       "1                      Attack on Titan  \n",
       "2                     Sword Art Online  \n",
       "3                            Toradora!  \n",
       "4                         Angel Beats!  \n",
       "5  Code Geass:Lelouch of the Rebellion  \n",
       "6                          Tokyo Ghoul  \n",
       "7                        One Punch Man  \n",
       "8                        Spirited Away  \n",
       "9                               Naruto  "
      ]
     },
     "execution_count": 73,
     "metadata": {},
     "output_type": "execute_result"
    }
   ],
   "source": [
    "# Realizamos la unión por las columnas 'anime_id' y 'MAL_ID'\n",
    "merged_df = pd.merge(popularity_df, anime, left_on='anime_id', right_on='MAL_ID')\n",
    "merged_df"
   ]
  },
  {
   "cell_type": "code",
   "execution_count": 74,
   "metadata": {},
   "outputs": [],
   "source": [
    "# Eliminamos columna duplicada de identidad \n",
    "merged_df = merged_df.drop('MAL_ID', axis=1)\n"
   ]
  },
  {
   "cell_type": "code",
   "execution_count": 75,
   "metadata": {},
   "outputs": [
    {
     "data": {
      "text/html": [
       "<div>\n",
       "<style scoped>\n",
       "    .dataframe tbody tr th:only-of-type {\n",
       "        vertical-align: middle;\n",
       "    }\n",
       "\n",
       "    .dataframe tbody tr th {\n",
       "        vertical-align: top;\n",
       "    }\n",
       "\n",
       "    .dataframe thead th {\n",
       "        text-align: right;\n",
       "    }\n",
       "</style>\n",
       "<table border=\"1\" class=\"dataframe\">\n",
       "  <thead>\n",
       "    <tr style=\"text-align: right;\">\n",
       "      <th></th>\n",
       "      <th>anime_id</th>\n",
       "      <th>popularity</th>\n",
       "      <th>Name</th>\n",
       "      <th>Score</th>\n",
       "      <th>Genres</th>\n",
       "      <th>English name</th>\n",
       "    </tr>\n",
       "  </thead>\n",
       "  <tbody>\n",
       "    <tr>\n",
       "      <th>0</th>\n",
       "      <td>1535</td>\n",
       "      <td>734</td>\n",
       "      <td>Death Note</td>\n",
       "      <td>8.63</td>\n",
       "      <td>Mystery, Police, Psychological, Supernatural, ...</td>\n",
       "      <td>Death Note</td>\n",
       "    </tr>\n",
       "    <tr>\n",
       "      <th>1</th>\n",
       "      <td>16498</td>\n",
       "      <td>711</td>\n",
       "      <td>Shingeki no Kyojin</td>\n",
       "      <td>8.48</td>\n",
       "      <td>Action, Military, Mystery, Super Power, Drama,...</td>\n",
       "      <td>Attack on Titan</td>\n",
       "    </tr>\n",
       "    <tr>\n",
       "      <th>2</th>\n",
       "      <td>11757</td>\n",
       "      <td>696</td>\n",
       "      <td>Sword Art Online</td>\n",
       "      <td>7.25</td>\n",
       "      <td>Action, Game, Adventure, Romance, Fantasy</td>\n",
       "      <td>Sword Art Online</td>\n",
       "    </tr>\n",
       "    <tr>\n",
       "      <th>3</th>\n",
       "      <td>4224</td>\n",
       "      <td>605</td>\n",
       "      <td>Toradora!</td>\n",
       "      <td>8.24</td>\n",
       "      <td>Slice of Life, Comedy, Romance, School</td>\n",
       "      <td>Toradora!</td>\n",
       "    </tr>\n",
       "    <tr>\n",
       "      <th>4</th>\n",
       "      <td>6547</td>\n",
       "      <td>581</td>\n",
       "      <td>Angel Beats!</td>\n",
       "      <td>8.15</td>\n",
       "      <td>Action, Comedy, Drama, School, Supernatural</td>\n",
       "      <td>Angel Beats!</td>\n",
       "    </tr>\n",
       "    <tr>\n",
       "      <th>5</th>\n",
       "      <td>1575</td>\n",
       "      <td>548</td>\n",
       "      <td>Code Geass: Hangyaku no Lelouch</td>\n",
       "      <td>8.72</td>\n",
       "      <td>Action, Military, Sci-Fi, Super Power, Drama, ...</td>\n",
       "      <td>Code Geass:Lelouch of the Rebellion</td>\n",
       "    </tr>\n",
       "    <tr>\n",
       "      <th>6</th>\n",
       "      <td>22319</td>\n",
       "      <td>538</td>\n",
       "      <td>Tokyo Ghoul</td>\n",
       "      <td>7.81</td>\n",
       "      <td>Action, Mystery, Horror, Psychological, Supern...</td>\n",
       "      <td>Tokyo Ghoul</td>\n",
       "    </tr>\n",
       "    <tr>\n",
       "      <th>7</th>\n",
       "      <td>30276</td>\n",
       "      <td>538</td>\n",
       "      <td>One Punch Man</td>\n",
       "      <td>8.57</td>\n",
       "      <td>Action, Sci-Fi, Comedy, Parody, Super Power, S...</td>\n",
       "      <td>One Punch Man</td>\n",
       "    </tr>\n",
       "    <tr>\n",
       "      <th>8</th>\n",
       "      <td>199</td>\n",
       "      <td>524</td>\n",
       "      <td>Sen to Chihiro no Kamikakushi</td>\n",
       "      <td>8.83</td>\n",
       "      <td>Adventure, Supernatural, Drama</td>\n",
       "      <td>Spirited Away</td>\n",
       "    </tr>\n",
       "    <tr>\n",
       "      <th>9</th>\n",
       "      <td>20</td>\n",
       "      <td>516</td>\n",
       "      <td>Naruto</td>\n",
       "      <td>7.91</td>\n",
       "      <td>Action, Adventure, Comedy, Super Power, Martia...</td>\n",
       "      <td>Naruto</td>\n",
       "    </tr>\n",
       "  </tbody>\n",
       "</table>\n",
       "</div>"
      ],
      "text/plain": [
       "   anime_id  popularity                             Name Score  \\\n",
       "0      1535         734                       Death Note  8.63   \n",
       "1     16498         711               Shingeki no Kyojin  8.48   \n",
       "2     11757         696                 Sword Art Online  7.25   \n",
       "3      4224         605                        Toradora!  8.24   \n",
       "4      6547         581                     Angel Beats!  8.15   \n",
       "5      1575         548  Code Geass: Hangyaku no Lelouch  8.72   \n",
       "6     22319         538                      Tokyo Ghoul  7.81   \n",
       "7     30276         538                    One Punch Man  8.57   \n",
       "8       199         524    Sen to Chihiro no Kamikakushi  8.83   \n",
       "9        20         516                           Naruto  7.91   \n",
       "\n",
       "                                              Genres  \\\n",
       "0  Mystery, Police, Psychological, Supernatural, ...   \n",
       "1  Action, Military, Mystery, Super Power, Drama,...   \n",
       "2          Action, Game, Adventure, Romance, Fantasy   \n",
       "3             Slice of Life, Comedy, Romance, School   \n",
       "4        Action, Comedy, Drama, School, Supernatural   \n",
       "5  Action, Military, Sci-Fi, Super Power, Drama, ...   \n",
       "6  Action, Mystery, Horror, Psychological, Supern...   \n",
       "7  Action, Sci-Fi, Comedy, Parody, Super Power, S...   \n",
       "8                     Adventure, Supernatural, Drama   \n",
       "9  Action, Adventure, Comedy, Super Power, Martia...   \n",
       "\n",
       "                          English name  \n",
       "0                           Death Note  \n",
       "1                      Attack on Titan  \n",
       "2                     Sword Art Online  \n",
       "3                            Toradora!  \n",
       "4                         Angel Beats!  \n",
       "5  Code Geass:Lelouch of the Rebellion  \n",
       "6                          Tokyo Ghoul  \n",
       "7                        One Punch Man  \n",
       "8                        Spirited Away  \n",
       "9                               Naruto  "
      ]
     },
     "execution_count": 75,
     "metadata": {},
     "output_type": "execute_result"
    }
   ],
   "source": [
    "merged_df"
   ]
  },
  {
   "cell_type": "code",
   "execution_count": 76,
   "metadata": {},
   "outputs": [
    {
     "data": {
      "image/png": "[encoded data removed]",
      "text/plain": [
       "<Figure size 1000x600 with 1 Axes>"
      ]
     },
     "metadata": {},
     "output_type": "display_data"
    }
   ],
   "source": [
    "# Graficamos los animes mas populares \n",
    "plt.figure(figsize=(10, 6))\n",
    "plt.bar(merged_df['Name'], merged_df['popularity'], color='skyblue')\n",
    "plt.xlabel('Nombre del Anime')\n",
    "plt.ylabel('Popularidad')\n",
    "plt.title('Popularidad vs Nombre del Anime')\n",
    "plt.xticks(rotation=45, ha='right')\n",
    "plt.tight_layout()\n",
    "plt.show()"
   ]
  },
  {
   "cell_type": "markdown",
   "metadata": {},
   "source": [
    "Ahora, basandonos en el ejemplo anterior, vamos a generar 20 recomendaciones para todos los usuarios.\n",
    "Debemos tener en cuenta:\n",
    "- Filtrar contenido que el usuario vio anteriormente\n",
    "- Si el usuario no esta en el set de train, recomendarle los 20 contenidos mas populares"
   ]
  },
  {
   "cell_type": "code",
   "execution_count": 77,
   "metadata": {},
   "outputs": [
    {
     "data": {
      "text/html": [
       "<div>\n",
       "<style scoped>\n",
       "    .dataframe tbody tr th:only-of-type {\n",
       "        vertical-align: middle;\n",
       "    }\n",
       "\n",
       "    .dataframe tbody tr th {\n",
       "        vertical-align: top;\n",
       "    }\n",
       "\n",
       "    .dataframe thead th {\n",
       "        text-align: right;\n",
       "    }\n",
       "</style>\n",
       "<table border=\"1\" class=\"dataframe\">\n",
       "  <thead>\n",
       "    <tr style=\"text-align: right;\">\n",
       "      <th>anime_id</th>\n",
       "      <th>1</th>\n",
       "      <th>5</th>\n",
       "      <th>6</th>\n",
       "      <th>7</th>\n",
       "      <th>8</th>\n",
       "      <th>15</th>\n",
       "      <th>16</th>\n",
       "      <th>17</th>\n",
       "      <th>18</th>\n",
       "      <th>19</th>\n",
       "      <th>...</th>\n",
       "      <th>45567</th>\n",
       "      <th>45574</th>\n",
       "      <th>45598</th>\n",
       "      <th>45615</th>\n",
       "      <th>45753</th>\n",
       "      <th>46491</th>\n",
       "      <th>47307</th>\n",
       "      <th>47398</th>\n",
       "      <th>47402</th>\n",
       "      <th>47616</th>\n",
       "    </tr>\n",
       "    <tr>\n",
       "      <th>user_id</th>\n",
       "      <th></th>\n",
       "      <th></th>\n",
       "      <th></th>\n",
       "      <th></th>\n",
       "      <th></th>\n",
       "      <th></th>\n",
       "      <th></th>\n",
       "      <th></th>\n",
       "      <th></th>\n",
       "      <th></th>\n",
       "      <th></th>\n",
       "      <th></th>\n",
       "      <th></th>\n",
       "      <th></th>\n",
       "      <th></th>\n",
       "      <th></th>\n",
       "      <th></th>\n",
       "      <th></th>\n",
       "      <th></th>\n",
       "      <th></th>\n",
       "      <th></th>\n",
       "    </tr>\n",
       "  </thead>\n",
       "  <tbody>\n",
       "    <tr>\n",
       "      <th>0</th>\n",
       "      <td>0.0</td>\n",
       "      <td>0.0</td>\n",
       "      <td>0.0</td>\n",
       "      <td>0.0</td>\n",
       "      <td>0.0</td>\n",
       "      <td>0.0</td>\n",
       "      <td>0.0</td>\n",
       "      <td>0.0</td>\n",
       "      <td>0.0</td>\n",
       "      <td>0.0</td>\n",
       "      <td>...</td>\n",
       "      <td>0.0</td>\n",
       "      <td>0.0</td>\n",
       "      <td>0.0</td>\n",
       "      <td>0.0</td>\n",
       "      <td>0.0</td>\n",
       "      <td>0.0</td>\n",
       "      <td>0.0</td>\n",
       "      <td>0.0</td>\n",
       "      <td>0.0</td>\n",
       "      <td>0.0</td>\n",
       "    </tr>\n",
       "    <tr>\n",
       "      <th>6</th>\n",
       "      <td>0.0</td>\n",
       "      <td>0.0</td>\n",
       "      <td>0.0</td>\n",
       "      <td>0.0</td>\n",
       "      <td>0.0</td>\n",
       "      <td>0.0</td>\n",
       "      <td>0.0</td>\n",
       "      <td>0.0</td>\n",
       "      <td>0.0</td>\n",
       "      <td>0.0</td>\n",
       "      <td>...</td>\n",
       "      <td>0.0</td>\n",
       "      <td>0.0</td>\n",
       "      <td>0.0</td>\n",
       "      <td>0.0</td>\n",
       "      <td>0.0</td>\n",
       "      <td>0.0</td>\n",
       "      <td>0.0</td>\n",
       "      <td>0.0</td>\n",
       "      <td>0.0</td>\n",
       "      <td>0.0</td>\n",
       "    </tr>\n",
       "    <tr>\n",
       "      <th>7</th>\n",
       "      <td>0.0</td>\n",
       "      <td>0.0</td>\n",
       "      <td>0.0</td>\n",
       "      <td>0.0</td>\n",
       "      <td>0.0</td>\n",
       "      <td>0.0</td>\n",
       "      <td>0.0</td>\n",
       "      <td>0.0</td>\n",
       "      <td>0.0</td>\n",
       "      <td>0.0</td>\n",
       "      <td>...</td>\n",
       "      <td>0.0</td>\n",
       "      <td>0.0</td>\n",
       "      <td>0.0</td>\n",
       "      <td>0.0</td>\n",
       "      <td>0.0</td>\n",
       "      <td>0.0</td>\n",
       "      <td>0.0</td>\n",
       "      <td>0.0</td>\n",
       "      <td>0.0</td>\n",
       "      <td>0.0</td>\n",
       "    </tr>\n",
       "    <tr>\n",
       "      <th>19</th>\n",
       "      <td>0.0</td>\n",
       "      <td>0.0</td>\n",
       "      <td>0.0</td>\n",
       "      <td>0.0</td>\n",
       "      <td>0.0</td>\n",
       "      <td>0.0</td>\n",
       "      <td>0.0</td>\n",
       "      <td>0.0</td>\n",
       "      <td>0.0</td>\n",
       "      <td>0.0</td>\n",
       "      <td>...</td>\n",
       "      <td>0.0</td>\n",
       "      <td>0.0</td>\n",
       "      <td>0.0</td>\n",
       "      <td>0.0</td>\n",
       "      <td>0.0</td>\n",
       "      <td>0.0</td>\n",
       "      <td>0.0</td>\n",
       "      <td>0.0</td>\n",
       "      <td>0.0</td>\n",
       "      <td>0.0</td>\n",
       "    </tr>\n",
       "    <tr>\n",
       "      <th>21</th>\n",
       "      <td>0.0</td>\n",
       "      <td>0.0</td>\n",
       "      <td>0.0</td>\n",
       "      <td>0.0</td>\n",
       "      <td>0.0</td>\n",
       "      <td>0.0</td>\n",
       "      <td>0.0</td>\n",
       "      <td>0.0</td>\n",
       "      <td>0.0</td>\n",
       "      <td>0.0</td>\n",
       "      <td>...</td>\n",
       "      <td>0.0</td>\n",
       "      <td>0.0</td>\n",
       "      <td>0.0</td>\n",
       "      <td>0.0</td>\n",
       "      <td>0.0</td>\n",
       "      <td>0.0</td>\n",
       "      <td>0.0</td>\n",
       "      <td>0.0</td>\n",
       "      <td>0.0</td>\n",
       "      <td>0.0</td>\n",
       "    </tr>\n",
       "  </tbody>\n",
       "</table>\n",
       "<p>5 rows × 9654 columns</p>\n",
       "</div>"
      ],
      "text/plain": [
       "anime_id  1      5      6      7      8      15     16     17     18     \\\n",
       "user_id                                                                   \n",
       "0           0.0    0.0    0.0    0.0    0.0    0.0    0.0    0.0    0.0   \n",
       "6           0.0    0.0    0.0    0.0    0.0    0.0    0.0    0.0    0.0   \n",
       "7           0.0    0.0    0.0    0.0    0.0    0.0    0.0    0.0    0.0   \n",
       "19          0.0    0.0    0.0    0.0    0.0    0.0    0.0    0.0    0.0   \n",
       "21          0.0    0.0    0.0    0.0    0.0    0.0    0.0    0.0    0.0   \n",
       "\n",
       "anime_id  19     ...  45567  45574  45598  45615  45753  46491  47307  47398  \\\n",
       "user_id          ...                                                           \n",
       "0           0.0  ...    0.0    0.0    0.0    0.0    0.0    0.0    0.0    0.0   \n",
       "6           0.0  ...    0.0    0.0    0.0    0.0    0.0    0.0    0.0    0.0   \n",
       "7           0.0  ...    0.0    0.0    0.0    0.0    0.0    0.0    0.0    0.0   \n",
       "19          0.0  ...    0.0    0.0    0.0    0.0    0.0    0.0    0.0    0.0   \n",
       "21          0.0  ...    0.0    0.0    0.0    0.0    0.0    0.0    0.0    0.0   \n",
       "\n",
       "anime_id  47402  47616  \n",
       "user_id                 \n",
       "0           0.0    0.0  \n",
       "6           0.0    0.0  \n",
       "7           0.0    0.0  \n",
       "19          0.0    0.0  \n",
       "21          0.0    0.0  \n",
       "\n",
       "[5 rows x 9654 columns]"
      ]
     },
     "execution_count": 77,
     "metadata": {},
     "output_type": "execute_result"
    }
   ],
   "source": [
    "interactions_matrix.head()"
   ]
  },
  {
   "cell_type": "code",
   "execution_count": 78,
   "metadata": {},
   "outputs": [
    {
     "data": {
      "text/plain": [
       "(124061, 9654)"
      ]
     },
     "execution_count": 78,
     "metadata": {},
     "output_type": "execute_result"
    }
   ],
   "source": [
    "interactions_matrix.shape"
   ]
  },
  {
   "cell_type": "code",
   "execution_count": 79,
   "metadata": {},
   "outputs": [
    {
     "data": {
      "text/plain": [
       "Index([     0,      6,      7,     19,     21,     22,     28,     33,     37,\n",
       "           38,\n",
       "       ...\n",
       "       353378, 353381, 353383, 353384, 353385, 353386, 353387, 353388, 353395,\n",
       "       353398],\n",
       "      dtype='int64', name='user_id', length=124061)"
      ]
     },
     "execution_count": 79,
     "metadata": {},
     "output_type": "execute_result"
    }
   ],
   "source": [
    "interactions_matrix.index"
   ]
  },
  {
   "cell_type": "code",
   "execution_count": null,
   "metadata": {},
   "outputs": [
    {
     "name": "stderr",
     "output_type": "stream",
     "text": [
      "  0%|          | 0/46625 [00:00<?, ?it/s]"
     ]
    },
    {
     "name": "stderr",
     "output_type": "stream",
     "text": [
      "100%|██████████| 46625/46625 [10:26<00:00, 74.39it/s]\n"
     ]
    }
   ],
   "source": [
    "from tqdm import tqdm\n",
    "\n",
    "# Definimos dict donde vamos a ir almacenando las recomendaciones\n",
    "recomms_dict = {\n",
    "    'user_id': [],\n",
    "    'recomms': [],\n",
    "    'cold_start': [],  # Nueva columna para indicar si es cold start\n",
    "    'watched_content': []  # Nueva columna para contener el contenido que el usuario ya vio\n",
    "}\n",
    "\n",
    "# Obtenemos cantidad de usuarios y cantidad de items\n",
    "n_users, n_items = interactions_matrix.shape\n",
    "item_ids = np.arange(n_items)\n",
    "\n",
    "# Por cada usuario del dataset de test, generamos recomendaciones\n",
    "for user in tqdm(df_test.user_id.unique()):\n",
    "    # Validar si el usuario se encuentra en la matriz de interacciones (interactions_matrix.index)\n",
    "    if user in list(interactions_matrix.index):\n",
    "        # Si el usuario está en train, no es cold start. Usamos el modelo para recomendar\n",
    "        user_x = user_dict[user]  # Buscamos el índice del usuario en la matriz (transformamos id a índice)\n",
    "\n",
    "        # Generar las predicciones para el usuario x\n",
    "        preds = model.predict(user_ids=user_x, item_ids=item_ids)\n",
    "\n",
    "        # Basándose en el ejemplo anterior, ordenar las predicciones de menor a mayor y quedarse con 50.\n",
    "        scores = pd.Series(preds)\n",
    "        scores.index = interactions_matrix.columns\n",
    "        scores = list(pd.Series(scores.sort_values(ascending=False).index))[:50]\n",
    "\n",
    "        # Obtener listado de contenidos vistos anteriormente por el usuario (en el set de train)\n",
    "        watched_contents = df_train[df_train.user_id == user].anime_id.unique()\n",
    "\n",
    "        # Filtrar contenidos ya vistos y quedarse con los primeros 10\n",
    "        recomms = [x for x in scores if x not in watched_contents][:10]\n",
    "\n",
    "        # Guardamos las recomendaciones en el diccionario y marcamos que no es cold start\n",
    "        recomms_dict['user_id'].append(user)\n",
    "        recomms_dict['recomms'].append(scores)\n",
    "        recomms_dict['cold_start'].append(False)\n",
    "        recomms_dict['watched_content'].append(watched_contents)\n",
    "    else:\n",
    "        # Tratamos a los usuarios que no están en la matriz (cold start)\n",
    "        recomms_dict['user_id'].append(user)\n",
    "        # Les recomendamos contenido popular\n",
    "        recomms_dict['recomms'].append(popular_content)\n",
    "        recomms_dict['cold_start'].append(True)\n",
    "        recomms_dict['watched_content'].append([])\n",
    "\n",
    "# Convertir el diccionario a un DataFrame\n",
    "recomms_df = pd.DataFrame(recomms_dict)\n"
   ]
  },
  {
   "cell_type": "code",
   "execution_count": null,
   "metadata": {},
   "outputs": [
    {
     "data": {
      "text/html": [
       "<div>\n",
       "<style scoped>\n",
       "    .dataframe tbody tr th:only-of-type {\n",
       "        vertical-align: middle;\n",
       "    }\n",
       "\n",
       "    .dataframe tbody tr th {\n",
       "        vertical-align: top;\n",
       "    }\n",
       "\n",
       "    .dataframe thead th {\n",
       "        text-align: right;\n",
       "    }\n",
       "</style>\n",
       "<table border=\"1\" class=\"dataframe\">\n",
       "  <thead>\n",
       "    <tr style=\"text-align: right;\">\n",
       "      <th></th>\n",
       "      <th>user_id</th>\n",
       "      <th>recomms</th>\n",
       "      <th>cold_start</th>\n",
       "      <th>watched_content</th>\n",
       "    </tr>\n",
       "  </thead>\n",
       "  <tbody>\n",
       "    <tr>\n",
       "      <th>0</th>\n",
       "      <td>178593</td>\n",
       "      <td>[1535, 16498, 11757, 4224, 6547, 1575, 22319, ...</td>\n",
       "      <td>False</td>\n",
       "      <td>[23281]</td>\n",
       "    </tr>\n",
       "    <tr>\n",
       "      <th>1</th>\n",
       "      <td>348211</td>\n",
       "      <td>[1535, 16498, 11757, 4224, 6547, 1575, 30276, ...</td>\n",
       "      <td>False</td>\n",
       "      <td>[20709, 28623, 17875, 38101]</td>\n",
       "    </tr>\n",
       "    <tr>\n",
       "      <th>2</th>\n",
       "      <td>43693</td>\n",
       "      <td>[1535, 16498, 11757, 4224, 6547, 1575, 22319, ...</td>\n",
       "      <td>False</td>\n",
       "      <td>[31646, 467, 5]</td>\n",
       "    </tr>\n",
       "    <tr>\n",
       "      <th>3</th>\n",
       "      <td>306146</td>\n",
       "      <td>[1535, 16498, 11757, 6547, 4224, 199, 30276, 1...</td>\n",
       "      <td>False</td>\n",
       "      <td>[9750]</td>\n",
       "    </tr>\n",
       "    <tr>\n",
       "      <th>4</th>\n",
       "      <td>228292</td>\n",
       "      <td>[1535, 16498, 11757, 4224, 6547, 1575, 22319, ...</td>\n",
       "      <td>True</td>\n",
       "      <td>[]</td>\n",
       "    </tr>\n",
       "    <tr>\n",
       "      <th>...</th>\n",
       "      <td>...</td>\n",
       "      <td>...</td>\n",
       "      <td>...</td>\n",
       "      <td>...</td>\n",
       "    </tr>\n",
       "    <tr>\n",
       "      <th>46620</th>\n",
       "      <td>14910</td>\n",
       "      <td>[1535, 16498, 11757, 4224, 6547, 1575, 30276, ...</td>\n",
       "      <td>False</td>\n",
       "      <td>[14045, 11843, 2594, 5984]</td>\n",
       "    </tr>\n",
       "    <tr>\n",
       "      <th>46621</th>\n",
       "      <td>143540</td>\n",
       "      <td>[1535, 16498, 11757, 4224, 6547, 1575, 22319, ...</td>\n",
       "      <td>True</td>\n",
       "      <td>[]</td>\n",
       "    </tr>\n",
       "    <tr>\n",
       "      <th>46622</th>\n",
       "      <td>282331</td>\n",
       "      <td>[1535, 16498, 11757, 4224, 6547, 1575, 22319, ...</td>\n",
       "      <td>True</td>\n",
       "      <td>[]</td>\n",
       "    </tr>\n",
       "    <tr>\n",
       "      <th>46623</th>\n",
       "      <td>35516</td>\n",
       "      <td>[1535, 16498, 11757, 4224, 6547, 1575, 30276, ...</td>\n",
       "      <td>False</td>\n",
       "      <td>[24833]</td>\n",
       "    </tr>\n",
       "    <tr>\n",
       "      <th>46624</th>\n",
       "      <td>18230</td>\n",
       "      <td>[1535, 16498, 11757, 4224, 6547, 1575, 22319, ...</td>\n",
       "      <td>True</td>\n",
       "      <td>[]</td>\n",
       "    </tr>\n",
       "  </tbody>\n",
       "</table>\n",
       "<p>46625 rows × 4 columns</p>\n",
       "</div>"
      ],
      "text/plain": [
       "       user_id                                            recomms  cold_start  \\\n",
       "0       178593  [1535, 16498, 11757, 4224, 6547, 1575, 22319, ...       False   \n",
       "1       348211  [1535, 16498, 11757, 4224, 6547, 1575, 30276, ...       False   \n",
       "2        43693  [1535, 16498, 11757, 4224, 6547, 1575, 22319, ...       False   \n",
       "3       306146  [1535, 16498, 11757, 6547, 4224, 199, 30276, 1...       False   \n",
       "4       228292  [1535, 16498, 11757, 4224, 6547, 1575, 22319, ...        True   \n",
       "...        ...                                                ...         ...   \n",
       "46620    14910  [1535, 16498, 11757, 4224, 6547, 1575, 30276, ...       False   \n",
       "46621   143540  [1535, 16498, 11757, 4224, 6547, 1575, 22319, ...        True   \n",
       "46622   282331  [1535, 16498, 11757, 4224, 6547, 1575, 22319, ...        True   \n",
       "46623    35516  [1535, 16498, 11757, 4224, 6547, 1575, 30276, ...       False   \n",
       "46624    18230  [1535, 16498, 11757, 4224, 6547, 1575, 22319, ...        True   \n",
       "\n",
       "                    watched_content  \n",
       "0                           [23281]  \n",
       "1      [20709, 28623, 17875, 38101]  \n",
       "2                   [31646, 467, 5]  \n",
       "3                            [9750]  \n",
       "4                                []  \n",
       "...                             ...  \n",
       "46620    [14045, 11843, 2594, 5984]  \n",
       "46621                            []  \n",
       "46622                            []  \n",
       "46623                       [24833]  \n",
       "46624                            []  \n",
       "\n",
       "[46625 rows x 4 columns]"
      ]
     },
     "execution_count": 81,
     "metadata": {},
     "output_type": "execute_result"
    }
   ],
   "source": [
    "recomms_df = pd.DataFrame(recomms_dict)\n",
    "recomms_df"
   ]
  },
  {
   "cell_type": "markdown",
   "metadata": {},
   "source": [
    "Vemos que nuestro sistema No es muy bueno ya que a todos les recomienda en primer lugar el contenido 1535 (el más popular). Además, a la mayoría de los usuarios les estamos dando recomendaciones de cold start. Esto puede deberse a varias razones que pueden ser: el tamaño del dataset (que sea pequeño), parametros mal seleccionados para el modelo, epocas mal seleccionadas, entre otros. "
   ]
  },
  {
   "cell_type": "code",
   "execution_count": null,
   "metadata": {},
   "outputs": [
    {
     "data": {
      "text/plain": [
       "46625"
      ]
     },
     "execution_count": 86,
     "metadata": {},
     "output_type": "execute_result"
    }
   ],
   "source": [
    "#Veamos cuantos usuarios unicos tengo\n",
    "recomms_df.user_id.nunique() "
   ]
  },
  {
   "cell_type": "code",
   "execution_count": null,
   "metadata": {},
   "outputs": [
    {
     "data": {
      "text/plain": [
       "cold_start\n",
       "False    30703\n",
       "True     15922\n",
       "Name: count, dtype: int64"
      ]
     },
     "execution_count": 82,
     "metadata": {},
     "output_type": "execute_result"
    }
   ],
   "source": [
    "#Veamos la cantidad de usuarios cold start y usuarios que no lo son\n",
    "recomms_df.cold_start.value_counts()"
   ]
  },
  {
   "cell_type": "code",
   "execution_count": null,
   "metadata": {},
   "outputs": [
    {
     "data": {
      "image/png": "[encoded data removed]",
      "text/plain": [
       "<Figure size 600x600 with 1 Axes>"
      ]
     },
     "metadata": {},
     "output_type": "display_data"
    }
   ],
   "source": [
    "cold_start_counts = recomms_df['cold_start'].value_counts()\n",
    "\n",
    "# Crear un gráfico de pastel\n",
    "plt.figure(figsize=(6, 6))\n",
    "plt.pie(cold_start_counts, labels=cold_start_counts.index, autopct='%1.1f%%', colors=['skyblue', 'coral'])\n",
    "plt.title('Proporción de Usuarios Cold Start vs No Cold Start')\n",
    "plt.show()"
   ]
  },
  {
   "cell_type": "markdown",
   "metadata": {},
   "source": [
    "EVALUACION DE METRICAS"
   ]
  },
  {
   "cell_type": "markdown",
   "metadata": {},
   "source": [
    "Compararemos nuestras recomendaciones contra las que los usuarios realemnte vieron (set de test)"
   ]
  },
  {
   "cell_type": "code",
   "execution_count": 87,
   "metadata": {},
   "outputs": [
    {
     "data": {
      "text/html": [
       "<div>\n",
       "<style scoped>\n",
       "    .dataframe tbody tr th:only-of-type {\n",
       "        vertical-align: middle;\n",
       "    }\n",
       "\n",
       "    .dataframe tbody tr th {\n",
       "        vertical-align: top;\n",
       "    }\n",
       "\n",
       "    .dataframe thead th {\n",
       "        text-align: right;\n",
       "    }\n",
       "</style>\n",
       "<table border=\"1\" class=\"dataframe\">\n",
       "  <thead>\n",
       "    <tr style=\"text-align: right;\">\n",
       "      <th></th>\n",
       "      <th>user_id</th>\n",
       "      <th>anime_id</th>\n",
       "      <th>rating</th>\n",
       "    </tr>\n",
       "  </thead>\n",
       "  <tbody>\n",
       "    <tr>\n",
       "      <th>29015932</th>\n",
       "      <td>178593</td>\n",
       "      <td>6987</td>\n",
       "      <td>7</td>\n",
       "    </tr>\n",
       "    <tr>\n",
       "      <th>56787266</th>\n",
       "      <td>348211</td>\n",
       "      <td>9790</td>\n",
       "      <td>6</td>\n",
       "    </tr>\n",
       "    <tr>\n",
       "      <th>7122641</th>\n",
       "      <td>43693</td>\n",
       "      <td>849</td>\n",
       "      <td>7</td>\n",
       "    </tr>\n",
       "    <tr>\n",
       "      <th>49946382</th>\n",
       "      <td>306146</td>\n",
       "      <td>853</td>\n",
       "      <td>10</td>\n",
       "    </tr>\n",
       "    <tr>\n",
       "      <th>37180130</th>\n",
       "      <td>228292</td>\n",
       "      <td>35145</td>\n",
       "      <td>10</td>\n",
       "    </tr>\n",
       "  </tbody>\n",
       "</table>\n",
       "</div>"
      ],
      "text/plain": [
       "          user_id  anime_id  rating\n",
       "29015932   178593      6987       7\n",
       "56787266   348211      9790       6\n",
       "7122641     43693       849       7\n",
       "49946382   306146       853      10\n",
       "37180130   228292     35145      10"
      ]
     },
     "execution_count": 87,
     "metadata": {},
     "output_type": "execute_result"
    }
   ],
   "source": [
    "df_test.head()"
   ]
  },
  {
   "cell_type": "code",
   "execution_count": 88,
   "metadata": {},
   "outputs": [
    {
     "data": {
      "text/plain": [
       "(57634, 3)"
      ]
     },
     "execution_count": 88,
     "metadata": {},
     "output_type": "execute_result"
    }
   ],
   "source": [
    "df_test.shape"
   ]
  },
  {
   "cell_type": "code",
   "execution_count": 89,
   "metadata": {},
   "outputs": [
    {
     "data": {
      "text/plain": [
       "46625"
      ]
     },
     "execution_count": 89,
     "metadata": {},
     "output_type": "execute_result"
    }
   ],
   "source": [
    "df_test.user_id.nunique()"
   ]
  },
  {
   "cell_type": "markdown",
   "metadata": {},
   "source": [
    "Primero ordenamos los animes segun los ratings (de mayor a menor) que dieron los usuarios en el set de testeo. Luego, agrupamos y arnamamos un lsitado de animes para cada usuario. Este sera el listado \"ideal\" contra el que vams a comparar nuestras recomendaciones."
   ]
  },
  {
   "cell_type": "code",
   "execution_count": 90,
   "metadata": {},
   "outputs": [],
   "source": [
    "ideal_recomms = df_test\\\n",
    "                  .sort_values(by=[\"user_id\", \"rating\", \"anime_id\"], ascending=False)\\\n",
    "                  .groupby([\"user_id\"], as_index=False)\\\n",
    "                  .agg({\"anime_id\": lambda x: list(x.unique())})"
   ]
  },
  {
   "cell_type": "code",
   "execution_count": 91,
   "metadata": {},
   "outputs": [
    {
     "data": {
      "text/html": [
       "<div>\n",
       "<style scoped>\n",
       "    .dataframe tbody tr th:only-of-type {\n",
       "        vertical-align: middle;\n",
       "    }\n",
       "\n",
       "    .dataframe tbody tr th {\n",
       "        vertical-align: top;\n",
       "    }\n",
       "\n",
       "    .dataframe thead th {\n",
       "        text-align: right;\n",
       "    }\n",
       "</style>\n",
       "<table border=\"1\" class=\"dataframe\">\n",
       "  <thead>\n",
       "    <tr style=\"text-align: right;\">\n",
       "      <th></th>\n",
       "      <th>user_id</th>\n",
       "      <th>anime_id</th>\n",
       "    </tr>\n",
       "  </thead>\n",
       "  <tbody>\n",
       "    <tr>\n",
       "      <th>0</th>\n",
       "      <td>16</td>\n",
       "      <td>[21561, 1157]</td>\n",
       "    </tr>\n",
       "    <tr>\n",
       "      <th>1</th>\n",
       "      <td>17</td>\n",
       "      <td>[8086]</td>\n",
       "    </tr>\n",
       "    <tr>\n",
       "      <th>2</th>\n",
       "      <td>19</td>\n",
       "      <td>[10218, 586]</td>\n",
       "    </tr>\n",
       "    <tr>\n",
       "      <th>3</th>\n",
       "      <td>21</td>\n",
       "      <td>[1889]</td>\n",
       "    </tr>\n",
       "    <tr>\n",
       "      <th>4</th>\n",
       "      <td>42</td>\n",
       "      <td>[13759, 10380, 23057]</td>\n",
       "    </tr>\n",
       "  </tbody>\n",
       "</table>\n",
       "</div>"
      ],
      "text/plain": [
       "   user_id               anime_id\n",
       "0       16          [21561, 1157]\n",
       "1       17                 [8086]\n",
       "2       19           [10218, 586]\n",
       "3       21                 [1889]\n",
       "4       42  [13759, 10380, 23057]"
      ]
     },
     "execution_count": 91,
     "metadata": {},
     "output_type": "execute_result"
    }
   ],
   "source": [
    "ideal_recomms.head()"
   ]
  },
  {
   "cell_type": "code",
   "execution_count": 92,
   "metadata": {},
   "outputs": [
    {
     "data": {
      "text/plain": [
       "(46625, 2)"
      ]
     },
     "execution_count": 92,
     "metadata": {},
     "output_type": "execute_result"
    }
   ],
   "source": [
    "ideal_recomms.shape #Tenemos un conjunto de datos que muestra las recmendaciones\n",
    "#ideales para cada uno de los usuarios del conjunto de testeo"
   ]
  },
  {
   "cell_type": "markdown",
   "metadata": {},
   "source": [
    "Vamos a medir MAP: \n",
    "Primero unimos en un mismo dataframe las recomndaciones con el set ideal."
   ]
  },
  {
   "cell_type": "code",
   "execution_count": null,
   "metadata": {},
   "outputs": [
    {
     "data": {
      "text/html": [
       "<div>\n",
       "<style scoped>\n",
       "    .dataframe tbody tr th:only-of-type {\n",
       "        vertical-align: middle;\n",
       "    }\n",
       "\n",
       "    .dataframe tbody tr th {\n",
       "        vertical-align: top;\n",
       "    }\n",
       "\n",
       "    .dataframe thead th {\n",
       "        text-align: right;\n",
       "    }\n",
       "</style>\n",
       "<table border=\"1\" class=\"dataframe\">\n",
       "  <thead>\n",
       "    <tr style=\"text-align: right;\">\n",
       "      <th></th>\n",
       "      <th>user_id</th>\n",
       "      <th>ideal</th>\n",
       "      <th>recomms</th>\n",
       "    </tr>\n",
       "  </thead>\n",
       "  <tbody>\n",
       "    <tr>\n",
       "      <th>0</th>\n",
       "      <td>16</td>\n",
       "      <td>[21561, 1157]</td>\n",
       "      <td>[1535, 16498, 11757, 4224, 6547, 1575, 22319, ...</td>\n",
       "    </tr>\n",
       "    <tr>\n",
       "      <th>1</th>\n",
       "      <td>17</td>\n",
       "      <td>[8086]</td>\n",
       "      <td>[1535, 16498, 11757, 4224, 6547, 1575, 22319, ...</td>\n",
       "    </tr>\n",
       "    <tr>\n",
       "      <th>2</th>\n",
       "      <td>19</td>\n",
       "      <td>[10218, 586]</td>\n",
       "      <td>[1535, 16498, 11757, 4224, 6547, 1575, 22319, ...</td>\n",
       "    </tr>\n",
       "    <tr>\n",
       "      <th>3</th>\n",
       "      <td>21</td>\n",
       "      <td>[1889]</td>\n",
       "      <td>[1535, 16498, 11757, 6547, 4224, 22319, 1575, ...</td>\n",
       "    </tr>\n",
       "    <tr>\n",
       "      <th>4</th>\n",
       "      <td>42</td>\n",
       "      <td>[13759, 10380, 23057]</td>\n",
       "      <td>[16498, 1535, 11757, 6547, 4224, 1575, 30276, ...</td>\n",
       "    </tr>\n",
       "  </tbody>\n",
       "</table>\n",
       "</div>"
      ],
      "text/plain": [
       "   user_id                  ideal  \\\n",
       "0       16          [21561, 1157]   \n",
       "1       17                 [8086]   \n",
       "2       19           [10218, 586]   \n",
       "3       21                 [1889]   \n",
       "4       42  [13759, 10380, 23057]   \n",
       "\n",
       "                                             recomms  \n",
       "0  [1535, 16498, 11757, 4224, 6547, 1575, 22319, ...  \n",
       "1  [1535, 16498, 11757, 4224, 6547, 1575, 22319, ...  \n",
       "2  [1535, 16498, 11757, 4224, 6547, 1575, 22319, ...  \n",
       "3  [1535, 16498, 11757, 6547, 4224, 22319, 1575, ...  \n",
       "4  [16498, 1535, 11757, 6547, 4224, 1575, 30276, ...  "
      ]
     },
     "execution_count": 106,
     "metadata": {},
     "output_type": "execute_result"
    }
   ],
   "source": [
    "df_map = ideal_recomms.merge(recomms_df, how=\"left\", left_on=\"user_id\", right_on=\"user_id\")[[\"user_id\", \"anime_id\", \"recomms\"]]\n",
    "df_map.columns = [\"user_id\", \"ideal\", \"recomms\"]\n",
    "df_map.head()"
   ]
  },
  {
   "cell_type": "code",
   "execution_count": null,
   "metadata": {},
   "outputs": [
    {
     "data": {
      "text/html": [
       "<div>\n",
       "<style scoped>\n",
       "    .dataframe tbody tr th:only-of-type {\n",
       "        vertical-align: middle;\n",
       "    }\n",
       "\n",
       "    .dataframe tbody tr th {\n",
       "        vertical-align: top;\n",
       "    }\n",
       "\n",
       "    .dataframe thead th {\n",
       "        text-align: right;\n",
       "    }\n",
       "</style>\n",
       "<table border=\"1\" class=\"dataframe\">\n",
       "  <thead>\n",
       "    <tr style=\"text-align: right;\">\n",
       "      <th></th>\n",
       "      <th>user_id</th>\n",
       "      <th>ideal</th>\n",
       "      <th>recomms</th>\n",
       "    </tr>\n",
       "  </thead>\n",
       "  <tbody>\n",
       "    <tr>\n",
       "      <th>46620</th>\n",
       "      <td>353358</td>\n",
       "      <td>[31741]</td>\n",
       "      <td>[16498, 1535, 11757, 6547, 4224, 1575, 30276, ...</td>\n",
       "    </tr>\n",
       "    <tr>\n",
       "      <th>46621</th>\n",
       "      <td>353365</td>\n",
       "      <td>[24833, 5112]</td>\n",
       "      <td>[16498, 1535, 11757, 6547, 4224, 30276, 1575, ...</td>\n",
       "    </tr>\n",
       "    <tr>\n",
       "      <th>46622</th>\n",
       "      <td>353382</td>\n",
       "      <td>[37510]</td>\n",
       "      <td>[1535, 16498, 11757, 4224, 6547, 1575, 22319, ...</td>\n",
       "    </tr>\n",
       "    <tr>\n",
       "      <th>46623</th>\n",
       "      <td>353395</td>\n",
       "      <td>[1882]</td>\n",
       "      <td>[11757, 1535, 16498, 4224, 6547, 199, 20, 3027...</td>\n",
       "    </tr>\n",
       "    <tr>\n",
       "      <th>46624</th>\n",
       "      <td>353398</td>\n",
       "      <td>[33532]</td>\n",
       "      <td>[1535, 16498, 11757, 4224, 6547, 1575, 22319, ...</td>\n",
       "    </tr>\n",
       "  </tbody>\n",
       "</table>\n",
       "</div>"
      ],
      "text/plain": [
       "       user_id          ideal  \\\n",
       "46620   353358        [31741]   \n",
       "46621   353365  [24833, 5112]   \n",
       "46622   353382        [37510]   \n",
       "46623   353395         [1882]   \n",
       "46624   353398        [33532]   \n",
       "\n",
       "                                                 recomms  \n",
       "46620  [16498, 1535, 11757, 6547, 4224, 1575, 30276, ...  \n",
       "46621  [16498, 1535, 11757, 6547, 4224, 30276, 1575, ...  \n",
       "46622  [1535, 16498, 11757, 4224, 6547, 1575, 22319, ...  \n",
       "46623  [11757, 1535, 16498, 4224, 6547, 199, 20, 3027...  \n",
       "46624  [1535, 16498, 11757, 4224, 6547, 1575, 22319, ...  "
      ]
     },
     "execution_count": 109,
     "metadata": {},
     "output_type": "execute_result"
    }
   ],
   "source": [
    "df_map.tail()"
   ]
  },
  {
   "cell_type": "code",
   "execution_count": null,
   "metadata": {},
   "outputs": [],
   "source": [
    "aps = [] # lista vacía para ir almacenando la AP de cada recomendación\n",
    "\n",
    "for pred, label in df_map[[\"ideal\", \"recomms\"]].values:\n",
    "  n = len(pred) # cantidad de elementos recomendados\n",
    "  arange = np.arange(n, dtype=np.int32) + 1. # indexamos en base 1 \n",
    "  rel_k = np.in1d(pred[:n], label) # lista de booleanos que indican la relevancia de cada ítem\n",
    "  tp = np.ones(rel_k.sum(), dtype=np.int32).cumsum() # lista con el contador de verdaderos positivos\n",
    "  denom = arange[rel_k] # posiciones donde se encuentran los ítems relantes\n",
    "  ap = (tp / denom).sum() / len(label) # average precision\n",
    "  aps.append(ap)"
   ]
  },
  {
   "cell_type": "code",
   "execution_count": null,
   "metadata": {},
   "outputs": [
    {
     "name": "stdout",
     "output_type": "stream",
     "text": [
      "mean average precision = 0.00276\n"
     ]
    }
   ],
   "source": [
    "MAP = np.mean(aps)\n",
    "print(f'mean average precision = {round(MAP, 5)}')"
   ]
  },
  {
   "cell_type": "markdown",
   "metadata": {},
   "source": [
    "Vemos que la metrica nos da un valor muy bajo, por lo tanto el modelo dando buenas recomendaciones"
   ]
  },
  {
   "cell_type": "markdown",
   "metadata": {},
   "source": [
    "--------------------------------------------------------------------------"
   ]
  },
  {
   "cell_type": "markdown",
   "metadata": {},
   "source": [
    "Probamos con diferentes parametros utilizando GridSearchCV  \n",
    "Esta celda aparece comentada para que no vuelva a ejecutarse cada vez que trabajamos en esta notebook. "
   ]
  },
  {
   "cell_type": "code",
   "execution_count": null,
   "metadata": {},
   "outputs": [],
   "source": [
    "#from sklearn.model_selection import GridSearchCV\n",
    "\n",
    "#param_grid = {\n",
    "#    'learning_rate': [0.01, 0.03, 0.1, 0.2],\n",
    "#    'no_components': [3, 10, 50, 100, 200]\n",
    "#}\n",
    "\n",
    "\n",
    "\n",
    "#model_1 = LightFM()\n",
    "#grid_search = GridSearchCV(model_1, param_grid, scoring='accuracy', cv=5)"
   ]
  },
  {
   "cell_type": "code",
   "execution_count": null,
   "metadata": {},
   "outputs": [
    {
     "name": "stderr",
     "output_type": "stream",
     "text": [
      "Epoch:   0%|          | 0/10 [00:00<?, ?it/s]"
     ]
    },
    {
     "name": "stderr",
     "output_type": "stream",
     "text": [
      "Epoch: 100%|██████████| 10/10 [00:02<00:00,  4.09it/s]\n",
      "c:\\Users\\ferbi\\AppData\\Local\\Programs\\Python\\Python311\\Lib\\site-packages\\sklearn\\model_selection\\_validation.py:824: UserWarning: Scoring failed. The score on this train-test partition for these parameters will be set to nan. Details: \n",
      "Traceback (most recent call last):\n",
      "  File \"c:\\Users\\ferbi\\AppData\\Local\\Programs\\Python\\Python311\\Lib\\site-packages\\sklearn\\model_selection\\_validation.py\", line 811, in _score\n",
      "    scores = scorer(estimator, X_test)\n",
      "             ^^^^^^^^^^^^^^^^^^^^^^^^^\n",
      "TypeError: _BaseScorer.__call__() missing 1 required positional argument: 'y_true'\n",
      "\n",
      "  warnings.warn(\n",
      "Epoch: 100%|██████████| 10/10 [00:01<00:00,  5.34it/s]\n",
      "Epoch: 100%|██████████| 10/10 [00:01<00:00,  5.22it/s]\n",
      "Epoch: 100%|██████████| 10/10 [00:01<00:00,  5.17it/s]\n",
      "Epoch: 100%|██████████| 10/10 [00:01<00:00,  5.24it/s]\n",
      "Epoch: 100%|██████████| 10/10 [00:04<00:00,  2.39it/s]\n",
      "Epoch: 100%|██████████| 10/10 [00:04<00:00,  2.35it/s]\n",
      "Epoch: 100%|██████████| 10/10 [00:04<00:00,  2.39it/s]\n",
      "Epoch: 100%|██████████| 10/10 [00:04<00:00,  2.26it/s]\n",
      "Epoch: 100%|██████████| 10/10 [00:04<00:00,  2.39it/s]\n",
      "Epoch: 100%|██████████| 10/10 [00:15<00:00,  1.55s/it]\n",
      "Epoch: 100%|██████████| 10/10 [00:15<00:00,  1.51s/it]\n",
      "Epoch: 100%|██████████| 10/10 [00:15<00:00,  1.54s/it]\n",
      "Epoch: 100%|██████████| 10/10 [00:15<00:00,  1.55s/it]\n",
      "Epoch: 100%|██████████| 10/10 [00:15<00:00,  1.53s/it]\n",
      "Epoch: 100%|██████████| 10/10 [00:28<00:00,  2.82s/it]\n",
      "Epoch: 100%|██████████| 10/10 [00:28<00:00,  2.90s/it]\n",
      "Epoch: 100%|██████████| 10/10 [00:30<00:00,  3.03s/it]\n",
      "Epoch: 100%|██████████| 10/10 [00:29<00:00,  2.98s/it]\n",
      "Epoch: 100%|██████████| 10/10 [00:28<00:00,  2.80s/it]\n",
      "Epoch: 100%|██████████| 10/10 [00:52<00:00,  5.29s/it]\n",
      "Epoch: 100%|██████████| 10/10 [00:52<00:00,  5.26s/it]\n",
      "Epoch: 100%|██████████| 10/10 [00:56<00:00,  5.61s/it]\n",
      "Epoch: 100%|██████████| 10/10 [00:53<00:00,  5.37s/it]\n",
      "Epoch: 100%|██████████| 10/10 [00:52<00:00,  5.28s/it]\n",
      "Epoch: 100%|██████████| 10/10 [00:01<00:00,  5.35it/s]\n",
      "Epoch: 100%|██████████| 10/10 [00:01<00:00,  5.43it/s]\n",
      "Epoch: 100%|██████████| 10/10 [00:01<00:00,  5.31it/s]\n",
      "Epoch: 100%|██████████| 10/10 [00:01<00:00,  5.56it/s]\n",
      "Epoch: 100%|██████████| 10/10 [00:01<00:00,  5.38it/s]\n",
      "Epoch: 100%|██████████| 10/10 [00:03<00:00,  2.52it/s]\n",
      "Epoch: 100%|██████████| 10/10 [00:04<00:00,  2.49it/s]\n",
      "Epoch: 100%|██████████| 10/10 [00:04<00:00,  2.49it/s]\n",
      "Epoch: 100%|██████████| 10/10 [00:04<00:00,  2.47it/s]\n",
      "Epoch: 100%|██████████| 10/10 [00:04<00:00,  2.49it/s]\n",
      "Epoch: 100%|██████████| 10/10 [00:14<00:00,  1.49s/it]\n",
      "Epoch: 100%|██████████| 10/10 [00:14<00:00,  1.48s/it]\n",
      "Epoch: 100%|██████████| 10/10 [00:15<00:00,  1.51s/it]\n",
      "Epoch: 100%|██████████| 10/10 [00:15<00:00,  1.55s/it]\n",
      "Epoch: 100%|██████████| 10/10 [00:15<00:00,  1.54s/it]\n",
      "Epoch: 100%|██████████| 10/10 [00:29<00:00,  2.93s/it]\n",
      "Epoch: 100%|██████████| 10/10 [00:31<00:00,  3.13s/it]\n",
      "Epoch: 100%|██████████| 10/10 [00:30<00:00,  3.04s/it]\n",
      "Epoch: 100%|██████████| 10/10 [00:27<00:00,  2.79s/it]\n",
      "Epoch: 100%|██████████| 10/10 [00:27<00:00,  2.76s/it]\n",
      "Epoch: 100%|██████████| 10/10 [00:53<00:00,  5.33s/it]\n",
      "Epoch: 100%|██████████| 10/10 [00:54<00:00,  5.41s/it]\n",
      "Epoch: 100%|██████████| 10/10 [00:55<00:00,  5.56s/it]\n",
      "Epoch: 100%|██████████| 10/10 [00:55<00:00,  5.58s/it]\n",
      "Epoch: 100%|██████████| 10/10 [00:55<00:00,  5.60s/it]\n",
      "Epoch: 100%|██████████| 10/10 [00:01<00:00,  5.21it/s]\n",
      "Epoch: 100%|██████████| 10/10 [00:01<00:00,  5.28it/s]\n",
      "Epoch: 100%|██████████| 10/10 [00:01<00:00,  5.45it/s]\n",
      "Epoch: 100%|██████████| 10/10 [00:01<00:00,  5.12it/s]\n",
      "Epoch: 100%|██████████| 10/10 [00:01<00:00,  5.19it/s]\n",
      "Epoch: 100%|██████████| 10/10 [00:04<00:00,  2.43it/s]\n",
      "Epoch: 100%|██████████| 10/10 [00:04<00:00,  2.39it/s]\n",
      "Epoch: 100%|██████████| 10/10 [00:04<00:00,  2.41it/s]\n",
      "Epoch: 100%|██████████| 10/10 [00:04<00:00,  2.38it/s]\n",
      "Epoch: 100%|██████████| 10/10 [00:04<00:00,  2.40it/s]\n",
      "Epoch: 100%|██████████| 10/10 [00:15<00:00,  1.57s/it]\n",
      "Epoch: 100%|██████████| 10/10 [00:15<00:00,  1.56s/it]\n",
      "Epoch: 100%|██████████| 10/10 [00:15<00:00,  1.58s/it]\n",
      "Epoch: 100%|██████████| 10/10 [00:14<00:00,  1.49s/it]\n",
      "Epoch: 100%|██████████| 10/10 [00:15<00:00,  1.50s/it]\n",
      "Epoch: 100%|██████████| 10/10 [00:27<00:00,  2.76s/it]\n",
      "Epoch: 100%|██████████| 10/10 [00:27<00:00,  2.77s/it]\n",
      "Epoch: 100%|██████████| 10/10 [00:27<00:00,  2.79s/it]\n",
      "Epoch: 100%|██████████| 10/10 [00:28<00:00,  2.80s/it]\n",
      "Epoch: 100%|██████████| 10/10 [00:28<00:00,  2.80s/it]\n",
      "Epoch: 100%|██████████| 10/10 [00:55<00:00,  5.57s/it]\n",
      "Epoch: 100%|██████████| 10/10 [00:55<00:00,  5.59s/it]\n",
      "Epoch: 100%|██████████| 10/10 [00:55<00:00,  5.58s/it]\n",
      "Epoch: 100%|██████████| 10/10 [00:53<00:00,  5.35s/it]\n",
      "Epoch: 100%|██████████| 10/10 [00:53<00:00,  5.34s/it]\n",
      "Epoch: 100%|██████████| 10/10 [00:01<00:00,  5.35it/s]\n",
      "Epoch: 100%|██████████| 10/10 [00:01<00:00,  5.59it/s]\n",
      "Epoch: 100%|██████████| 10/10 [00:01<00:00,  5.41it/s]\n",
      "Epoch: 100%|██████████| 10/10 [00:01<00:00,  5.50it/s]\n",
      "Epoch: 100%|██████████| 10/10 [00:01<00:00,  5.53it/s]\n",
      "Epoch: 100%|██████████| 10/10 [00:04<00:00,  2.38it/s]\n",
      "Epoch: 100%|██████████| 10/10 [00:03<00:00,  2.51it/s]\n",
      "Epoch: 100%|██████████| 10/10 [00:04<00:00,  2.44it/s]\n",
      "Epoch: 100%|██████████| 10/10 [00:04<00:00,  2.41it/s]\n",
      "Epoch: 100%|██████████| 10/10 [00:04<00:00,  2.38it/s]\n",
      "Epoch: 100%|██████████| 10/10 [00:15<00:00,  1.50s/it]\n",
      "Epoch: 100%|██████████| 10/10 [00:16<00:00,  1.67s/it]\n",
      "Epoch: 100%|██████████| 10/10 [00:20<00:00,  2.02s/it]\n",
      "Epoch: 100%|██████████| 10/10 [00:15<00:00,  1.54s/it]\n",
      "Epoch: 100%|██████████| 10/10 [00:15<00:00,  1.54s/it]\n",
      "Epoch: 100%|██████████| 10/10 [00:29<00:00,  2.92s/it]\n",
      "Epoch: 100%|██████████| 10/10 [00:29<00:00,  2.93s/it]\n",
      "Epoch: 100%|██████████| 10/10 [00:30<00:00,  3.02s/it]\n",
      "Epoch: 100%|██████████| 10/10 [00:29<00:00,  2.91s/it]\n",
      "Epoch: 100%|██████████| 10/10 [00:29<00:00,  2.93s/it]\n",
      "Epoch: 100%|██████████| 10/10 [00:55<00:00,  5.58s/it]\n",
      "Epoch: 100%|██████████| 10/10 [00:53<00:00,  5.35s/it]\n",
      "Epoch: 100%|██████████| 10/10 [00:53<00:00,  5.34s/it]\n",
      "Epoch: 100%|██████████| 10/10 [00:53<00:00,  5.34s/it]\n",
      "Epoch: 100%|██████████| 10/10 [00:54<00:00,  5.46s/it]\n",
      "c:\\Users\\ferbi\\AppData\\Local\\Programs\\Python\\Python311\\Lib\\site-packages\\sklearn\\model_selection\\_search.py:976: UserWarning: One or more of the test scores are non-finite: [nan nan nan nan nan nan nan nan nan nan nan nan nan nan nan nan nan nan\n",
      " nan nan]\n",
      "  warnings.warn(\n",
      "Epoch: 100%|██████████| 10/10 [00:02<00:00,  3.95it/s]\n"
     ]
    },
    {
     "data": {
      "text/html": [
       "<style>#sk-container-id-1 {color: black;}#sk-container-id-1 pre{padding: 0;}#sk-container-id-1 div.sk-toggleable {background-color: white;}#sk-container-id-1 label.sk-toggleable__label {cursor: pointer;display: block;width: 100%;margin-bottom: 0;padding: 0.3em;box-sizing: border-box;text-align: center;}#sk-container-id-1 label.sk-toggleable__label-arrow:before {content: \"▸\";float: left;margin-right: 0.25em;color: #696969;}#sk-container-id-1 label.sk-toggleable__label-arrow:hover:before {color: black;}#sk-container-id-1 div.sk-estimator:hover label.sk-toggleable__label-arrow:before {color: black;}#sk-container-id-1 div.sk-toggleable__content {max-height: 0;max-width: 0;overflow: hidden;text-align: left;background-color: #f0f8ff;}#sk-container-id-1 div.sk-toggleable__content pre {margin: 0.2em;color: black;border-radius: 0.25em;background-color: #f0f8ff;}#sk-container-id-1 input.sk-toggleable__control:checked~div.sk-toggleable__content {max-height: 200px;max-width: 100%;overflow: auto;}#sk-container-id-1 input.sk-toggleable__control:checked~label.sk-toggleable__label-arrow:before {content: \"▾\";}#sk-container-id-1 div.sk-estimator input.sk-toggleable__control:checked~label.sk-toggleable__label {background-color: #d4ebff;}#sk-container-id-1 div.sk-label input.sk-toggleable__control:checked~label.sk-toggleable__label {background-color: #d4ebff;}#sk-container-id-1 input.sk-hidden--visually {border: 0;clip: rect(1px 1px 1px 1px);clip: rect(1px, 1px, 1px, 1px);height: 1px;margin: -1px;overflow: hidden;padding: 0;position: absolute;width: 1px;}#sk-container-id-1 div.sk-estimator {font-family: monospace;background-color: #f0f8ff;border: 1px dotted black;border-radius: 0.25em;box-sizing: border-box;margin-bottom: 0.5em;}#sk-container-id-1 div.sk-estimator:hover {background-color: #d4ebff;}#sk-container-id-1 div.sk-parallel-item::after {content: \"\";width: 100%;border-bottom: 1px solid gray;flex-grow: 1;}#sk-container-id-1 div.sk-label:hover label.sk-toggleable__label {background-color: #d4ebff;}#sk-container-id-1 div.sk-serial::before {content: \"\";position: absolute;border-left: 1px solid gray;box-sizing: border-box;top: 0;bottom: 0;left: 50%;z-index: 0;}#sk-container-id-1 div.sk-serial {display: flex;flex-direction: column;align-items: center;background-color: white;padding-right: 0.2em;padding-left: 0.2em;position: relative;}#sk-container-id-1 div.sk-item {position: relative;z-index: 1;}#sk-container-id-1 div.sk-parallel {display: flex;align-items: stretch;justify-content: center;background-color: white;position: relative;}#sk-container-id-1 div.sk-item::before, #sk-container-id-1 div.sk-parallel-item::before {content: \"\";position: absolute;border-left: 1px solid gray;box-sizing: border-box;top: 0;bottom: 0;left: 50%;z-index: -1;}#sk-container-id-1 div.sk-parallel-item {display: flex;flex-direction: column;z-index: 1;position: relative;background-color: white;}#sk-container-id-1 div.sk-parallel-item:first-child::after {align-self: flex-end;width: 50%;}#sk-container-id-1 div.sk-parallel-item:last-child::after {align-self: flex-start;width: 50%;}#sk-container-id-1 div.sk-parallel-item:only-child::after {width: 0;}#sk-container-id-1 div.sk-dashed-wrapped {border: 1px dashed gray;margin: 0 0.4em 0.5em 0.4em;box-sizing: border-box;padding-bottom: 0.4em;background-color: white;}#sk-container-id-1 div.sk-label label {font-family: monospace;font-weight: bold;display: inline-block;line-height: 1.2em;}#sk-container-id-1 div.sk-label-container {text-align: center;}#sk-container-id-1 div.sk-container {/* jupyter's `normalize.less` sets `[hidden] { display: none; }` but bootstrap.min.css set `[hidden] { display: none !important; }` so we also need the `!important` here to be able to override the default hidden behavior on the sphinx rendered scikit-learn.org. See: https://github.com/scikit-learn/scikit-learn/issues/21755 */display: inline-block !important;position: relative;}#sk-container-id-1 div.sk-text-repr-fallback {display: none;}</style><div id=\"sk-container-id-1\" class=\"sk-top-container\"><div class=\"sk-text-repr-fallback\"><pre>GridSearchCV(cv=5,\n",
       "             estimator=&lt;lightfm.lightfm.LightFM object at 0x000001F9D37073D0&gt;,\n",
       "             param_grid={&#x27;learning_rate&#x27;: [0.01, 0.03, 0.1, 0.2],\n",
       "                         &#x27;no_components&#x27;: [3, 10, 50, 100, 200]},\n",
       "             scoring=&#x27;accuracy&#x27;)</pre><b>In a Jupyter environment, please rerun this cell to show the HTML representation or trust the notebook. <br />On GitHub, the HTML representation is unable to render, please try loading this page with nbviewer.org.</b></div><div class=\"sk-container\" hidden><div class=\"sk-item sk-dashed-wrapped\"><div class=\"sk-label-container\"><div class=\"sk-label sk-toggleable\"><input class=\"sk-toggleable__control sk-hidden--visually\" id=\"sk-estimator-id-1\" type=\"checkbox\" ><label for=\"sk-estimator-id-1\" class=\"sk-toggleable__label sk-toggleable__label-arrow\">GridSearchCV</label><div class=\"sk-toggleable__content\"><pre>GridSearchCV(cv=5,\n",
       "             estimator=&lt;lightfm.lightfm.LightFM object at 0x000001F9D37073D0&gt;,\n",
       "             param_grid={&#x27;learning_rate&#x27;: [0.01, 0.03, 0.1, 0.2],\n",
       "                         &#x27;no_components&#x27;: [3, 10, 50, 100, 200]},\n",
       "             scoring=&#x27;accuracy&#x27;)</pre></div></div></div><div class=\"sk-parallel\"><div class=\"sk-parallel-item\"><div class=\"sk-item\"><div class=\"sk-label-container\"><div class=\"sk-label sk-toggleable\"><input class=\"sk-toggleable__control sk-hidden--visually\" id=\"sk-estimator-id-2\" type=\"checkbox\" ><label for=\"sk-estimator-id-2\" class=\"sk-toggleable__label sk-toggleable__label-arrow\">estimator: LightFM</label><div class=\"sk-toggleable__content\"><pre>&lt;lightfm.lightfm.LightFM object at 0x000001F9D37073D0&gt;</pre></div></div></div><div class=\"sk-serial\"><div class=\"sk-item\"><div class=\"sk-estimator sk-toggleable\"><input class=\"sk-toggleable__control sk-hidden--visually\" id=\"sk-estimator-id-3\" type=\"checkbox\" ><label for=\"sk-estimator-id-3\" class=\"sk-toggleable__label sk-toggleable__label-arrow\">LightFM</label><div class=\"sk-toggleable__content\"><pre>&lt;lightfm.lightfm.LightFM object at 0x000001F9D37073D0&gt;</pre></div></div></div></div></div></div></div></div></div></div>"
      ],
      "text/plain": [
       "GridSearchCV(cv=5,\n",
       "             estimator=<lightfm.lightfm.LightFM object at 0x000001F9D37073D0>,\n",
       "             param_grid={'learning_rate': [0.01, 0.03, 0.1, 0.2],\n",
       "                         'no_components': [3, 10, 50, 100, 200]},\n",
       "             scoring='accuracy')"
      ]
     },
     "execution_count": 71,
     "metadata": {},
     "output_type": "execute_result"
    }
   ],
   "source": [
    "#grid_search.fit(interactions_matrix_csr, epochs=10, verbose=True)"
   ]
  },
  {
   "cell_type": "code",
   "execution_count": null,
   "metadata": {},
   "outputs": [],
   "source": [
    "#best_params = grid_search.best_params_"
   ]
  },
  {
   "cell_type": "code",
   "execution_count": null,
   "metadata": {},
   "outputs": [
    {
     "data": {
      "text/plain": [
       "{'learning_rate': 0.01, 'no_components': 3}"
      ]
     },
     "execution_count": 73,
     "metadata": {},
     "output_type": "execute_result"
    }
   ],
   "source": [
    "#best_params"
   ]
  },
  {
   "cell_type": "markdown",
   "metadata": {},
   "source": [
    "Conociendo los mejores parametros, obtenidos a partir de GridSearchCV, entrenamos el modelo con estos parametros:"
   ]
  },
  {
   "cell_type": "code",
   "execution_count": 80,
   "metadata": {},
   "outputs": [],
   "source": [
    "model_1 = LightFM(no_components=3, random_state=100, learning_rate=0.01)"
   ]
  },
  {
   "cell_type": "markdown",
   "metadata": {},
   "source": [
    "Entrenamos en este segundo modelo durante 10 epocas"
   ]
  },
  {
   "cell_type": "code",
   "execution_count": 82,
   "metadata": {},
   "outputs": [
    {
     "name": "stdout",
     "output_type": "stream",
     "text": [
      "CPU times: total: 859 ms\n",
      "Wall time: 2.3 s\n"
     ]
    }
   ],
   "source": [
    "%%time \n",
    "#Devuelve el tiempo que le lleva a mi maquina el entrenamiento\n",
    "model_1 = model_1.fit(interactions_matrix_csr, epochs = 10)"
   ]
  },
  {
   "cell_type": "markdown",
   "metadata": {},
   "source": [
    "Obtenemos las recomendaciones para cada usuario en el set de test: "
   ]
  },
  {
   "cell_type": "code",
   "execution_count": 83,
   "metadata": {},
   "outputs": [
    {
     "name": "stderr",
     "output_type": "stream",
     "text": [
      "100%|██████████| 46625/46625 [08:24<00:00, 92.37it/s] \n"
     ]
    }
   ],
   "source": [
    "from tqdm import tqdm\n",
    "\n",
    "# Definimos dict donde vamos a ir almacenando las recomendaciones\n",
    "recomms_dict = {\n",
    "    'user_id': [],\n",
    "    'recomms': [],\n",
    "    'cold_start': [],  # Nueva columna para indicar si es cold start\n",
    "    'watched_content': []  # Nueva columna para contener el contenido que el usuario ya vio\n",
    "}\n",
    "\n",
    "# Obtenemos cantidad de usuarios y cantidad de items\n",
    "n_users, n_items = interactions_matrix.shape\n",
    "item_ids = np.arange(n_items)\n",
    "\n",
    "# Por cada usuario del dataset de test, generamos recomendaciones\n",
    "for user in tqdm(df_test.user_id.unique()):\n",
    "    # Validar si el usuario se encuentra en la matriz de interacciones (interactions_matrix.index)\n",
    "    if user in list(interactions_matrix.index):\n",
    "        # Si el usuario está en train, no es cold start. Usamos el modelo para recomendar\n",
    "        user_x = user_dict[user]  # Buscamos el índice del usuario en la matriz (transformamos id a índice)\n",
    "\n",
    "        # Generar las predicciones para el usuario x\n",
    "        preds = model_1.predict(user_ids=user_x, item_ids=item_ids)\n",
    "\n",
    "        # Basándose en el ejemplo anterior, ordenar las predicciones de menor a mayor y quedarse con 50.\n",
    "        scores = pd.Series(preds)\n",
    "        scores.index = interactions_matrix.columns\n",
    "        scores = list(pd.Series(scores.sort_values(ascending=False).index))[:50]\n",
    "\n",
    "        # Obtener listado de contenidos vistos anteriormente por el usuario (en el set de train)\n",
    "        watched_contents = df_train[df_train.user_id == user].anime_id.unique()\n",
    "\n",
    "        # Filtrar contenidos ya vistos y quedarse con los primeros 10\n",
    "        recomms = [x for x in scores if x not in watched_contents][:10]\n",
    "\n",
    "        # Guardamos las recomendaciones en el diccionario y marcamos que no es cold start\n",
    "        recomms_dict['user_id'].append(user)\n",
    "        recomms_dict['recomms'].append(scores)\n",
    "        recomms_dict['cold_start'].append(False)\n",
    "        recomms_dict['watched_content'].append(watched_contents)\n",
    "    else:\n",
    "        # Tratamos a los usuarios que no están en la matriz (cold start)\n",
    "        recomms_dict['user_id'].append(user)\n",
    "        # Les recomendamos contenido popular\n",
    "        recomms_dict['recomms'].append(popular_content)\n",
    "        recomms_dict['cold_start'].append(True)\n",
    "        recomms_dict['watched_content'].append([])\n",
    "\n",
    "# Convertir el diccionario a un DataFrame\n",
    "recomms_df = pd.DataFrame(recomms_dict)"
   ]
  },
  {
   "cell_type": "code",
   "execution_count": 84,
   "metadata": {},
   "outputs": [
    {
     "data": {
      "text/html": [
       "<div>\n",
       "<style scoped>\n",
       "    .dataframe tbody tr th:only-of-type {\n",
       "        vertical-align: middle;\n",
       "    }\n",
       "\n",
       "    .dataframe tbody tr th {\n",
       "        vertical-align: top;\n",
       "    }\n",
       "\n",
       "    .dataframe thead th {\n",
       "        text-align: right;\n",
       "    }\n",
       "</style>\n",
       "<table border=\"1\" class=\"dataframe\">\n",
       "  <thead>\n",
       "    <tr style=\"text-align: right;\">\n",
       "      <th></th>\n",
       "      <th>user_id</th>\n",
       "      <th>recomms</th>\n",
       "      <th>cold_start</th>\n",
       "      <th>watched_content</th>\n",
       "    </tr>\n",
       "  </thead>\n",
       "  <tbody>\n",
       "    <tr>\n",
       "      <th>0</th>\n",
       "      <td>178593</td>\n",
       "      <td>[1535, 16498, 11757, 4224, 6547, 1575, 22319, ...</td>\n",
       "      <td>False</td>\n",
       "      <td>[23281]</td>\n",
       "    </tr>\n",
       "    <tr>\n",
       "      <th>1</th>\n",
       "      <td>348211</td>\n",
       "      <td>[1535, 16498, 11757, 4224, 6547, 1575, 30276, ...</td>\n",
       "      <td>False</td>\n",
       "      <td>[20709, 28623, 17875, 38101]</td>\n",
       "    </tr>\n",
       "    <tr>\n",
       "      <th>2</th>\n",
       "      <td>43693</td>\n",
       "      <td>[1535, 16498, 11757, 4224, 6547, 1575, 22319, ...</td>\n",
       "      <td>False</td>\n",
       "      <td>[31646, 467, 5]</td>\n",
       "    </tr>\n",
       "    <tr>\n",
       "      <th>3</th>\n",
       "      <td>306146</td>\n",
       "      <td>[16498, 1535, 11757, 6547, 4224, 199, 30276, 2...</td>\n",
       "      <td>False</td>\n",
       "      <td>[9750]</td>\n",
       "    </tr>\n",
       "    <tr>\n",
       "      <th>4</th>\n",
       "      <td>228292</td>\n",
       "      <td>[1535, 16498, 11757, 4224, 6547, 1575, 22319, ...</td>\n",
       "      <td>True</td>\n",
       "      <td>[]</td>\n",
       "    </tr>\n",
       "    <tr>\n",
       "      <th>...</th>\n",
       "      <td>...</td>\n",
       "      <td>...</td>\n",
       "      <td>...</td>\n",
       "      <td>...</td>\n",
       "    </tr>\n",
       "    <tr>\n",
       "      <th>46620</th>\n",
       "      <td>14910</td>\n",
       "      <td>[1535, 16498, 11757, 4224, 6547, 1575, 30276, ...</td>\n",
       "      <td>False</td>\n",
       "      <td>[14045, 11843, 2594, 5984]</td>\n",
       "    </tr>\n",
       "    <tr>\n",
       "      <th>46621</th>\n",
       "      <td>143540</td>\n",
       "      <td>[1535, 16498, 11757, 4224, 6547, 1575, 22319, ...</td>\n",
       "      <td>True</td>\n",
       "      <td>[]</td>\n",
       "    </tr>\n",
       "    <tr>\n",
       "      <th>46622</th>\n",
       "      <td>282331</td>\n",
       "      <td>[1535, 16498, 11757, 4224, 6547, 1575, 22319, ...</td>\n",
       "      <td>True</td>\n",
       "      <td>[]</td>\n",
       "    </tr>\n",
       "    <tr>\n",
       "      <th>46623</th>\n",
       "      <td>35516</td>\n",
       "      <td>[1535, 16498, 11757, 4224, 6547, 199, 1575, 30...</td>\n",
       "      <td>False</td>\n",
       "      <td>[24833]</td>\n",
       "    </tr>\n",
       "    <tr>\n",
       "      <th>46624</th>\n",
       "      <td>18230</td>\n",
       "      <td>[1535, 16498, 11757, 4224, 6547, 1575, 22319, ...</td>\n",
       "      <td>True</td>\n",
       "      <td>[]</td>\n",
       "    </tr>\n",
       "  </tbody>\n",
       "</table>\n",
       "<p>46625 rows × 4 columns</p>\n",
       "</div>"
      ],
      "text/plain": [
       "       user_id                                            recomms  cold_start  \\\n",
       "0       178593  [1535, 16498, 11757, 4224, 6547, 1575, 22319, ...       False   \n",
       "1       348211  [1535, 16498, 11757, 4224, 6547, 1575, 30276, ...       False   \n",
       "2        43693  [1535, 16498, 11757, 4224, 6547, 1575, 22319, ...       False   \n",
       "3       306146  [16498, 1535, 11757, 6547, 4224, 199, 30276, 2...       False   \n",
       "4       228292  [1535, 16498, 11757, 4224, 6547, 1575, 22319, ...        True   \n",
       "...        ...                                                ...         ...   \n",
       "46620    14910  [1535, 16498, 11757, 4224, 6547, 1575, 30276, ...       False   \n",
       "46621   143540  [1535, 16498, 11757, 4224, 6547, 1575, 22319, ...        True   \n",
       "46622   282331  [1535, 16498, 11757, 4224, 6547, 1575, 22319, ...        True   \n",
       "46623    35516  [1535, 16498, 11757, 4224, 6547, 199, 1575, 30...       False   \n",
       "46624    18230  [1535, 16498, 11757, 4224, 6547, 1575, 22319, ...        True   \n",
       "\n",
       "                    watched_content  \n",
       "0                           [23281]  \n",
       "1      [20709, 28623, 17875, 38101]  \n",
       "2                   [31646, 467, 5]  \n",
       "3                            [9750]  \n",
       "4                                []  \n",
       "...                             ...  \n",
       "46620    [14045, 11843, 2594, 5984]  \n",
       "46621                            []  \n",
       "46622                            []  \n",
       "46623                       [24833]  \n",
       "46624                            []  \n",
       "\n",
       "[46625 rows x 4 columns]"
      ]
     },
     "execution_count": 84,
     "metadata": {},
     "output_type": "execute_result"
    }
   ],
   "source": [
    "recomms_df = pd.DataFrame(recomms_dict)\n",
    "recomms_df"
   ]
  },
  {
   "cell_type": "markdown",
   "metadata": {},
   "source": [
    "EVALUACION DE METRICAS"
   ]
  },
  {
   "cell_type": "markdown",
   "metadata": {},
   "source": [
    "Vamos a medir MAP: \n",
    "Primero unimos en un mismo dataframe las recomndaciones con el set ideal (que ya generamos arriba)."
   ]
  },
  {
   "cell_type": "code",
   "execution_count": 93,
   "metadata": {},
   "outputs": [
    {
     "data": {
      "text/html": [
       "<div>\n",
       "<style scoped>\n",
       "    .dataframe tbody tr th:only-of-type {\n",
       "        vertical-align: middle;\n",
       "    }\n",
       "\n",
       "    .dataframe tbody tr th {\n",
       "        vertical-align: top;\n",
       "    }\n",
       "\n",
       "    .dataframe thead th {\n",
       "        text-align: right;\n",
       "    }\n",
       "</style>\n",
       "<table border=\"1\" class=\"dataframe\">\n",
       "  <thead>\n",
       "    <tr style=\"text-align: right;\">\n",
       "      <th></th>\n",
       "      <th>user_id</th>\n",
       "      <th>ideal</th>\n",
       "      <th>recomms</th>\n",
       "    </tr>\n",
       "  </thead>\n",
       "  <tbody>\n",
       "    <tr>\n",
       "      <th>0</th>\n",
       "      <td>16</td>\n",
       "      <td>[21561, 1157]</td>\n",
       "      <td>[1535, 16498, 11757, 4224, 6547, 1575, 22319, ...</td>\n",
       "    </tr>\n",
       "    <tr>\n",
       "      <th>1</th>\n",
       "      <td>17</td>\n",
       "      <td>[8086]</td>\n",
       "      <td>[1535, 16498, 11757, 4224, 6547, 1575, 22319, ...</td>\n",
       "    </tr>\n",
       "    <tr>\n",
       "      <th>2</th>\n",
       "      <td>19</td>\n",
       "      <td>[10218, 586]</td>\n",
       "      <td>[1535, 11757, 16498, 4224, 6547, 1575, 22319, ...</td>\n",
       "    </tr>\n",
       "    <tr>\n",
       "      <th>3</th>\n",
       "      <td>21</td>\n",
       "      <td>[1889]</td>\n",
       "      <td>[1535, 16498, 11757, 6547, 4224, 22319, 199, 1...</td>\n",
       "    </tr>\n",
       "    <tr>\n",
       "      <th>4</th>\n",
       "      <td>42</td>\n",
       "      <td>[13759, 10380, 23057]</td>\n",
       "      <td>[16498, 1535, 11757, 6547, 4224, 1575, 30276, ...</td>\n",
       "    </tr>\n",
       "  </tbody>\n",
       "</table>\n",
       "</div>"
      ],
      "text/plain": [
       "   user_id                  ideal  \\\n",
       "0       16          [21561, 1157]   \n",
       "1       17                 [8086]   \n",
       "2       19           [10218, 586]   \n",
       "3       21                 [1889]   \n",
       "4       42  [13759, 10380, 23057]   \n",
       "\n",
       "                                             recomms  \n",
       "0  [1535, 16498, 11757, 4224, 6547, 1575, 22319, ...  \n",
       "1  [1535, 16498, 11757, 4224, 6547, 1575, 22319, ...  \n",
       "2  [1535, 11757, 16498, 4224, 6547, 1575, 22319, ...  \n",
       "3  [1535, 16498, 11757, 6547, 4224, 22319, 199, 1...  \n",
       "4  [16498, 1535, 11757, 6547, 4224, 1575, 30276, ...  "
      ]
     },
     "execution_count": 93,
     "metadata": {},
     "output_type": "execute_result"
    }
   ],
   "source": [
    "df_map = ideal_recomms.merge(recomms_df, how=\"left\", left_on=\"user_id\", right_on=\"user_id\")[[\"user_id\", \"anime_id\", \"recomms\"]]\n",
    "df_map.columns = [\"user_id\", \"ideal\", \"recomms\"]\n",
    "df_map.head()"
   ]
  },
  {
   "cell_type": "code",
   "execution_count": 94,
   "metadata": {},
   "outputs": [
    {
     "data": {
      "text/html": [
       "<div>\n",
       "<style scoped>\n",
       "    .dataframe tbody tr th:only-of-type {\n",
       "        vertical-align: middle;\n",
       "    }\n",
       "\n",
       "    .dataframe tbody tr th {\n",
       "        vertical-align: top;\n",
       "    }\n",
       "\n",
       "    .dataframe thead th {\n",
       "        text-align: right;\n",
       "    }\n",
       "</style>\n",
       "<table border=\"1\" class=\"dataframe\">\n",
       "  <thead>\n",
       "    <tr style=\"text-align: right;\">\n",
       "      <th></th>\n",
       "      <th>user_id</th>\n",
       "      <th>ideal</th>\n",
       "      <th>recomms</th>\n",
       "    </tr>\n",
       "  </thead>\n",
       "  <tbody>\n",
       "    <tr>\n",
       "      <th>46620</th>\n",
       "      <td>353358</td>\n",
       "      <td>[31741]</td>\n",
       "      <td>[16498, 1535, 11757, 6547, 4224, 1575, 30276, ...</td>\n",
       "    </tr>\n",
       "    <tr>\n",
       "      <th>46621</th>\n",
       "      <td>353365</td>\n",
       "      <td>[24833, 5112]</td>\n",
       "      <td>[16498, 1535, 11757, 6547, 4224, 30276, 1575, ...</td>\n",
       "    </tr>\n",
       "    <tr>\n",
       "      <th>46622</th>\n",
       "      <td>353382</td>\n",
       "      <td>[37510]</td>\n",
       "      <td>[1535, 16498, 11757, 4224, 6547, 1575, 22319, ...</td>\n",
       "    </tr>\n",
       "    <tr>\n",
       "      <th>46623</th>\n",
       "      <td>353395</td>\n",
       "      <td>[1882]</td>\n",
       "      <td>[11757, 1535, 16498, 199, 4224, 6547, 20, 1062...</td>\n",
       "    </tr>\n",
       "    <tr>\n",
       "      <th>46624</th>\n",
       "      <td>353398</td>\n",
       "      <td>[33532]</td>\n",
       "      <td>[1535, 16498, 11757, 4224, 6547, 1575, 30276, ...</td>\n",
       "    </tr>\n",
       "  </tbody>\n",
       "</table>\n",
       "</div>"
      ],
      "text/plain": [
       "       user_id          ideal  \\\n",
       "46620   353358        [31741]   \n",
       "46621   353365  [24833, 5112]   \n",
       "46622   353382        [37510]   \n",
       "46623   353395         [1882]   \n",
       "46624   353398        [33532]   \n",
       "\n",
       "                                                 recomms  \n",
       "46620  [16498, 1535, 11757, 6547, 4224, 1575, 30276, ...  \n",
       "46621  [16498, 1535, 11757, 6547, 4224, 30276, 1575, ...  \n",
       "46622  [1535, 16498, 11757, 4224, 6547, 1575, 22319, ...  \n",
       "46623  [11757, 1535, 16498, 199, 4224, 6547, 20, 1062...  \n",
       "46624  [1535, 16498, 11757, 4224, 6547, 1575, 30276, ...  "
      ]
     },
     "execution_count": 94,
     "metadata": {},
     "output_type": "execute_result"
    }
   ],
   "source": [
    "df_map.tail()"
   ]
  },
  {
   "cell_type": "code",
   "execution_count": 95,
   "metadata": {},
   "outputs": [],
   "source": [
    "aps = [] # lista vacía para ir almacenando la AP de cada recomendación\n",
    "\n",
    "for pred, label in df_map[[\"ideal\", \"recomms\"]].values:\n",
    "  n = len(pred) # cantidad de elementos recomendados\n",
    "  arange = np.arange(n, dtype=np.int32) + 1. # indexamos en base 1 \n",
    "  rel_k = np.in1d(pred[:n], label) # lista de booleanos que indican la relevancia de cada ítem\n",
    "  tp = np.ones(rel_k.sum(), dtype=np.int32).cumsum() # lista con el contador de verdaderos positivos\n",
    "  denom = arange[rel_k] # posiciones donde se encuentran los ítems relantes\n",
    "  ap = (tp / denom).sum() / len(label) # average precision\n",
    "  aps.append(ap)"
   ]
  },
  {
   "cell_type": "code",
   "execution_count": 96,
   "metadata": {},
   "outputs": [
    {
     "name": "stdout",
     "output_type": "stream",
     "text": [
      "mean average precision = 0.00277\n"
     ]
    }
   ],
   "source": [
    "MAP = np.mean(aps)\n",
    "print(f'mean average precision = {round(MAP, 5)}')"
   ]
  },
  {
   "cell_type": "markdown",
   "metadata": {},
   "source": [
    "Vemos que la metrica nos da un valor muy bajo, por lo tanto el modelo dando buenas recomendaciones. Esto puede deberse a que estamos trabajando con un conjunto acotado de datos del dataset original"
   ]
  },
  {
   "cell_type": "markdown",
   "metadata": {},
   "source": [
    "----------------------------------------------------------------------------------"
   ]
  },
  {
   "cell_type": "markdown",
   "metadata": {},
   "source": [
    "Probamos entranando el modelo durante 50 epocas"
   ]
  },
  {
   "cell_type": "code",
   "execution_count": 97,
   "metadata": {},
   "outputs": [],
   "source": [
    "model_2 = model_1.fit(interactions_matrix_csr, epochs = 50)"
   ]
  },
  {
   "cell_type": "code",
   "execution_count": 98,
   "metadata": {},
   "outputs": [
    {
     "name": "stderr",
     "output_type": "stream",
     "text": [
      "100%|██████████| 46625/46625 [08:39<00:00, 89.71it/s] \n"
     ]
    }
   ],
   "source": [
    "from tqdm import tqdm\n",
    "\n",
    "# Definimos dict donde vamos a ir almacenando las recomendaciones\n",
    "recomms_dict = {\n",
    "    'user_id': [],\n",
    "    'recomms': [],\n",
    "    'cold_start': [],  # Nueva columna para indicar si es cold start\n",
    "    'watched_content': []  # Nueva columna para contener el contenido que el usuario ya vio\n",
    "}\n",
    "\n",
    "# Obtenemos cantidad de usuarios y cantidad de items\n",
    "n_users, n_items = interactions_matrix.shape\n",
    "item_ids = np.arange(n_items)\n",
    "\n",
    "# Por cada usuario del dataset de test, generamos recomendaciones\n",
    "for user in tqdm(df_test.user_id.unique()):\n",
    "    # Validar si el usuario se encuentra en la matriz de interacciones (interactions_matrix.index)\n",
    "    if user in list(interactions_matrix.index):\n",
    "        # Si el usuario está en train, no es cold start. Usamos el modelo para recomendar\n",
    "        user_x = user_dict[user]  # Buscamos el índice del usuario en la matriz (transformamos id a índice)\n",
    "\n",
    "        # Generar las predicciones para el usuario x\n",
    "        preds = model_2.predict(user_ids=user_x, item_ids=item_ids)\n",
    "\n",
    "        # Basándose en el ejemplo anterior, ordenar las predicciones de menor a mayor y quedarse con 50.\n",
    "        scores = pd.Series(preds)\n",
    "        scores.index = interactions_matrix.columns\n",
    "        scores = list(pd.Series(scores.sort_values(ascending=False).index))[:50]\n",
    "\n",
    "        # Obtener listado de contenidos vistos anteriormente por el usuario (en el set de train)\n",
    "        watched_contents = df_train[df_train.user_id == user].anime_id.unique()\n",
    "\n",
    "        # Filtrar contenidos ya vistos y quedarse con los primeros 10\n",
    "        recomms = [x for x in scores if x not in watched_contents][:10]\n",
    "\n",
    "        # Guardamos las recomendaciones en el diccionario y marcamos que no es cold start\n",
    "        recomms_dict['user_id'].append(user)\n",
    "        recomms_dict['recomms'].append(scores)\n",
    "        recomms_dict['cold_start'].append(False)\n",
    "        recomms_dict['watched_content'].append(watched_contents)\n",
    "    else:\n",
    "        # Tratamos a los usuarios que no están en la matriz (cold start)\n",
    "        recomms_dict['user_id'].append(user)\n",
    "        # Les recomendamos contenido popular\n",
    "        recomms_dict['recomms'].append(popular_content)\n",
    "        recomms_dict['cold_start'].append(True)\n",
    "        recomms_dict['watched_content'].append([])\n",
    "\n",
    "# Convertir el diccionario a un DataFrame\n",
    "recomms_df = pd.DataFrame(recomms_dict)"
   ]
  },
  {
   "cell_type": "code",
   "execution_count": 99,
   "metadata": {},
   "outputs": [
    {
     "data": {
      "text/html": [
       "<div>\n",
       "<style scoped>\n",
       "    .dataframe tbody tr th:only-of-type {\n",
       "        vertical-align: middle;\n",
       "    }\n",
       "\n",
       "    .dataframe tbody tr th {\n",
       "        vertical-align: top;\n",
       "    }\n",
       "\n",
       "    .dataframe thead th {\n",
       "        text-align: right;\n",
       "    }\n",
       "</style>\n",
       "<table border=\"1\" class=\"dataframe\">\n",
       "  <thead>\n",
       "    <tr style=\"text-align: right;\">\n",
       "      <th></th>\n",
       "      <th>user_id</th>\n",
       "      <th>recomms</th>\n",
       "      <th>cold_start</th>\n",
       "      <th>watched_content</th>\n",
       "    </tr>\n",
       "  </thead>\n",
       "  <tbody>\n",
       "    <tr>\n",
       "      <th>0</th>\n",
       "      <td>178593</td>\n",
       "      <td>[1535, 11757, 16498, 6547, 4224, 22319, 30276,...</td>\n",
       "      <td>False</td>\n",
       "      <td>[23281]</td>\n",
       "    </tr>\n",
       "    <tr>\n",
       "      <th>1</th>\n",
       "      <td>348211</td>\n",
       "      <td>[16498, 1535, 11757, 4224, 6547, 1575, 20, 199...</td>\n",
       "      <td>False</td>\n",
       "      <td>[20709, 28623, 17875, 38101]</td>\n",
       "    </tr>\n",
       "    <tr>\n",
       "      <th>2</th>\n",
       "      <td>43693</td>\n",
       "      <td>[1535, 16498, 11757, 4224, 30276, 22319, 6547,...</td>\n",
       "      <td>False</td>\n",
       "      <td>[31646, 467, 5]</td>\n",
       "    </tr>\n",
       "    <tr>\n",
       "      <th>3</th>\n",
       "      <td>306146</td>\n",
       "      <td>[1535, 16498, 11757, 4224, 6547, 1575, 22319, ...</td>\n",
       "      <td>False</td>\n",
       "      <td>[9750]</td>\n",
       "    </tr>\n",
       "    <tr>\n",
       "      <th>4</th>\n",
       "      <td>228292</td>\n",
       "      <td>[1535, 16498, 11757, 4224, 6547, 1575, 22319, ...</td>\n",
       "      <td>True</td>\n",
       "      <td>[]</td>\n",
       "    </tr>\n",
       "    <tr>\n",
       "      <th>...</th>\n",
       "      <td>...</td>\n",
       "      <td>...</td>\n",
       "      <td>...</td>\n",
       "      <td>...</td>\n",
       "    </tr>\n",
       "    <tr>\n",
       "      <th>46620</th>\n",
       "      <td>14910</td>\n",
       "      <td>[1535, 11757, 16498, 4224, 6547, 30276, 22319,...</td>\n",
       "      <td>False</td>\n",
       "      <td>[14045, 11843, 2594, 5984]</td>\n",
       "    </tr>\n",
       "    <tr>\n",
       "      <th>46621</th>\n",
       "      <td>143540</td>\n",
       "      <td>[1535, 16498, 11757, 4224, 6547, 1575, 22319, ...</td>\n",
       "      <td>True</td>\n",
       "      <td>[]</td>\n",
       "    </tr>\n",
       "    <tr>\n",
       "      <th>46622</th>\n",
       "      <td>282331</td>\n",
       "      <td>[1535, 16498, 11757, 4224, 6547, 1575, 22319, ...</td>\n",
       "      <td>True</td>\n",
       "      <td>[]</td>\n",
       "    </tr>\n",
       "    <tr>\n",
       "      <th>46623</th>\n",
       "      <td>35516</td>\n",
       "      <td>[1535, 16498, 11757, 4224, 6547, 199, 1575, 20...</td>\n",
       "      <td>False</td>\n",
       "      <td>[24833]</td>\n",
       "    </tr>\n",
       "    <tr>\n",
       "      <th>46624</th>\n",
       "      <td>18230</td>\n",
       "      <td>[1535, 16498, 11757, 4224, 6547, 1575, 22319, ...</td>\n",
       "      <td>True</td>\n",
       "      <td>[]</td>\n",
       "    </tr>\n",
       "  </tbody>\n",
       "</table>\n",
       "<p>46625 rows × 4 columns</p>\n",
       "</div>"
      ],
      "text/plain": [
       "       user_id                                            recomms  cold_start  \\\n",
       "0       178593  [1535, 11757, 16498, 6547, 4224, 22319, 30276,...       False   \n",
       "1       348211  [16498, 1535, 11757, 4224, 6547, 1575, 20, 199...       False   \n",
       "2        43693  [1535, 16498, 11757, 4224, 30276, 22319, 6547,...       False   \n",
       "3       306146  [1535, 16498, 11757, 4224, 6547, 1575, 22319, ...       False   \n",
       "4       228292  [1535, 16498, 11757, 4224, 6547, 1575, 22319, ...        True   \n",
       "...        ...                                                ...         ...   \n",
       "46620    14910  [1535, 11757, 16498, 4224, 6547, 30276, 22319,...       False   \n",
       "46621   143540  [1535, 16498, 11757, 4224, 6547, 1575, 22319, ...        True   \n",
       "46622   282331  [1535, 16498, 11757, 4224, 6547, 1575, 22319, ...        True   \n",
       "46623    35516  [1535, 16498, 11757, 4224, 6547, 199, 1575, 20...       False   \n",
       "46624    18230  [1535, 16498, 11757, 4224, 6547, 1575, 22319, ...        True   \n",
       "\n",
       "                    watched_content  \n",
       "0                           [23281]  \n",
       "1      [20709, 28623, 17875, 38101]  \n",
       "2                   [31646, 467, 5]  \n",
       "3                            [9750]  \n",
       "4                                []  \n",
       "...                             ...  \n",
       "46620    [14045, 11843, 2594, 5984]  \n",
       "46621                            []  \n",
       "46622                            []  \n",
       "46623                       [24833]  \n",
       "46624                            []  \n",
       "\n",
       "[46625 rows x 4 columns]"
      ]
     },
     "execution_count": 99,
     "metadata": {},
     "output_type": "execute_result"
    }
   ],
   "source": [
    "recomms_df = pd.DataFrame(recomms_dict)\n",
    "recomms_df"
   ]
  },
  {
   "cell_type": "markdown",
   "metadata": {},
   "source": [
    "EVALUACION DE METRICAS  \n",
    " \n",
    "Vamos a medir MAP: \n",
    "Primero unimos en un mismo dataframe las recomndaciones con el set ideal (que ya generamos arriba)."
   ]
  },
  {
   "cell_type": "code",
   "execution_count": 100,
   "metadata": {},
   "outputs": [
    {
     "data": {
      "text/html": [
       "<div>\n",
       "<style scoped>\n",
       "    .dataframe tbody tr th:only-of-type {\n",
       "        vertical-align: middle;\n",
       "    }\n",
       "\n",
       "    .dataframe tbody tr th {\n",
       "        vertical-align: top;\n",
       "    }\n",
       "\n",
       "    .dataframe thead th {\n",
       "        text-align: right;\n",
       "    }\n",
       "</style>\n",
       "<table border=\"1\" class=\"dataframe\">\n",
       "  <thead>\n",
       "    <tr style=\"text-align: right;\">\n",
       "      <th></th>\n",
       "      <th>user_id</th>\n",
       "      <th>ideal</th>\n",
       "      <th>recomms</th>\n",
       "    </tr>\n",
       "  </thead>\n",
       "  <tbody>\n",
       "    <tr>\n",
       "      <th>0</th>\n",
       "      <td>16</td>\n",
       "      <td>[21561, 1157]</td>\n",
       "      <td>[1535, 16498, 11757, 4224, 6547, 1575, 22319, ...</td>\n",
       "    </tr>\n",
       "    <tr>\n",
       "      <th>1</th>\n",
       "      <td>17</td>\n",
       "      <td>[8086]</td>\n",
       "      <td>[1535, 16498, 11757, 4224, 6547, 1575, 22319, ...</td>\n",
       "    </tr>\n",
       "    <tr>\n",
       "      <th>2</th>\n",
       "      <td>19</td>\n",
       "      <td>[10218, 586]</td>\n",
       "      <td>[1535, 16498, 11757, 22319, 30276, 4224, 6547,...</td>\n",
       "    </tr>\n",
       "    <tr>\n",
       "      <th>3</th>\n",
       "      <td>21</td>\n",
       "      <td>[1889]</td>\n",
       "      <td>[1535, 16498, 11757, 6547, 4224, 1575, 199, 20...</td>\n",
       "    </tr>\n",
       "    <tr>\n",
       "      <th>4</th>\n",
       "      <td>42</td>\n",
       "      <td>[13759, 10380, 23057]</td>\n",
       "      <td>[1535, 11757, 16498, 6547, 4224, 22319, 1575, ...</td>\n",
       "    </tr>\n",
       "  </tbody>\n",
       "</table>\n",
       "</div>"
      ],
      "text/plain": [
       "   user_id                  ideal  \\\n",
       "0       16          [21561, 1157]   \n",
       "1       17                 [8086]   \n",
       "2       19           [10218, 586]   \n",
       "3       21                 [1889]   \n",
       "4       42  [13759, 10380, 23057]   \n",
       "\n",
       "                                             recomms  \n",
       "0  [1535, 16498, 11757, 4224, 6547, 1575, 22319, ...  \n",
       "1  [1535, 16498, 11757, 4224, 6547, 1575, 22319, ...  \n",
       "2  [1535, 16498, 11757, 22319, 30276, 4224, 6547,...  \n",
       "3  [1535, 16498, 11757, 6547, 4224, 1575, 199, 20...  \n",
       "4  [1535, 11757, 16498, 6547, 4224, 22319, 1575, ...  "
      ]
     },
     "execution_count": 100,
     "metadata": {},
     "output_type": "execute_result"
    }
   ],
   "source": [
    "df_map = ideal_recomms.merge(recomms_df, how=\"left\", left_on=\"user_id\", right_on=\"user_id\")[[\"user_id\", \"anime_id\", \"recomms\"]]\n",
    "df_map.columns = [\"user_id\", \"ideal\", \"recomms\"]\n",
    "df_map.head()"
   ]
  },
  {
   "cell_type": "code",
   "execution_count": 101,
   "metadata": {},
   "outputs": [
    {
     "data": {
      "text/html": [
       "<div>\n",
       "<style scoped>\n",
       "    .dataframe tbody tr th:only-of-type {\n",
       "        vertical-align: middle;\n",
       "    }\n",
       "\n",
       "    .dataframe tbody tr th {\n",
       "        vertical-align: top;\n",
       "    }\n",
       "\n",
       "    .dataframe thead th {\n",
       "        text-align: right;\n",
       "    }\n",
       "</style>\n",
       "<table border=\"1\" class=\"dataframe\">\n",
       "  <thead>\n",
       "    <tr style=\"text-align: right;\">\n",
       "      <th></th>\n",
       "      <th>user_id</th>\n",
       "      <th>ideal</th>\n",
       "      <th>recomms</th>\n",
       "    </tr>\n",
       "  </thead>\n",
       "  <tbody>\n",
       "    <tr>\n",
       "      <th>46620</th>\n",
       "      <td>353358</td>\n",
       "      <td>[31741]</td>\n",
       "      <td>[1535, 16498, 11757, 6547, 4224, 1575, 22319, ...</td>\n",
       "    </tr>\n",
       "    <tr>\n",
       "      <th>46621</th>\n",
       "      <td>353365</td>\n",
       "      <td>[24833, 5112]</td>\n",
       "      <td>[1535, 11757, 16498, 6547, 22319, 4224, 30276,...</td>\n",
       "    </tr>\n",
       "    <tr>\n",
       "      <th>46622</th>\n",
       "      <td>353382</td>\n",
       "      <td>[37510]</td>\n",
       "      <td>[1535, 16498, 11757, 4224, 6547, 1575, 22319, ...</td>\n",
       "    </tr>\n",
       "    <tr>\n",
       "      <th>46623</th>\n",
       "      <td>353395</td>\n",
       "      <td>[1882]</td>\n",
       "      <td>[11757, 1535, 16498, 4224, 6547, 30276, 22319,...</td>\n",
       "    </tr>\n",
       "    <tr>\n",
       "      <th>46624</th>\n",
       "      <td>353398</td>\n",
       "      <td>[33532]</td>\n",
       "      <td>[1535, 11757, 16498, 6547, 4224, 1575, 22319, ...</td>\n",
       "    </tr>\n",
       "  </tbody>\n",
       "</table>\n",
       "</div>"
      ],
      "text/plain": [
       "       user_id          ideal  \\\n",
       "46620   353358        [31741]   \n",
       "46621   353365  [24833, 5112]   \n",
       "46622   353382        [37510]   \n",
       "46623   353395         [1882]   \n",
       "46624   353398        [33532]   \n",
       "\n",
       "                                                 recomms  \n",
       "46620  [1535, 16498, 11757, 6547, 4224, 1575, 22319, ...  \n",
       "46621  [1535, 11757, 16498, 6547, 22319, 4224, 30276,...  \n",
       "46622  [1535, 16498, 11757, 4224, 6547, 1575, 22319, ...  \n",
       "46623  [11757, 1535, 16498, 4224, 6547, 30276, 22319,...  \n",
       "46624  [1535, 11757, 16498, 6547, 4224, 1575, 22319, ...  "
      ]
     },
     "execution_count": 101,
     "metadata": {},
     "output_type": "execute_result"
    }
   ],
   "source": [
    "df_map.tail()"
   ]
  },
  {
   "cell_type": "code",
   "execution_count": 102,
   "metadata": {},
   "outputs": [],
   "source": [
    "aps = [] # lista vacía para ir almacenando la AP de cada recomendación\n",
    "\n",
    "for pred, label in df_map[[\"ideal\", \"recomms\"]].values:\n",
    "  n = len(pred) # cantidad de elementos recomendados\n",
    "  arange = np.arange(n, dtype=np.int32) + 1. # indexamos en base 1 \n",
    "  rel_k = np.in1d(pred[:n], label) # lista de booleanos que indican la relevancia de cada ítem\n",
    "  tp = np.ones(rel_k.sum(), dtype=np.int32).cumsum() # lista con el contador de verdaderos positivos\n",
    "  denom = arange[rel_k] # posiciones donde se encuentran los ítems relantes\n",
    "  ap = (tp / denom).sum() / len(label) # average precision\n",
    "  aps.append(ap)"
   ]
  },
  {
   "cell_type": "code",
   "execution_count": 103,
   "metadata": {},
   "outputs": [
    {
     "name": "stdout",
     "output_type": "stream",
     "text": [
      "mean average precision = 0.00276\n"
     ]
    }
   ],
   "source": [
    "MAP = np.mean(aps)\n",
    "print(f'mean average precision = {round(MAP, 5)}')"
   ]
  },
  {
   "cell_type": "markdown",
   "metadata": {},
   "source": [
    "----------------------------------------------------------------------------------"
   ]
  },
  {
   "cell_type": "markdown",
   "metadata": {},
   "source": [
    "Probamos entrenando el modelo durante 100 epocas"
   ]
  },
  {
   "cell_type": "code",
   "execution_count": 104,
   "metadata": {},
   "outputs": [],
   "source": [
    "model_3 = model_1.fit(interactions_matrix_csr, epochs = 100)"
   ]
  },
  {
   "cell_type": "code",
   "execution_count": 105,
   "metadata": {},
   "outputs": [
    {
     "name": "stderr",
     "output_type": "stream",
     "text": [
      "100%|██████████| 46625/46625 [08:14<00:00, 94.35it/s] \n"
     ]
    }
   ],
   "source": [
    "from tqdm import tqdm\n",
    "\n",
    "# Definimos dict donde vamos a ir almacenando las recomendaciones\n",
    "recomms_dict = {\n",
    "    'user_id': [],\n",
    "    'recomms': [],\n",
    "    'cold_start': [],  # Nueva columna para indicar si es cold start\n",
    "    'watched_content': []  # Nueva columna para contener el contenido que el usuario ya vio\n",
    "}\n",
    "\n",
    "# Obtenemos cantidad de usuarios y cantidad de items\n",
    "n_users, n_items = interactions_matrix.shape\n",
    "item_ids = np.arange(n_items)\n",
    "\n",
    "# Por cada usuario del dataset de test, generamos recomendaciones\n",
    "for user in tqdm(df_test.user_id.unique()):\n",
    "    # Validar si el usuario se encuentra en la matriz de interacciones (interactions_matrix.index)\n",
    "    if user in list(interactions_matrix.index):\n",
    "        # Si el usuario está en train, no es cold start. Usamos el modelo para recomendar\n",
    "        user_x = user_dict[user]  # Buscamos el índice del usuario en la matriz (transformamos id a índice)\n",
    "\n",
    "        # Generar las predicciones para el usuario x\n",
    "        preds = model_3.predict(user_ids=user_x, item_ids=item_ids)\n",
    "\n",
    "        # Basándose en el ejemplo anterior, ordenar las predicciones de menor a mayor y quedarse con 50.\n",
    "        scores = pd.Series(preds)\n",
    "        scores.index = interactions_matrix.columns\n",
    "        scores = list(pd.Series(scores.sort_values(ascending=False).index))[:50]\n",
    "\n",
    "        # Obtener listado de contenidos vistos anteriormente por el usuario (en el set de train)\n",
    "        watched_contents = df_train[df_train.user_id == user].anime_id.unique()\n",
    "\n",
    "        # Filtrar contenidos ya vistos y quedarse con los primeros 10\n",
    "        recomms = [x for x in scores if x not in watched_contents][:10]\n",
    "\n",
    "        # Guardamos las recomendaciones en el diccionario y marcamos que no es cold start\n",
    "        recomms_dict['user_id'].append(user)\n",
    "        recomms_dict['recomms'].append(scores)\n",
    "        recomms_dict['cold_start'].append(False)\n",
    "        recomms_dict['watched_content'].append(watched_contents)\n",
    "    else:\n",
    "        # Tratamos a los usuarios que no están en la matriz (cold start)\n",
    "        recomms_dict['user_id'].append(user)\n",
    "        # Les recomendamos contenido popular\n",
    "        recomms_dict['recomms'].append(popular_content)\n",
    "        recomms_dict['cold_start'].append(True)\n",
    "        recomms_dict['watched_content'].append([])\n",
    "\n",
    "# Convertir el diccionario a un DataFrame\n",
    "recomms_df = pd.DataFrame(recomms_dict)"
   ]
  },
  {
   "cell_type": "code",
   "execution_count": 106,
   "metadata": {},
   "outputs": [
    {
     "data": {
      "text/html": [
       "<div>\n",
       "<style scoped>\n",
       "    .dataframe tbody tr th:only-of-type {\n",
       "        vertical-align: middle;\n",
       "    }\n",
       "\n",
       "    .dataframe tbody tr th {\n",
       "        vertical-align: top;\n",
       "    }\n",
       "\n",
       "    .dataframe thead th {\n",
       "        text-align: right;\n",
       "    }\n",
       "</style>\n",
       "<table border=\"1\" class=\"dataframe\">\n",
       "  <thead>\n",
       "    <tr style=\"text-align: right;\">\n",
       "      <th></th>\n",
       "      <th>user_id</th>\n",
       "      <th>recomms</th>\n",
       "      <th>cold_start</th>\n",
       "      <th>watched_content</th>\n",
       "    </tr>\n",
       "  </thead>\n",
       "  <tbody>\n",
       "    <tr>\n",
       "      <th>0</th>\n",
       "      <td>178593</td>\n",
       "      <td>[1535, 11757, 16498, 4224, 6547, 30276, 1575, ...</td>\n",
       "      <td>False</td>\n",
       "      <td>[23281]</td>\n",
       "    </tr>\n",
       "    <tr>\n",
       "      <th>1</th>\n",
       "      <td>348211</td>\n",
       "      <td>[16498, 1535, 11757, 4224, 22319, 20, 6547, 15...</td>\n",
       "      <td>False</td>\n",
       "      <td>[20709, 28623, 17875, 38101]</td>\n",
       "    </tr>\n",
       "    <tr>\n",
       "      <th>2</th>\n",
       "      <td>43693</td>\n",
       "      <td>[1535, 11757, 16498, 6547, 4224, 30276, 1575, ...</td>\n",
       "      <td>False</td>\n",
       "      <td>[31646, 467, 5]</td>\n",
       "    </tr>\n",
       "    <tr>\n",
       "      <th>3</th>\n",
       "      <td>306146</td>\n",
       "      <td>[16498, 11757, 1535, 4224, 22319, 32281, 20, 2...</td>\n",
       "      <td>False</td>\n",
       "      <td>[9750]</td>\n",
       "    </tr>\n",
       "    <tr>\n",
       "      <th>4</th>\n",
       "      <td>228292</td>\n",
       "      <td>[1535, 16498, 11757, 4224, 6547, 1575, 22319, ...</td>\n",
       "      <td>True</td>\n",
       "      <td>[]</td>\n",
       "    </tr>\n",
       "    <tr>\n",
       "      <th>...</th>\n",
       "      <td>...</td>\n",
       "      <td>...</td>\n",
       "      <td>...</td>\n",
       "      <td>...</td>\n",
       "    </tr>\n",
       "    <tr>\n",
       "      <th>46620</th>\n",
       "      <td>14910</td>\n",
       "      <td>[11757, 16498, 1535, 4224, 9253, 6547, 30276, ...</td>\n",
       "      <td>False</td>\n",
       "      <td>[14045, 11843, 2594, 5984]</td>\n",
       "    </tr>\n",
       "    <tr>\n",
       "      <th>46621</th>\n",
       "      <td>143540</td>\n",
       "      <td>[1535, 16498, 11757, 4224, 6547, 1575, 22319, ...</td>\n",
       "      <td>True</td>\n",
       "      <td>[]</td>\n",
       "    </tr>\n",
       "    <tr>\n",
       "      <th>46622</th>\n",
       "      <td>282331</td>\n",
       "      <td>[1535, 16498, 11757, 4224, 6547, 1575, 22319, ...</td>\n",
       "      <td>True</td>\n",
       "      <td>[]</td>\n",
       "    </tr>\n",
       "    <tr>\n",
       "      <th>46623</th>\n",
       "      <td>35516</td>\n",
       "      <td>[16498, 11757, 1535, 4224, 22319, 20, 6547, 15...</td>\n",
       "      <td>False</td>\n",
       "      <td>[24833]</td>\n",
       "    </tr>\n",
       "    <tr>\n",
       "      <th>46624</th>\n",
       "      <td>18230</td>\n",
       "      <td>[1535, 16498, 11757, 4224, 6547, 1575, 22319, ...</td>\n",
       "      <td>True</td>\n",
       "      <td>[]</td>\n",
       "    </tr>\n",
       "  </tbody>\n",
       "</table>\n",
       "<p>46625 rows × 4 columns</p>\n",
       "</div>"
      ],
      "text/plain": [
       "       user_id                                            recomms  cold_start  \\\n",
       "0       178593  [1535, 11757, 16498, 4224, 6547, 30276, 1575, ...       False   \n",
       "1       348211  [16498, 1535, 11757, 4224, 22319, 20, 6547, 15...       False   \n",
       "2        43693  [1535, 11757, 16498, 6547, 4224, 30276, 1575, ...       False   \n",
       "3       306146  [16498, 11757, 1535, 4224, 22319, 32281, 20, 2...       False   \n",
       "4       228292  [1535, 16498, 11757, 4224, 6547, 1575, 22319, ...        True   \n",
       "...        ...                                                ...         ...   \n",
       "46620    14910  [11757, 16498, 1535, 4224, 9253, 6547, 30276, ...       False   \n",
       "46621   143540  [1535, 16498, 11757, 4224, 6547, 1575, 22319, ...        True   \n",
       "46622   282331  [1535, 16498, 11757, 4224, 6547, 1575, 22319, ...        True   \n",
       "46623    35516  [16498, 11757, 1535, 4224, 22319, 20, 6547, 15...       False   \n",
       "46624    18230  [1535, 16498, 11757, 4224, 6547, 1575, 22319, ...        True   \n",
       "\n",
       "                    watched_content  \n",
       "0                           [23281]  \n",
       "1      [20709, 28623, 17875, 38101]  \n",
       "2                   [31646, 467, 5]  \n",
       "3                            [9750]  \n",
       "4                                []  \n",
       "...                             ...  \n",
       "46620    [14045, 11843, 2594, 5984]  \n",
       "46621                            []  \n",
       "46622                            []  \n",
       "46623                       [24833]  \n",
       "46624                            []  \n",
       "\n",
       "[46625 rows x 4 columns]"
      ]
     },
     "execution_count": 106,
     "metadata": {},
     "output_type": "execute_result"
    }
   ],
   "source": [
    "recomms_df = pd.DataFrame(recomms_dict)\n",
    "recomms_df"
   ]
  },
  {
   "cell_type": "markdown",
   "metadata": {},
   "source": [
    "EVALUACION DE METRICAS"
   ]
  },
  {
   "cell_type": "code",
   "execution_count": 107,
   "metadata": {},
   "outputs": [
    {
     "data": {
      "text/html": [
       "<div>\n",
       "<style scoped>\n",
       "    .dataframe tbody tr th:only-of-type {\n",
       "        vertical-align: middle;\n",
       "    }\n",
       "\n",
       "    .dataframe tbody tr th {\n",
       "        vertical-align: top;\n",
       "    }\n",
       "\n",
       "    .dataframe thead th {\n",
       "        text-align: right;\n",
       "    }\n",
       "</style>\n",
       "<table border=\"1\" class=\"dataframe\">\n",
       "  <thead>\n",
       "    <tr style=\"text-align: right;\">\n",
       "      <th></th>\n",
       "      <th>user_id</th>\n",
       "      <th>ideal</th>\n",
       "      <th>recomms</th>\n",
       "    </tr>\n",
       "  </thead>\n",
       "  <tbody>\n",
       "    <tr>\n",
       "      <th>0</th>\n",
       "      <td>16</td>\n",
       "      <td>[21561, 1157]</td>\n",
       "      <td>[1535, 16498, 11757, 4224, 6547, 1575, 22319, ...</td>\n",
       "    </tr>\n",
       "    <tr>\n",
       "      <th>1</th>\n",
       "      <td>17</td>\n",
       "      <td>[8086]</td>\n",
       "      <td>[1535, 16498, 11757, 4224, 6547, 1575, 22319, ...</td>\n",
       "    </tr>\n",
       "    <tr>\n",
       "      <th>2</th>\n",
       "      <td>19</td>\n",
       "      <td>[10218, 586]</td>\n",
       "      <td>[16498, 11757, 1535, 4224, 22319, 6547, 20, 15...</td>\n",
       "    </tr>\n",
       "    <tr>\n",
       "      <th>3</th>\n",
       "      <td>21</td>\n",
       "      <td>[1889]</td>\n",
       "      <td>[1535, 16498, 11757, 4224, 20507, 6547, 1575, ...</td>\n",
       "    </tr>\n",
       "    <tr>\n",
       "      <th>4</th>\n",
       "      <td>42</td>\n",
       "      <td>[13759, 10380, 23057]</td>\n",
       "      <td>[1535, 11757, 16498, 6547, 4224, 1575, 30276, ...</td>\n",
       "    </tr>\n",
       "  </tbody>\n",
       "</table>\n",
       "</div>"
      ],
      "text/plain": [
       "   user_id                  ideal  \\\n",
       "0       16          [21561, 1157]   \n",
       "1       17                 [8086]   \n",
       "2       19           [10218, 586]   \n",
       "3       21                 [1889]   \n",
       "4       42  [13759, 10380, 23057]   \n",
       "\n",
       "                                             recomms  \n",
       "0  [1535, 16498, 11757, 4224, 6547, 1575, 22319, ...  \n",
       "1  [1535, 16498, 11757, 4224, 6547, 1575, 22319, ...  \n",
       "2  [16498, 11757, 1535, 4224, 22319, 6547, 20, 15...  \n",
       "3  [1535, 16498, 11757, 4224, 20507, 6547, 1575, ...  \n",
       "4  [1535, 11757, 16498, 6547, 4224, 1575, 30276, ...  "
      ]
     },
     "execution_count": 107,
     "metadata": {},
     "output_type": "execute_result"
    }
   ],
   "source": [
    "df_map = ideal_recomms.merge(recomms_df, how=\"left\", left_on=\"user_id\", right_on=\"user_id\")[[\"user_id\", \"anime_id\", \"recomms\"]]\n",
    "df_map.columns = [\"user_id\", \"ideal\", \"recomms\"]\n",
    "df_map.head()"
   ]
  },
  {
   "cell_type": "code",
   "execution_count": 108,
   "metadata": {},
   "outputs": [
    {
     "data": {
      "text/html": [
       "<div>\n",
       "<style scoped>\n",
       "    .dataframe tbody tr th:only-of-type {\n",
       "        vertical-align: middle;\n",
       "    }\n",
       "\n",
       "    .dataframe tbody tr th {\n",
       "        vertical-align: top;\n",
       "    }\n",
       "\n",
       "    .dataframe thead th {\n",
       "        text-align: right;\n",
       "    }\n",
       "</style>\n",
       "<table border=\"1\" class=\"dataframe\">\n",
       "  <thead>\n",
       "    <tr style=\"text-align: right;\">\n",
       "      <th></th>\n",
       "      <th>user_id</th>\n",
       "      <th>ideal</th>\n",
       "      <th>recomms</th>\n",
       "    </tr>\n",
       "  </thead>\n",
       "  <tbody>\n",
       "    <tr>\n",
       "      <th>46620</th>\n",
       "      <td>353358</td>\n",
       "      <td>[31741]</td>\n",
       "      <td>[16498, 11757, 1535, 4224, 22319, 32281, 20, 2...</td>\n",
       "    </tr>\n",
       "    <tr>\n",
       "      <th>46621</th>\n",
       "      <td>353365</td>\n",
       "      <td>[24833, 5112]</td>\n",
       "      <td>[1535, 11757, 16498, 4224, 6547, 1575, 30276, ...</td>\n",
       "    </tr>\n",
       "    <tr>\n",
       "      <th>46622</th>\n",
       "      <td>353382</td>\n",
       "      <td>[37510]</td>\n",
       "      <td>[1535, 16498, 11757, 4224, 6547, 1575, 22319, ...</td>\n",
       "    </tr>\n",
       "    <tr>\n",
       "      <th>46623</th>\n",
       "      <td>353395</td>\n",
       "      <td>[1882]</td>\n",
       "      <td>[11757, 1535, 16498, 4224, 6547, 30276, 9253, ...</td>\n",
       "    </tr>\n",
       "    <tr>\n",
       "      <th>46624</th>\n",
       "      <td>353398</td>\n",
       "      <td>[33532]</td>\n",
       "      <td>[1535, 11757, 16498, 4224, 6547, 30276, 1575, ...</td>\n",
       "    </tr>\n",
       "  </tbody>\n",
       "</table>\n",
       "</div>"
      ],
      "text/plain": [
       "       user_id          ideal  \\\n",
       "46620   353358        [31741]   \n",
       "46621   353365  [24833, 5112]   \n",
       "46622   353382        [37510]   \n",
       "46623   353395         [1882]   \n",
       "46624   353398        [33532]   \n",
       "\n",
       "                                                 recomms  \n",
       "46620  [16498, 11757, 1535, 4224, 22319, 32281, 20, 2...  \n",
       "46621  [1535, 11757, 16498, 4224, 6547, 1575, 30276, ...  \n",
       "46622  [1535, 16498, 11757, 4224, 6547, 1575, 22319, ...  \n",
       "46623  [11757, 1535, 16498, 4224, 6547, 30276, 9253, ...  \n",
       "46624  [1535, 11757, 16498, 4224, 6547, 30276, 1575, ...  "
      ]
     },
     "execution_count": 108,
     "metadata": {},
     "output_type": "execute_result"
    }
   ],
   "source": [
    "df_map.tail()"
   ]
  },
  {
   "cell_type": "code",
   "execution_count": 109,
   "metadata": {},
   "outputs": [],
   "source": [
    "aps = [] # lista vacía para ir almacenando la AP de cada recomendación\n",
    "\n",
    "for pred, label in df_map[[\"ideal\", \"recomms\"]].values:\n",
    "  n = len(pred) # cantidad de elementos recomendados\n",
    "  arange = np.arange(n, dtype=np.int32) + 1. # indexamos en base 1 \n",
    "  rel_k = np.in1d(pred[:n], label) # lista de booleanos que indican la relevancia de cada ítem\n",
    "  tp = np.ones(rel_k.sum(), dtype=np.int32).cumsum() # lista con el contador de verdaderos positivos\n",
    "  denom = arange[rel_k] # posiciones donde se encuentran los ítems relantes\n",
    "  ap = (tp / denom).sum() / len(label) # average precision\n",
    "  aps.append(ap)"
   ]
  },
  {
   "cell_type": "code",
   "execution_count": 110,
   "metadata": {},
   "outputs": [
    {
     "name": "stdout",
     "output_type": "stream",
     "text": [
      "mean average precision = 0.00275\n"
     ]
    }
   ],
   "source": [
    "MAP = np.mean(aps)\n",
    "print(f'mean average precision = {round(MAP, 5)}')"
   ]
  },
  {
   "cell_type": "markdown",
   "metadata": {},
   "source": [
    "IDEA: QUEDARME CON LOS USUARIOS QUE MAYOR CANTIDAD DE ANIMES VIERON Y ENTRENAR UN MODELO SOLO CON ESOS USUARIOS"
   ]
  },
  {
   "cell_type": "code",
   "execution_count": 111,
   "metadata": {},
   "outputs": [
    {
     "data": {
      "text/html": [
       "<div>\n",
       "<style scoped>\n",
       "    .dataframe tbody tr th:only-of-type {\n",
       "        vertical-align: middle;\n",
       "    }\n",
       "\n",
       "    .dataframe tbody tr th {\n",
       "        vertical-align: top;\n",
       "    }\n",
       "\n",
       "    .dataframe thead th {\n",
       "        text-align: right;\n",
       "    }\n",
       "</style>\n",
       "<table border=\"1\" class=\"dataframe\">\n",
       "  <thead>\n",
       "    <tr style=\"text-align: right;\">\n",
       "      <th></th>\n",
       "      <th>user_id</th>\n",
       "      <th>anime_id</th>\n",
       "      <th>rating</th>\n",
       "    </tr>\n",
       "  </thead>\n",
       "  <tbody>\n",
       "    <tr>\n",
       "      <th>0</th>\n",
       "      <td>0</td>\n",
       "      <td>430</td>\n",
       "      <td>9</td>\n",
       "    </tr>\n",
       "    <tr>\n",
       "      <th>1</th>\n",
       "      <td>0</td>\n",
       "      <td>1004</td>\n",
       "      <td>5</td>\n",
       "    </tr>\n",
       "    <tr>\n",
       "      <th>2</th>\n",
       "      <td>0</td>\n",
       "      <td>3010</td>\n",
       "      <td>7</td>\n",
       "    </tr>\n",
       "    <tr>\n",
       "      <th>3</th>\n",
       "      <td>0</td>\n",
       "      <td>570</td>\n",
       "      <td>7</td>\n",
       "    </tr>\n",
       "    <tr>\n",
       "      <th>4</th>\n",
       "      <td>0</td>\n",
       "      <td>2762</td>\n",
       "      <td>9</td>\n",
       "    </tr>\n",
       "  </tbody>\n",
       "</table>\n",
       "</div>"
      ],
      "text/plain": [
       "   user_id  anime_id  rating\n",
       "0        0       430       9\n",
       "1        0      1004       5\n",
       "2        0      3010       7\n",
       "3        0       570       7\n",
       "4        0      2762       9"
      ]
     },
     "execution_count": 111,
     "metadata": {},
     "output_type": "execute_result"
    }
   ],
   "source": [
    "rating_complete.head()"
   ]
  },
  {
   "cell_type": "code",
   "execution_count": 128,
   "metadata": {},
   "outputs": [
    {
     "data": {
      "text/plain": [
       "(57633278, 3)"
      ]
     },
     "execution_count": 128,
     "metadata": {},
     "output_type": "execute_result"
    }
   ],
   "source": [
    "rating_complete.shape"
   ]
  },
  {
   "cell_type": "code",
   "execution_count": 130,
   "metadata": {},
   "outputs": [
    {
     "data": {
      "text/plain": [
       "310059"
      ]
     },
     "execution_count": 130,
     "metadata": {},
     "output_type": "execute_result"
    }
   ],
   "source": [
    "rating_complete.user_id.nunique()"
   ]
  },
  {
   "cell_type": "code",
   "execution_count": 131,
   "metadata": {},
   "outputs": [
    {
     "data": {
      "text/plain": [
       "user_id\n",
       "0          35\n",
       "1         103\n",
       "2          51\n",
       "3         315\n",
       "4         118\n",
       "         ... \n",
       "353400     67\n",
       "353401     62\n",
       "353402     19\n",
       "353403     67\n",
       "353404     30\n",
       "Name: anime_id, Length: 310059, dtype: int64"
      ]
     },
     "execution_count": 131,
     "metadata": {},
     "output_type": "execute_result"
    }
   ],
   "source": [
    "# Calculamos la cantidad de animes vistos por cada usuario\n",
    "anime_count_by_user = rating_complete.groupby('user_id')['anime_id'].count()\n",
    "anime_count_by_user"
   ]
  },
  {
   "cell_type": "code",
   "execution_count": 118,
   "metadata": {},
   "outputs": [
    {
     "name": "stdout",
     "output_type": "stream",
     "text": [
      "Usuarios ordenados por cantidad de animes vistos:\n",
      "        user_id  amount_animes_watched\n",
      "0        189037                  15455\n",
      "1        162615                  14864\n",
      "2         68042                  13462\n",
      "3        283786                  12778\n",
      "4        259790                   9996\n",
      "...         ...                    ...\n",
      "310054   201316                      1\n",
      "310055   201300                      1\n",
      "310056    97555                      1\n",
      "310057   201293                      1\n",
      "310058   137466                      1\n",
      "\n",
      "[310059 rows x 2 columns]\n"
     ]
    }
   ],
   "source": [
    "# Ordena los datos en orden descendente\n",
    "anime_count_by_user_sorted = anime_count_by_user.sort_values(ascending=False)\n",
    "\n",
    "# Convierte la serie ordenada en un nuevo DataFrame\n",
    "df_anime_count_sorted = pd.DataFrame({'user_id': anime_count_by_user_sorted.index, 'amount_animes_watched': anime_count_by_user_sorted.values})\n",
    "\n",
    "# Imprime el DataFrame ordenado\n",
    "print(\"Usuarios ordenados por cantidad de animes vistos:\")\n",
    "print(df_anime_count_sorted)"
   ]
  },
  {
   "cell_type": "code",
   "execution_count": 119,
   "metadata": {},
   "outputs": [
    {
     "data": {
      "text/plain": [
       "(310059, 2)"
      ]
     },
     "execution_count": 119,
     "metadata": {},
     "output_type": "execute_result"
    }
   ],
   "source": [
    "df_anime_count_sorted.shape"
   ]
  },
  {
   "cell_type": "code",
   "execution_count": 139,
   "metadata": {},
   "outputs": [
    {
     "data": {
      "text/html": [
       "<div>\n",
       "<style scoped>\n",
       "    .dataframe tbody tr th:only-of-type {\n",
       "        vertical-align: middle;\n",
       "    }\n",
       "\n",
       "    .dataframe tbody tr th {\n",
       "        vertical-align: top;\n",
       "    }\n",
       "\n",
       "    .dataframe thead th {\n",
       "        text-align: right;\n",
       "    }\n",
       "</style>\n",
       "<table border=\"1\" class=\"dataframe\">\n",
       "  <thead>\n",
       "    <tr style=\"text-align: right;\">\n",
       "      <th></th>\n",
       "      <th>user_id</th>\n",
       "      <th>amount_animes_watched</th>\n",
       "    </tr>\n",
       "  </thead>\n",
       "  <tbody>\n",
       "    <tr>\n",
       "      <th>0</th>\n",
       "      <td>189037</td>\n",
       "      <td>15455</td>\n",
       "    </tr>\n",
       "    <tr>\n",
       "      <th>1</th>\n",
       "      <td>162615</td>\n",
       "      <td>14864</td>\n",
       "    </tr>\n",
       "    <tr>\n",
       "      <th>2</th>\n",
       "      <td>68042</td>\n",
       "      <td>13462</td>\n",
       "    </tr>\n",
       "    <tr>\n",
       "      <th>3</th>\n",
       "      <td>283786</td>\n",
       "      <td>12778</td>\n",
       "    </tr>\n",
       "    <tr>\n",
       "      <th>4</th>\n",
       "      <td>259790</td>\n",
       "      <td>9996</td>\n",
       "    </tr>\n",
       "    <tr>\n",
       "      <th>...</th>\n",
       "      <td>...</td>\n",
       "      <td>...</td>\n",
       "    </tr>\n",
       "    <tr>\n",
       "      <th>995</th>\n",
       "      <td>325019</td>\n",
       "      <td>1673</td>\n",
       "    </tr>\n",
       "    <tr>\n",
       "      <th>996</th>\n",
       "      <td>12044</td>\n",
       "      <td>1671</td>\n",
       "    </tr>\n",
       "    <tr>\n",
       "      <th>997</th>\n",
       "      <td>332795</td>\n",
       "      <td>1671</td>\n",
       "    </tr>\n",
       "    <tr>\n",
       "      <th>998</th>\n",
       "      <td>222269</td>\n",
       "      <td>1671</td>\n",
       "    </tr>\n",
       "    <tr>\n",
       "      <th>999</th>\n",
       "      <td>73059</td>\n",
       "      <td>1670</td>\n",
       "    </tr>\n",
       "  </tbody>\n",
       "</table>\n",
       "<p>1000 rows × 2 columns</p>\n",
       "</div>"
      ],
      "text/plain": [
       "     user_id  amount_animes_watched\n",
       "0     189037                  15455\n",
       "1     162615                  14864\n",
       "2      68042                  13462\n",
       "3     283786                  12778\n",
       "4     259790                   9996\n",
       "..       ...                    ...\n",
       "995   325019                   1673\n",
       "996    12044                   1671\n",
       "997   332795                   1671\n",
       "998   222269                   1671\n",
       "999    73059                   1670\n",
       "\n",
       "[1000 rows x 2 columns]"
      ]
     },
     "execution_count": 139,
     "metadata": {},
     "output_type": "execute_result"
    }
   ],
   "source": [
    "df_100000 = df_anime_count_sorted.head(1000)\n",
    "df_100000"
   ]
  },
  {
   "cell_type": "markdown",
   "metadata": {},
   "source": [
    "Supongamos que me quedo con los 100.000 usuarios que mayor cantidad de animes vieron, veamos el tamaño del set de datos original, filtrado segun estos usuarios."
   ]
  },
  {
   "cell_type": "code",
   "execution_count": 140,
   "metadata": {},
   "outputs": [
    {
     "data": {
      "text/html": [
       "<div>\n",
       "<style scoped>\n",
       "    .dataframe tbody tr th:only-of-type {\n",
       "        vertical-align: middle;\n",
       "    }\n",
       "\n",
       "    .dataframe tbody tr th {\n",
       "        vertical-align: top;\n",
       "    }\n",
       "\n",
       "    .dataframe thead th {\n",
       "        text-align: right;\n",
       "    }\n",
       "</style>\n",
       "<table border=\"1\" class=\"dataframe\">\n",
       "  <thead>\n",
       "    <tr style=\"text-align: right;\">\n",
       "      <th></th>\n",
       "      <th>user_id</th>\n",
       "      <th>anime_id</th>\n",
       "      <th>rating</th>\n",
       "    </tr>\n",
       "  </thead>\n",
       "  <tbody>\n",
       "    <tr>\n",
       "      <th>0</th>\n",
       "      <td>0</td>\n",
       "      <td>430</td>\n",
       "      <td>9</td>\n",
       "    </tr>\n",
       "    <tr>\n",
       "      <th>1</th>\n",
       "      <td>0</td>\n",
       "      <td>1004</td>\n",
       "      <td>5</td>\n",
       "    </tr>\n",
       "    <tr>\n",
       "      <th>2</th>\n",
       "      <td>0</td>\n",
       "      <td>3010</td>\n",
       "      <td>7</td>\n",
       "    </tr>\n",
       "    <tr>\n",
       "      <th>3</th>\n",
       "      <td>0</td>\n",
       "      <td>570</td>\n",
       "      <td>7</td>\n",
       "    </tr>\n",
       "    <tr>\n",
       "      <th>4</th>\n",
       "      <td>0</td>\n",
       "      <td>2762</td>\n",
       "      <td>9</td>\n",
       "    </tr>\n",
       "  </tbody>\n",
       "</table>\n",
       "</div>"
      ],
      "text/plain": [
       "   user_id  anime_id  rating\n",
       "0        0       430       9\n",
       "1        0      1004       5\n",
       "2        0      3010       7\n",
       "3        0       570       7\n",
       "4        0      2762       9"
      ]
     },
     "execution_count": 140,
     "metadata": {},
     "output_type": "execute_result"
    }
   ],
   "source": [
    "rating_complete.head()"
   ]
  },
  {
   "cell_type": "markdown",
   "metadata": {},
   "source": [
    "Unimos ambos set de datos:"
   ]
  },
  {
   "cell_type": "code",
   "execution_count": 141,
   "metadata": {},
   "outputs": [
    {
     "name": "stdout",
     "output_type": "stream",
     "text": [
      "Usuarios con 'user_id' en común:\n",
      "         user_id  anime_id  rating  amount_animes_watched\n",
      "0            781     10122       6                   3062\n",
      "1            781       851      10                   3062\n",
      "2            781     15005       8                   3062\n",
      "3            781     34955       5                   3062\n",
      "4            781     20603       7                   3062\n",
      "...          ...       ...     ...                    ...\n",
      "2475590   352930       671       7                   2300\n",
      "2475591   352930      1017       8                   2300\n",
      "2475592   352930     10465       6                   2300\n",
      "2475593   352930     10845       6                   2300\n",
      "2475594   352930     14045       7                   2300\n",
      "\n",
      "[2475595 rows x 4 columns]\n"
     ]
    }
   ],
   "source": [
    "# Realiza la unión utilizando 'user_id' como clave y 'inner' como método\n",
    "merged_df = pd.merge(rating_complete, df_100000, on='user_id', how='inner')\n",
    "\n",
    "# Imprime el DataFrame resultante\n",
    "print(\"Usuarios con 'user_id' en común:\")\n",
    "print(merged_df)"
   ]
  },
  {
   "cell_type": "code",
   "execution_count": 142,
   "metadata": {},
   "outputs": [
    {
     "data": {
      "text/plain": [
       "(2475595, 4)"
      ]
     },
     "execution_count": 142,
     "metadata": {},
     "output_type": "execute_result"
    }
   ],
   "source": [
    "merged_df.shape"
   ]
  }
 ],
 "metadata": {
  "kernelspec": {
   "display_name": "Python 3",
   "language": "python",
   "name": "python3"
  },
  "language_info": {
   "codemirror_mode": {
    "name": "ipython",
    "version": 3
   },
   "file_extension": ".py",
   "mimetype": "text/x-python",
   "name": "python",
   "nbconvert_exporter": "python",
   "pygments_lexer": "ipython3",
   "version": "3.11.4"
  }
 },
 "nbformat": 4,
 "nbformat_minor": 2
}
